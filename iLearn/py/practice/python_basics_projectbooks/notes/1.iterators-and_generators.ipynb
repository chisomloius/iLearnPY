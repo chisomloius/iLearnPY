{
 "cells": [
  {
   "cell_type": "code",
   "execution_count": null,
   "id": "113dbc37-1f79-4635-b3ff-257423e7c106",
   "metadata": {},
   "outputs": [],
   "source": [
    "Image of Tech Origin at Top left\n",
    "Link to Github Link, link to Colab "
   ]
  },
  {
   "cell_type": "code",
   "execution_count": null,
   "id": "eea9fc73-f019-4690-ad90-78b6e1f3a22b",
   "metadata": {},
   "outputs": [],
   "source": [
    "Title:"
   ]
  },
  {
   "cell_type": "code",
   "execution_count": null,
   "id": "4e85007d-35d3-40c8-b63e-f2a1ac6ad4be",
   "metadata": {},
   "outputs": [],
   "source": [
    "Table of Contents"
   ]
  },
  {
   "cell_type": "code",
   "execution_count": null,
   "id": "693974bb-44fc-40c0-9974-be93143bb776",
   "metadata": {},
   "outputs": [],
   "source": [
    "Content"
   ]
  },
  {
   "cell_type": "code",
   "execution_count": null,
   "id": "95e87ce1-ea2f-4832-9673-f7328b33ff69",
   "metadata": {},
   "outputs": [],
   "source": [
    "After Thoughts on Lessons ???"
   ]
  },
  {
   "cell_type": "code",
   "execution_count": null,
   "id": "68f63f88-9768-4371-bf02-f66858109477",
   "metadata": {},
   "outputs": [],
   "source": [
    "Assignment Link"
   ]
  },
  {
   "cell_type": "code",
   "execution_count": null,
   "id": "1df0436e-4f23-4cc3-a73e-4c14b8d2259b",
   "metadata": {},
   "outputs": [],
   "source": [
    "Author's page"
   ]
  },
  {
   "cell_type": "code",
   "execution_count": null,
   "id": "dace1b48-724d-4de3-9aaa-f01e8f61546f",
   "metadata": {},
   "outputs": [],
   "source": [
    "Copyright message\n",
    "Website link, Message"
   ]
  }
 ],
 "metadata": {
  "kernelspec": {
   "display_name": "Python 3 (ipykernel)",
   "language": "python",
   "name": "python3"
  },
  "language_info": {
   "codemirror_mode": {
    "name": "ipython",
    "version": 3
   },
   "file_extension": ".py",
   "mimetype": "text/x-python",
   "name": "python",
   "nbconvert_exporter": "python",
   "pygments_lexer": "ipython3",
   "version": "3.8.3"
  }
 },
 "nbformat": 4,
 "nbformat_minor": 5
}
