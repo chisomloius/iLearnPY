{
 "cells": [
  {
   "cell_type": "markdown",
   "id": "12156dc4-f4a5-4008-aabe-41bba87d54ce",
   "metadata": {
    "tags": []
   },
   "source": [
    "<div>\n",
    "<p style=\"text-align:center\"><img src=\"../images/logo.png\" width=\"200\" heigth=\"200\" /></p>\n",
    "</div>\n",
    "\n",
    "# Intro\n",
    "\n",
    "You can access this notebook on: \n",
    "[colab](https://colab.com/py/), [github](https://github.com/chisomloius/iLearnPy/), [kaggle](https://kaggle.com/chisomloius/ilearnPy/), [medium](https://medium.com/@chisomloius/ilearnPy/), [web](https://chisomloius.github.io), [zindi](https://zindi.com/@chisomloius/ilearnPy/)"
   ]
  },
  {
   "cell_type": "markdown",
   "id": "1284e06c-7371-4b28-8f7c-8dc93e1dce5c",
   "metadata": {},
   "source": [
    "# Table of Contents\n",
    "\n",
    "### Click on the links to go directly to specific sections on  the notebook.\n",
    "\n",
    "\n",
    "\n",
    "\n",
    "1. [Variable](#variable)\n",
    "<br>\n",
    "2. [Strings](#strings)\n",
    "<br>\n",
    "3. [Object Types](#object-types)\n",
    "<br>\n",
    "4. [Type Casting](#type-casting)\n",
    "<br> \n",
    "5. [About Author](#about)\n",
    "<br> \n",
    "6. [More Info](#more-info)\n",
    "<br>\n",
    "<p>Estimated time needed: <strong>25 min</strong></p>\n",
    "\n",
    "----\n"
   ]
  },
  {
   "cell_type": "markdown",
   "id": "9d14319f-c7ab-47ac-94b7-4daa97843e64",
   "metadata": {},
   "source": [
    "#### Python - Let's get practicing with some Python Code now!</h1>\n",
    "<p><strong>Welcome!</strong> This notebook will teach you the how to write basics  Python programming language.</p> "
   ]
  },
  {
   "cell_type": "markdown",
   "id": "29298127-fbb4-49f2-abb8-75a7abc9bd11",
   "metadata": {},
   "source": [
    "#### Does Python know about your error before it runs your code?"
   ]
  },
  {
   "cell_type": "markdown",
   "id": "73956c87-6c8d-44a3-b45c-dbaf5ff370f9",
   "metadata": {},
   "source": [
    "<div class=\"alert alert-block alert-info\" style=\"margin-top: 20px\">\n",
    "<a id='variables'></a>\n",
    "    \n",
    "### Variables\n",
    "</div>"
   ]
  },
  {
   "cell_type": "code",
   "execution_count": null,
   "id": "754072cc-a1d0-4271-99cb-2f1577d3a65c",
   "metadata": {},
   "outputs": [],
   "source": []
  },
  {
   "cell_type": "markdown",
   "id": "2164b8f1-a11a-43a4-88d6-7aa0511207d1",
   "metadata": {},
   "source": [
    "<div class=\"alert alert-block alert-info\" style=\"margin-top: 20px\">\n",
    "<a id='strings'></a>\n",
    "    \n",
    "### Strings\n",
    "</div>"
   ]
  },
  {
   "cell_type": "code",
   "execution_count": null,
   "id": "ae7224d3-e1ad-4669-92ba-991e8618fa9d",
   "metadata": {},
   "outputs": [],
   "source": []
  },
  {
   "cell_type": "markdown",
   "id": "5562bda4-1f87-4488-ab49-772926392ed3",
   "metadata": {},
   "source": [
    "<div class=\"alert alert-block alert-info\" style=\"margin-top: 20px\">\n",
    "<a id='object-types'></a>\n",
    "    \n",
    "### Object Types\n",
    "</div>"
   ]
  },
  {
   "cell_type": "code",
   "execution_count": null,
   "id": "af0d3ef3-74ce-474b-a7f0-ffec0891edb2",
   "metadata": {},
   "outputs": [],
   "source": []
  },
  {
   "cell_type": "markdown",
   "id": "79cd7cc3-f31e-4664-8e8e-cdc7230f865e",
   "metadata": {},
   "source": [
    "<div class=\"alert alert-block alert-info\" style=\"margin-top: 20px\">\n",
    "<a id='type-casting'></a>\n",
    "    \n",
    "### Type Casting\n",
    "</div>"
   ]
  },
  {
   "cell_type": "code",
   "execution_count": null,
   "id": "893744d6-85ae-4a6f-983a-77e35349d523",
   "metadata": {},
   "outputs": [],
   "source": []
  },
  {
   "cell_type": "markdown",
   "id": "7165d1d9-881f-46f6-82c8-b627e127c6b8",
   "metadata": {},
   "source": [
    "<div class=\"alert alert-block alert-info\" style=\"margin-top: 20px\">\n",
    "<a id='about'></a>\n",
    "    \n",
    "### About this Instructor\n",
    "</div>\n",
    "<p><a href=\"https://github.com/chisomloius/\" target= \"_blank\"> ChisomLoius</a> is very passionate about Data Analysis and Machine Learning and does lot of free lance teaching and learning. Holding a B.Eng. in Petroleum Engineering, my focused is leveraging the knowledge of Data Science and Machine Learning to help build solutions in Education and High Tech Security. I currently work as a Petrochemist.\n",
    "</p>"
   ]
  },
  {
   "cell_type": "markdown",
   "id": "535dfbea-55fd-4444-b108-279dfe68b6be",
   "metadata": {},
   "source": [
    "<div class=\"alert alert-block alert-info\" style=\"margin-top: 20px\">\n",
    "<a id='more-info'></a>\n",
    "    \n",
    "### More Info\n",
    "</div>"
   ]
  },
  {
   "cell_type": "markdown",
   "id": "67671117-a6c5-4577-a0bb-c50c87050d6e",
   "metadata": {},
   "source": [
    "<p> Visit our <a href=\"https://chisomloius.io\" target= \"_blank\">website</a>, or further enquire more information via our <a href=\"talks@chisomloius.io\" target= \"_blank\">email</a>. \n",
    "<hr>\n",
    "<p>Copyright &copy; 2022 Chisomloius. This notebook and its source code are released under the terms of the <a href=\"https://cognitiveclass.ai/mit-license/\">MIT License</a>.</p>"
   ]
  }
 ],
 "metadata": {
  "kernelspec": {
   "display_name": "Python 3 (ipykernel)",
   "language": "python",
   "name": "python3"
  },
  "language_info": {
   "codemirror_mode": {
    "name": "ipython",
    "version": 3
   },
   "file_extension": ".py",
   "mimetype": "text/x-python",
   "name": "python",
   "nbconvert_exporter": "python",
   "pygments_lexer": "ipython3",
   "version": "3.8.3"
  }
 },
 "nbformat": 4,
 "nbformat_minor": 5
}
