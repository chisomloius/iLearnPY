{
 "cells": [
  {
   "cell_type": "markdown",
   "id": "2d5ace0d-cf45-466e-bbd4-1d31da2bc48e",
   "metadata": {},
   "source": [
    "<div>\n",
    "<p style=\"text-align:center\"><img src=\"../images/logo.png\" width=\"300\" /></p>\n",
    "</div>\n",
    "# OOP & ORM\n",
    "\n",
    "### You can access this notebook on: \n",
    "[colab](https://colab.com/py/), [github](https://github.com/chisomloius/iLearnPy/), [kaggle](https://kaggle.com/chisomloius/ilearnPy/), [medium](https://medium.com/@chisomloius/ilearnPy/), [web](https://chisomloius.github.io), [zindi](https://zindi.com/@chisomloius/ilearnPy/)"
   ]
  },
  {
   "cell_type": "markdown",
   "id": "17cdb754-97c6-4950-b837-0e118916e0bf",
   "metadata": {},
   "source": [
    "# Table of Contents\n",
    "\n",
    "### Click on the links to go directly to specific sections on  the notebook.\n",
    "\n",
    "\n",
    "1. [Import Dependencies](#dependencies)\n",
    "<br>\n",
    "2. [Python Syntax](#python-syntax)\n",
    "<br>\n",
    "3. [Variable ](#variable)\n",
    "<br>\n",
    "4. [Numbers](#numbers)\n",
    "<br>\n",
    "5. [Type Casting](#type-casting)\n",
    "<br>\n",
    "6. [Assignment Link](#assignment-link)\n",
    "<br>\n",
    "7. [After Thoughts](#after-thoughts)\n",
    "<br> \n",
    "8. [About Author](#about)\n",
    "<br> \n",
    "9. [More Info](#more-info)\n",
    "<br>\n",
    "<p>Estimated time needed: <strong>25 min</strong></p>\n",
    "\n",
    "----\n"
   ]
  },
  {
   "cell_type": "markdown",
   "id": "98a98dca-8585-4e52-8179-ab8b756276e8",
   "metadata": {},
   "source": [
    "### Python - Let's get you writing some Python Code now!</h1>\n",
    "<p><strong>Welcome!</strong> This notebook will teach you the basics of the Python programming language. Although the information presented here is quite basic, it is an important foundation that will help you read and write Python code. By the end of this notebook, you'll know the basics of Python, including how to write basic commands, understand some basic types, and how to perform simple operations on them.</p> "
   ]
  },
  {
   "cell_type": "markdown",
   "id": "766fe8d4-121b-4c4e-8f16-c3b18bdc75b6",
   "metadata": {},
   "source": [
    "<div class=\"alert alert-block alert-info\" style=\"margin-top: 20px\">\n",
    "<a id='dependencies'></a>\n",
    "    \n",
    "### Import Dependencies \n",
    "</div>"
   ]
  },
  {
   "cell_type": "code",
   "execution_count": null,
   "id": "ec4b4d97-bf75-48df-967f-e149e447adc6",
   "metadata": {},
   "outputs": [],
   "source": []
  },
  {
   "cell_type": "markdown",
   "id": "51d3bbba-3fb9-472c-98de-403f1c864c72",
   "metadata": {},
   "source": [
    "<div class=\"alert alert-block alert-info\" style=\"margin-top: 20px\">\n",
    "<a id='python-syntax'></a>\n",
    "    \n",
    "### Python Syntax \n",
    "</div>"
   ]
  },
  {
   "cell_type": "code",
   "execution_count": null,
   "id": "dcd0d13d-659e-461c-8e76-5ef2f9336176",
   "metadata": {},
   "outputs": [],
   "source": []
  },
  {
   "cell_type": "markdown",
   "id": "6a33d2d8-3f46-4a3c-af34-7589c16a9179",
   "metadata": {},
   "source": [
    "<div class=\"alert alert-block alert-info\" style=\"margin-top: 20px\">\n",
    "<a id='variables'></a>\n",
    "    \n",
    "### Variables\n",
    "</div>"
   ]
  },
  {
   "cell_type": "code",
   "execution_count": null,
   "id": "5518b798-70e6-4004-9d85-0aaaa1acc253",
   "metadata": {},
   "outputs": [],
   "source": []
  },
  {
   "cell_type": "markdown",
   "id": "4d4daffb-34f2-4cff-934d-4fffb174b66c",
   "metadata": {},
   "source": [
    "<div class=\"alert alert-block alert-info\" style=\"margin-top: 20px\">\n",
    "<a id='strings'></a>\n",
    "    \n",
    "### Strings\n",
    "</div>"
   ]
  },
  {
   "cell_type": "code",
   "execution_count": null,
   "id": "23f6c7ee-5db2-4431-b834-24ca8d76a0a8",
   "metadata": {},
   "outputs": [],
   "source": []
  },
  {
   "cell_type": "markdown",
   "id": "85a97488-0218-420d-aad7-b06ad2f5425a",
   "metadata": {},
   "source": [
    "<div class=\"alert alert-block alert-info\" style=\"margin-top: 20px\">\n",
    "<a id='numbers'></a>\n",
    "    \n",
    "### Numbers\n",
    "</div>"
   ]
  },
  {
   "cell_type": "code",
   "execution_count": null,
   "id": "12623ae3-266a-4441-a76c-4dd29faf23b4",
   "metadata": {},
   "outputs": [],
   "source": []
  },
  {
   "cell_type": "markdown",
   "id": "54060590-e75d-4791-997e-fac0ad3bc0ac",
   "metadata": {},
   "source": [
    "<div class=\"alert alert-block alert-info\" style=\"margin-top: 20px\">\n",
    "<a id='type-casting'></a>\n",
    "    \n",
    "### Type Casting\n",
    "</div>\n"
   ]
  },
  {
   "cell_type": "code",
   "execution_count": null,
   "id": "1930629b-571e-447d-ba20-bc1fadd51b7c",
   "metadata": {},
   "outputs": [],
   "source": []
  },
  {
   "cell_type": "markdown",
   "id": "15f8327a-47ce-40e8-82d2-272b7ad18081",
   "metadata": {},
   "source": [
    "<div class=\"alert alert-block alert-info\" style=\"margin-top: 20px\">\n",
    "<a id='assignment-link'></a>\n",
    "\n",
    "### Assignment Link\n",
    "\n",
    "</div>"
   ]
  },
  {
   "cell_type": "markdown",
   "id": "91ffd7bd-4c58-4e5b-b06b-8084422539b2",
   "metadata": {},
   "source": [
    "Now we would try out some practical examples with what we have learnt so far ! Let us try out this [notebook](https://typei.com)"
   ]
  },
  {
   "cell_type": "markdown",
   "id": "a1bc584d-38f6-4e90-8cbb-4fdf64300812",
   "metadata": {},
   "source": [
    "<div class=\"alert alert-block alert-info\" style=\"margin-top: 20px\">\n",
    "<a id='after-thoughts'></a>\n",
    "    \n",
    "### After Thoughts ??\n",
    "</div>"
   ]
  },
  {
   "cell_type": "markdown",
   "id": "7d8f6414-0ade-4d76-b671-c2f291688f22",
   "metadata": {},
   "source": []
  },
  {
   "cell_type": "markdown",
   "id": "8569a363-aa0f-43ce-ac89-c2f5d27d6dc1",
   "metadata": {},
   "source": [
    "<div class=\"alert alert-block alert-info\" style=\"margin-top: 20px\">\n",
    "<a id='about'></a>\n",
    "    \n",
    "### About this Instructor:\n",
    "</div>\n",
    "<p><a href=\"https://github.com/chisomloius/\" target= \"_blank\"> ChisomLoius</a> is very passionate about Data Analysis and Machine Learning and does lot of free lance teaching and learning. Holding a B.Eng. in Petroleum Engineering, my focused is leveraging the knowledge of Data Science and Machine Learning to help build solutions in Education and High Tech Security. I currently work as a Petrochemist.\n",
    "</p>"
   ]
  },
  {
   "cell_type": "markdown",
   "id": "bb2a500a-192f-42e2-a71e-94cdfd3ff1b5",
   "metadata": {},
   "source": [
    "<div class=\"alert alert-block alert-info\" style=\"margin-top: 20px\">\n",
    "<a id='more-info'></a>\n",
    "    \n",
    "### More Info\n",
    "</div>"
   ]
  },
  {
   "cell_type": "markdown",
   "id": "f854c008-98a2-4c29-9070-20fa04991ff4",
   "metadata": {},
   "source": [
    "\n",
    "<p> Visit our <a href=\"https://techorigin.alisutechnology.com\" target= \"_blank\">website</a>, or further enquire more information via our <a href=\"info@techorigin.alisutechnology.com\" target= \"_blank\">email</a>. \n",
    "<hr>\n",
    "<p>Copyright &copy; 2021 TechOrigin. This notebook and its source code are released under the terms of the <a href=\"https://cognitiveclass.ai/mit-license/\">MIT License</a>.</p>"
   ]
  }
 ],
 "metadata": {
  "kernelspec": {
   "display_name": "Python 3 (ipykernel)",
   "language": "python",
   "name": "python3"
  },
  "language_info": {
   "codemirror_mode": {
    "name": "ipython",
    "version": 3
   },
   "file_extension": ".py",
   "mimetype": "text/x-python",
   "name": "python",
   "nbconvert_exporter": "python",
   "pygments_lexer": "ipython3",
   "version": "3.8.3"
  }
 },
 "nbformat": 4,
 "nbformat_minor": 5
}
