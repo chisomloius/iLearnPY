{
 "cells": [
  {
   "cell_type": "markdown",
   "id": "12156dc4-f4a5-4008-aabe-41bba87d54ce",
   "metadata": {
    "tags": []
   },
   "source": [
    "![logo.png](image/logo.png)\n",
    "# Intro\n",
    "\n",
    "### You can access this notebook on: \n",
    "[colab](https://colab.com/py/), [github](https://github.com/chisomloius/iLearnPy/), [kaggle](https://kaggle.com/chisomloius/ilearnPy/), [medium](https://medium.com/@chisomloius/ilearnPy/), [web](https://chisomloius.github.io), [zindi](https://zindi.com/@chisomloius/ilearnPy/)"
   ]
  },
  {
   "cell_type": "markdown",
   "id": "1284e06c-7371-4b28-8f7c-8dc93e1dce5c",
   "metadata": {},
   "source": [
    "# Table of Contents\n",
    "\n",
    "### Click on the links to go directly to specific sections on  the notebook.\n",
    "\n",
    "\n",
    "1. [Import Dependencies](#dependencies)\n",
    "<br>\n",
    "2. [Python Syntax](#python-syntax)\n",
    "<br>\n",
    "3. [Variable ](#variable)\n",
    "<br>\n",
    "4. [Object Types](#object-types)\n",
    "<br>\n",
    "5. [Type Casting](#type-casting)\n",
    "<br>\n",
    "6. [Assignment Link](#assignment-link)\n",
    "<br>\n",
    "7. [After Thoughts](#after-thoughts)\n",
    "<br> \n",
    "8. [About Author](#about)\n",
    "<br> \n",
    "9. [More Info](#more-info)\n",
    "<br>\n",
    "<p>Estimated time needed: <strong>25 mi</strong></p>\n",
    "\n",
    "----\n"
   ]
  },
  {
   "cell_type": "markdown",
   "id": "9d14319f-c7ab-47ac-94b7-4daa97843e64",
   "metadata": {},
   "source": [
    "#### Python - Let's get you writing some Python Code now!</h1>\n",
    "<p><strong>Welcome!</strong> This notebook will teach you the basics of the Python programming language. Although the information presented here is quite basic, it is an important foundation that will help you read and write Python code. By the end of this notebook, you'll know the basics of Python, including how to write basic commands, understand some basic types, and how to perform simple operations on them.</p> "
   ]
  },
  {
   "cell_type": "markdown",
   "id": "29298127-fbb4-49f2-abb8-75a7abc9bd11",
   "metadata": {},
   "source": [
    "#### Does Python know about your error before it runs your code?"
   ]
  },
  {
   "cell_type": "markdown",
   "id": "2d7a9051-9d78-4d22-b7b7-8ccc9cb25123",
   "metadata": {},
   "source": [
    "Python is what is called an <em>interpreted language</em>. Compiled languages examine your entire program at compile time, and are able to warn you about a whole class of errors prior to execution. In contrast, Python interprets your script line by line as it executes it. Python will stop executing the entire program when it encounters an error (unless the error is expected and handled by the programmer, a more advanced subject that we'll cover later on in this course)."
   ]
  },
  {
   "cell_type": "markdown",
   "id": "9c0ada4e-891e-492d-9732-837d7b8c82dd",
   "metadata": {},
   "source": [
    "<div class=\"alert alert-block alert-info\" style=\"margin-top: 20px\">\n",
    "<a id='dependencies'></a>\n",
    "    \n",
    "### Import Dependencies \n",
    "</div>"
   ]
  },
  {
   "cell_type": "markdown",
   "id": "8c7d6f1a-d4c5-493c-ab61-0241da0e5fc9",
   "metadata": {},
   "source": [
    "When learning Python, you will probably browse blogs and other web resources that claim certain things are `Pythonic`.  Python has an opinionated way of doing things, mostly captured in the Zen of Python."
   ]
  },
  {
   "cell_type": "code",
   "execution_count": null,
   "id": "3ec577a8-d61f-42d0-8112-579ec65423f4",
   "metadata": {},
   "outputs": [],
   "source": [
    "import this"
   ]
  },
  {
   "cell_type": "markdown",
   "id": "1639fc1f-211b-419f-94c8-35e25e091bb7",
   "metadata": {},
   "source": [
    "`Pythonic` practices are those which the general Python community has agreed are preferable, sometimes this is purely a stylistic consideration and other times it may be related to the way the Python runs.\n",
    "\n",
    "Making your code `Pythonic` can also be useful when other Python programmers need to interact with it as they will be familiar with the idioms and paradigms you use.  "
   ]
  },
  {
   "cell_type": "markdown",
   "id": "d0f19145-c1d5-4225-a507-8f059db1054f",
   "metadata": {},
   "source": [
    "#### Imports\n",
    "\n",
    "In the cells above you might have noticed we used the `import <package>` syntax.  This construct allows us to include code from other python files or more generally modules (collections of files) and packages (collection of modules) into the current code we are working with. \n",
    "For the purposes of this course, we have installed all the packages you will need on your machine, but for working with packages, some recommended tools are:\n",
    "\n",
    "- conda\n",
    "- pip\n",
    "\n",
    "With installed packages (usually installed with one of those two \"package managers\"), we can import the package with the `import` command.  We can also import only parts of the package.  For example, one package we will use in the course is called `pandas`.  We can import `pandas`"
   ]
  },
  {
   "cell_type": "code",
   "execution_count": null,
   "id": "a53dd2b4-b822-47e7-b44f-46a4b71ed7bf",
   "metadata": {},
   "outputs": [],
   "source": [
    "#import pandas, import numpy"
   ]
  },
  {
   "cell_type": "code",
   "execution_count": null,
   "id": "cc17ff8b-bb53-44fb-81b7-d458a9b05c34",
   "metadata": {},
   "outputs": [],
   "source": [
    "#import pandas as pd\n",
    "\n",
    "#pd.DataFrame"
   ]
  },
  {
   "cell_type": "code",
   "execution_count": null,
   "id": "b60cea0f-90a6-4da9-9abf-ce70638125ac",
   "metadata": {},
   "outputs": [],
   "source": [
    "#Datframe is a module of the pandas package i.e. a module is a collection of files\n",
    "\n",
    "# from pandas import DataFrame as dframe\n",
    "\n",
    "# dframe"
   ]
  },
  {
   "cell_type": "code",
   "execution_count": null,
   "id": "9179d6cf-5b9f-4832-8ce4-323ffa4ee32f",
   "metadata": {},
   "outputs": [],
   "source": [
    "pip install pandas 1.20xxxx"
   ]
  },
  {
   "cell_type": "code",
   "execution_count": 1,
   "id": "dd53a40c-507f-4923-93f9-c2ade1f72ee0",
   "metadata": {},
   "outputs": [
    {
     "name": "stdout",
     "output_type": "stream",
     "text": [
      "{'I': 1, 'work': 3, 'in': 1, 'bloomberg': 2, 'founded': 1, 'by': 1}\n"
     ]
    }
   ],
   "source": [
    "s = \"I work in bloomberg founded by bloomberg work work\"\n",
    "\n",
    "tokens = s.split(\" \")\n",
    "d = {}\n",
    "for token in tokens:\n",
    "    if token in d:\n",
    "        d[token] += 1\n",
    "    else:\n",
    "        d[token] = 1\n",
    "\n",
    "print(d)"
   ]
  },
  {
   "cell_type": "code",
   "execution_count": null,
   "id": "fa24b0ee-71be-4da6-9373-b74a52451d64",
   "metadata": {},
   "outputs": [],
   "source": [
    "conda install pandas 1.20xxxx"
   ]
  },
  {
   "cell_type": "markdown",
   "id": "ff8de0a6-1370-4f5a-aba1-4654235e411a",
   "metadata": {},
   "source": [
    "<div class=\"alert alert-block alert-info\" style=\"margin-top: 20px\">\n",
    "<a id='python-syntax'></a>\n",
    "    \n",
    "### Python Syntax \n",
    "</div>"
   ]
  },
  {
   "cell_type": "markdown",
   "id": "0b6ba54d-c8e7-4cba-a5b1-bb2c6bca82ab",
   "metadata": {},
   "source": [
    "When learning a new programming language, it is customary to start with an \"hello world\" example. As simple as it is, this one line of code will ensure that we know how to print a string in output and how to execute code within cells in a notebook."
   ]
  },
  {
   "cell_type": "code",
   "execution_count": null,
   "id": "2f0defb3-5160-4e7a-a231-54452406406e",
   "metadata": {},
   "outputs": [],
   "source": [
    "print (\"Hello Python !\")"
   ]
  },
  {
   "cell_type": "markdown",
   "id": "e61a97ac-126e-4c8a-b9a6-6a647d6430e0",
   "metadata": {},
   "source": [
    "After executing the cell above, you should see that Python prints <code>Hello, Python!</code>. Congratulations on running your first Python code!"
   ]
  },
  {
   "cell_type": "markdown",
   "id": "1a2b4a24-e4ee-43dc-a854-07f93c86571e",
   "metadata": {},
   "source": [
    "<hr/>\n",
    "<div class=\"alert alert-success alertsuccess\" style=\"margin-top: 20px\">\n",
    "    [Tip:] <code>print()</code> is a function. You passed the string <code>'Hello, Python!'</code> as an argument to instruct Python on what to print.\n",
    "</div>\n",
    "<hr/>"
   ]
  },
  {
   "cell_type": "code",
   "execution_count": null,
   "id": "dcb9122c-3c30-40ce-9c3d-84ee6a53c24b",
   "metadata": {},
   "outputs": [],
   "source": [
    "# Try your first Python output\n",
    "print(0)"
   ]
  },
  {
   "cell_type": "markdown",
   "id": "c76c3b8c-4647-42be-9f49-607df1a3ae4b",
   "metadata": {},
   "source": [
    "#### Comments in Python\n",
    "<p>\n",
    "In addition to writing code, note that it's always a good idea to add comments to your code. It will help others understand what you were trying to accomplish (the reason why you wrote a given snippet of code). Not only does this help <strong>other people</strong> understand your code, it can also serve as a reminder <strong>to you</strong> when you come back to it weeks or months later.</p>\n",
    "\n",
    "<p>\n",
    "To write comments in Python, use the number symbol <code>#</code> before writing your comment. When you run your code, Python will ignore everything past the <code>#</code> on a given line.\n",
    "</p>"
   ]
  },
  {
   "cell_type": "code",
   "execution_count": null,
   "id": "b7b5a814-b228-47b5-9fb8-506b296757ad",
   "metadata": {},
   "outputs": [],
   "source": [
    "# Practice on writing comments\n",
    "\n",
    "print('This is a TechOrigin Class')\n",
    "print('Hello, Python!') # This line prints a string\n",
    "print('Hi')"
   ]
  },
  {
   "cell_type": "markdown",
   "id": "f566be10-4708-4fff-9771-7d9e8c0e9694",
   "metadata": {},
   "source": [
    "After executing the cell above, you should notice that <code>This line prints a string</code> did not appear in the output, because it was a comment (and thus ignored by Python).\n",
    "<br>\n",
    "\n",
    "The second line was also not executed because <code>print('Hi')</code> was preceded by the number sign (<code>#</code>) as well! Since this isn't an explanatory comment from the programmer, but an actual line of code, we might say that the programmer <em>commented out</em> that second line of code."
   ]
  },
  {
   "cell_type": "markdown",
   "id": "7c5ae826-7179-48b0-b9c0-3d33570a1479",
   "metadata": {},
   "source": [
    "<hr/>\n",
    "<div class=\"alert alert-success alertsuccess\" style=\"margin-top: 20px\">\n",
    "[Tip]: To execute the Python code in the code cell below, click on the cell to select it and press <kbd>Shift</kbd> + <kbd>Enter</kbd>.\n",
    "</div>\n",
    "<hr/>"
   ]
  },
  {
   "cell_type": "markdown",
   "id": "73956c87-6c8d-44a3-b45c-dbaf5ff370f9",
   "metadata": {},
   "source": [
    "<div class=\"alert alert-block alert-info\" style=\"margin-top: 20px\">\n",
    "<a id='variables'></a>\n",
    "    \n",
    "### Variables\n",
    "</div>"
   ]
  },
  {
   "cell_type": "markdown",
   "id": "209412f3-8efd-40b6-8b1f-f2659cd4fb65",
   "metadata": {},
   "source": [
    "We can store results for later use. We can store a result in the computer's memory by assigning it to a **variable**."
   ]
  },
  {
   "cell_type": "code",
   "execution_count": null,
   "id": "55d77a8e-bcff-450a-8113-2a425499ad21",
   "metadata": {},
   "outputs": [],
   "source": [
    "a = 5"
   ]
  },
  {
   "cell_type": "code",
   "execution_count": null,
   "id": "02c083f8-7dc5-4902-b0f9-dcb0441ca6a7",
   "metadata": {},
   "outputs": [],
   "source": [
    "print(a)"
   ]
  },
  {
   "cell_type": "code",
   "execution_count": null,
   "id": "23384dd1-b68a-43a7-8214-5a40efeba55e",
   "metadata": {},
   "outputs": [],
   "source": [
    "first_result = 1 + 1\n",
    "final_result = first_result * 3.5\n",
    "\n",
    "print(final_result)"
   ]
  },
  {
   "cell_type": "markdown",
   "id": "bab9a8b0-8391-4e2f-92ee-389be09646cc",
   "metadata": {},
   "source": [
    "Here we were able to use the result of the first calculation (stored in the variable `first_result`) in our second calculation.\n",
    "We store the second result in `final_result`, which we can print at the end of the cell.\n",
    "\n",
    "- Variables help us keep track of the information we need to successfully execute a program. \n",
    "- Variables are objectsthat are stored in memory\n",
    "- Variables can be used to store a variety of types of information."
   ]
  },
  {
   "cell_type": "markdown",
   "id": "be9800d0-c5b9-4b84-babc-cac6b4787343",
   "metadata": {},
   "source": [
    "Since variables can be used to store so many types of information, \n",
    "it's a good idea to give those variables descriptive names like I did. \n",
    "This helps us write code that is easy to read, helps when we're trying to find and fix mistakes or share code with others."
   ]
  },
  {
   "cell_type": "markdown",
   "id": "d014c515-b265-4a94-9d9b-3c0afe896a33",
   "metadata": {},
   "source": [
    "#### Some Strict Rules for Naming Variables"
   ]
  },
  {
   "cell_type": "markdown",
   "id": "431d8fb7-4efd-4b38-b299-92760f8d09f8",
   "metadata": {},
   "source": [
    "- It start with a-z, A-Z, a1-z0, Aa-Zz, etc\n",
    "- It should not have spaces between them. eg\n",
    "- It should not start with numbers. e.x. 10teachers\n",
    "- It is prefer to combine multiple words in camelCase. ex. myName or my_Name\n",
    "- It should not bear the python reserved words. e.g True, if, Except, etc"
   ]
  },
  {
   "cell_type": "markdown",
   "id": "2164b8f1-a11a-43a4-88d6-7aa0511207d1",
   "metadata": {},
   "source": [
    "<div class=\"alert alert-block alert-info\" style=\"margin-top: 20px\">\n",
    "<a id='strings'></a>\n",
    "    \n",
    "### Strings\n",
    "</div>"
   ]
  },
  {
   "cell_type": "markdown",
   "id": "e867858f-ecde-4347-9056-557a89ad0eea",
   "metadata": {},
   "source": [
    "A **string:** is a sequence of characters."
   ]
  },
  {
   "cell_type": "code",
   "execution_count": null,
   "id": "72d4d257-d274-4390-a74a-5911f34b6dee",
   "metadata": {},
   "outputs": [],
   "source": [
    "# Use quotation marks for defining string\n",
    "\"Michael Jackson\""
   ]
  },
  {
   "cell_type": "markdown",
   "id": "5f5f9bb4-acb8-4221-86d3-3d9d3e793347",
   "metadata": {},
   "source": [
    "It can also be a combination of spaces and digits: "
   ]
  },
  {
   "cell_type": "code",
   "execution_count": null,
   "id": "b091c0ff-a8f7-417a-afb2-fabb048a052c",
   "metadata": {},
   "outputs": [],
   "source": [
    "# Digitals and spaces in string\n",
    "type('1 2 3 4 5 6 ')"
   ]
  },
  {
   "cell_type": "markdown",
   "id": "deeadc1c-1116-4a49-93e0-bba4d1d27a35",
   "metadata": {},
   "source": [
    "A string can also be a combination of special characters :"
   ]
  },
  {
   "cell_type": "code",
   "execution_count": null,
   "id": "e77a0181-ebb1-4c7b-9ffc-68b215da1c13",
   "metadata": {},
   "outputs": [],
   "source": [
    "# Special characters in string\n",
    "\n",
    "'@#2_#]&*^%$'"
   ]
  },
  {
   "cell_type": "markdown",
   "id": "5410e222-88dd-4c25-8c56-8348f548ea9f",
   "metadata": {},
   "source": [
    "We can bind or assign a string to another variable:"
   ]
  },
  {
   "cell_type": "code",
   "execution_count": null,
   "id": "200afb0d-1ed8-4e48-94ac-a8b72dd2d395",
   "metadata": {},
   "outputs": [],
   "source": [
    "# Assign string to variable\n",
    "Name= \"Michael Jackson\""
   ]
  },
  {
   "cell_type": "code",
   "execution_count": null,
   "id": "4e13e42d-0059-4f81-9068-75767d23cdf2",
   "metadata": {},
   "outputs": [],
   "source": [
    "Name"
   ]
  },
  {
   "cell_type": "markdown",
   "id": "414dde0e-0e69-4c32-ae14-9610d88df200",
   "metadata": {},
   "source": [
    "#### String Indexing"
   ]
  },
  {
   "cell_type": "markdown",
   "id": "388112e3-7b6c-44aa-a8b8-20195c0c3540",
   "metadata": {},
   "source": [
    "It is helpful to think of a string as an ordered sequence. Each element in the sequence can be accessed using an index represented by the array of numbers:  "
   ]
  },
  {
   "cell_type": "markdown",
   "id": "d13f7db3-dbbc-4783-b67d-516ef5f57993",
   "metadata": {},
   "source": [
    "<img src=\"https://s3-api.us-geo.objectstorage.softlayer.net/cf-courses-data/CognitiveClass/PY0101EN/Chapter%201/Images/StringsIndex.png\" width=\"600\" align=\"center\" />"
   ]
  },
  {
   "cell_type": "markdown",
   "id": "6ebadf79-880d-4d3c-827c-58c62ee22b8b",
   "metadata": {},
   "source": [
    "The first index can be accessed as follows:"
   ]
  },
  {
   "cell_type": "code",
   "execution_count": null,
   "id": "3b80e35e-7349-421f-8178-b2c62581f540",
   "metadata": {},
   "outputs": [],
   "source": [
    "# Print the first element in the string\n",
    "print(Name[0])"
   ]
  },
  {
   "cell_type": "code",
   "execution_count": null,
   "id": "048dc699-e182-43d7-a37c-74ff4641c7a7",
   "metadata": {},
   "outputs": [],
   "source": [
    "# Print the element on index 6 in the string\n",
    "print(Name[6])"
   ]
  },
  {
   "cell_type": "markdown",
   "id": "5155bda6-daa0-4c78-9f97-62ac4906f58b",
   "metadata": {},
   "source": [
    "Moreover, we can access the 13th index:"
   ]
  },
  {
   "cell_type": "code",
   "execution_count": null,
   "id": "855e7363-859d-47b8-855d-b70ff678fe43",
   "metadata": {},
   "outputs": [],
   "source": [
    "# Print the element on the 13th index in the string\n",
    "print(Name[13])"
   ]
  },
  {
   "cell_type": "markdown",
   "id": "43a39051-12c5-4e05-9aec-fd37a3647815",
   "metadata": {},
   "source": [
    "#### Negative Indexing"
   ]
  },
  {
   "cell_type": "markdown",
   "id": "630d060c-da7b-4233-921f-0e795b34e18b",
   "metadata": {},
   "source": [
    "We can also use negative indexing with strings:"
   ]
  },
  {
   "cell_type": "markdown",
   "id": "4dcb5c71-76ad-4705-9fef-ab061f3557fe",
   "metadata": {},
   "source": [
    "<img src=\"https://s3-api.us-geo.objectstorage.softlayer.net/cf-courses-data/CognitiveClass/PY0101EN/Chapter%201/Images/StringsNeg.png\" width=\"600\" align=\"center\" />"
   ]
  },
  {
   "cell_type": "markdown",
   "id": "b65c9a2c-92a6-45d0-9a8e-cfa3b8961bf4",
   "metadata": {},
   "source": [
    "Negative index can help us to count the element from the end of the string."
   ]
  },
  {
   "cell_type": "markdown",
   "id": "9f7bbcc2-8aae-4588-bbeb-435484f52579",
   "metadata": {},
   "source": [
    "The last element is given by the index -1: "
   ]
  },
  {
   "cell_type": "code",
   "execution_count": null,
   "id": "9a75c79a-e229-4db0-b679-45083ffe9c00",
   "metadata": {},
   "outputs": [],
   "source": [
    "# Print the last element in the string\n",
    "print(Name[-1])"
   ]
  },
  {
   "cell_type": "code",
   "execution_count": null,
   "id": "ce460485-571c-4bed-a4c1-0010c5623c08",
   "metadata": {},
   "outputs": [],
   "source": [
    "# Print the first element in the string\n",
    "print(Name[-15])"
   ]
  },
  {
   "cell_type": "markdown",
   "id": "a5834fde-4d00-4e09-b4cf-00316a733e3d",
   "metadata": {},
   "source": [
    "#### Len Function"
   ]
  },
  {
   "cell_type": "markdown",
   "id": "b18ed887-9e1a-4f78-a8f4-8d33d330cb98",
   "metadata": {},
   "source": [
    "We can find the number of characters in a string by using <code>len</code>, short for length:"
   ]
  },
  {
   "cell_type": "code",
   "execution_count": null,
   "id": "547a689f-7af4-4ede-8f64-d7abb08845e8",
   "metadata": {},
   "outputs": [],
   "source": [
    "# Find the length of string\n",
    "len(\"Michael Jackson\")"
   ]
  },
  {
   "cell_type": "markdown",
   "id": "124b7046-458a-418e-8a86-09a01ae45e06",
   "metadata": {},
   "source": [
    "#### Slicing"
   ]
  },
  {
   "cell_type": "markdown",
   "id": "20c2a197-dbc8-4190-9f83-4a9f432199fc",
   "metadata": {},
   "source": [
    "<img src=\"https://s3-api.us-geo.objectstorage.softlayer.net/cf-courses-data/CognitiveClass/PY0101EN/Chapter%201/Images/StringsSlice.png\" width=\"600\" align=\"center\" />"
   ]
  },
  {
   "cell_type": "markdown",
   "id": "6ead55f4-bda9-44e5-9684-183198d06094",
   "metadata": {},
   "source": [
    "<hr/>\n",
    "<div class=\"alert alert-success alertsuccess\" style=\"margin-top: 20px\">\n",
    "[Tip]: When taking the slice, the first number means the index (start at 0), and the second number means the length from the index to the last element you want (start at 1)\n",
    "</div>\n",
    "<hr/>"
   ]
  },
  {
   "cell_type": "code",
   "execution_count": null,
   "id": "7bb3d39a-beb9-43fc-ac68-d31bbeb5ccbf",
   "metadata": {},
   "outputs": [],
   "source": [
    "# Take the slice on variable Name with only index 0 to index 3\n",
    "Name = \"Michael Jackson\"\n",
    "Name[0:4]"
   ]
  },
  {
   "cell_type": "code",
   "execution_count": null,
   "id": "5e18a872-461c-4225-a1f2-bcd32924f01c",
   "metadata": {},
   "outputs": [],
   "source": [
    "# Take the slice on variable Name with only index 8 to index 11\n",
    "Name[8:12]"
   ]
  },
  {
   "cell_type": "markdown",
   "id": "4a76c4f7-3727-44f2-839e-8e45326aa87d",
   "metadata": {},
   "source": [
    "#### Stride"
   ]
  },
  {
   "cell_type": "markdown",
   "id": "9222978b-394f-43c7-8486-19eaebbf984a",
   "metadata": {},
   "source": [
    "We can also input a stride value as follows, with the '2' indicating that we are selecting every second variable:"
   ]
  },
  {
   "cell_type": "markdown",
   "id": "65e50ec2-941f-456b-91d3-46dcc2c3952c",
   "metadata": {},
   "source": [
    "<img src=\"https://s3-api.us-geo.objectstorage.softlayer.net/cf-courses-data/CognitiveClass/PY0101EN/Chapter%201/Images/StringsStride.png\" width=\"600\" align=\"center\" />"
   ]
  },
  {
   "cell_type": "code",
   "execution_count": null,
   "id": "4d6fdf61-c0a5-4f75-a469-7913e808f862",
   "metadata": {},
   "outputs": [],
   "source": [
    "# Get every other element. The elements on the index 0, 2, 4 ...\n",
    "Name[::2]"
   ]
  },
  {
   "cell_type": "code",
   "execution_count": null,
   "id": "4715c18e-08b4-4e22-b2db-8c4f139a0e1e",
   "metadata": {
    "collapsed": false,
    "jupyter": {
     "outputs_hidden": false
    }
   },
   "outputs": [],
   "source": [
    "# Get every third element. The elments on index 0, 3, 6 ...\n",
    "\n",
    "Name[2::4]"
   ]
  },
  {
   "cell_type": "markdown",
   "id": "92b2492c-ac5d-4902-9dcc-3492f55ce374",
   "metadata": {},
   "source": [
    "We can also incorporate slicing  with the stride. In this case, we select the first five elements and then use the stride: "
   ]
  },
  {
   "cell_type": "code",
   "execution_count": null,
   "id": "5fbb09b0-9469-4714-98fa-031402f2d8e3",
   "metadata": {
    "collapsed": false,
    "jupyter": {
     "outputs_hidden": false
    }
   },
   "outputs": [],
   "source": [
    "# Get every second element in the range from index 0 to index 4\n",
    "Name[0:5:2]"
   ]
  },
  {
   "cell_type": "markdown",
   "id": "46c01051-cd93-48a3-a54c-c6e520aeff52",
   "metadata": {},
   "source": [
    "<h3 id=\"concat\">Concatenate Strings</h3>"
   ]
  },
  {
   "cell_type": "markdown",
   "id": "c4f0f18a-bfc8-4539-beb6-dbd5fcd51598",
   "metadata": {},
   "source": [
    "We can concatenate or combine strings by using the addition symbols, and the result is a new string that is a combination of both:\n"
   ]
  },
  {
   "cell_type": "code",
   "execution_count": null,
   "id": "527b811f-175b-468e-be4c-7e4750d0244c",
   "metadata": {},
   "outputs": [],
   "source": [
    "Name9 = 'Chimaobi'"
   ]
  },
  {
   "cell_type": "code",
   "execution_count": null,
   "id": "07ef2aff-abe7-4e82-ac13-8bcd0a27785a",
   "metadata": {
    "collapsed": false,
    "jupyter": {
     "outputs_hidden": false
    }
   },
   "outputs": [],
   "source": [
    "# Concatenate two strings\n",
    "\n",
    "Statement = Name + ' is the best ' + Name9\n",
    "Statement"
   ]
  },
  {
   "cell_type": "markdown",
   "id": "42abc2de-6ae7-4362-8f70-4eaaf9e1a8ec",
   "metadata": {},
   "source": [
    "To replicate values of a string we simply multiply the string by the number of times we would like to replicate it. In this case, the number is three. The result is a new string, and this new string consists of three copies of the original string:"
   ]
  },
  {
   "cell_type": "code",
   "execution_count": null,
   "id": "0250d550-404f-4082-a1de-17bebfcb66b6",
   "metadata": {
    "collapsed": false,
    "jupyter": {
     "outputs_hidden": false
    }
   },
   "outputs": [],
   "source": [
    "# Print the string for 3 times\n",
    "\n",
    "print(3 * \"Michael Jackson\")"
   ]
  },
  {
   "cell_type": "markdown",
   "id": "e434dd37-89bd-4807-a45f-01876580b379",
   "metadata": {},
   "source": [
    "You can create a new string by setting it to the original variable. Concatenated  with a new string, the result is a new string that changes from Michael Jackson to “Michael Jackson is the best\".\n"
   ]
  },
  {
   "cell_type": "code",
   "execution_count": null,
   "id": "d67b6ae3-2128-4beb-bc06-b4cf11e10fc4",
   "metadata": {
    "collapsed": false,
    "jupyter": {
     "outputs_hidden": false
    }
   },
   "outputs": [],
   "source": [
    "# Concatenate strings\n",
    "\n",
    "Name = \"Michael Jackson\"\n",
    "Name = Name + \" is the best\"\n",
    "Name"
   ]
  },
  {
   "cell_type": "markdown",
   "id": "64507b9a-445f-47c0-8376-472dbb5942e8",
   "metadata": {},
   "source": [
    "<hr>"
   ]
  },
  {
   "cell_type": "markdown",
   "id": "1effde1f-eb2a-4228-9f1e-705ac81665ae",
   "metadata": {},
   "source": [
    "<h2 id=\"escape\">Escape Sequences</h2>"
   ]
  },
  {
   "cell_type": "markdown",
   "id": "1bbb3a16-dfab-4328-8f20-5ad16f4d75e8",
   "metadata": {},
   "source": [
    "Back slashes represent the beginning  of escape sequences. Escape sequences represent strings that may be difficult to input. For example, back slash \"n\" represents a new line. The output is given by a new line after the back slash \"n\" is encountered:"
   ]
  },
  {
   "cell_type": "code",
   "execution_count": null,
   "id": "dc4f1b4a-8856-47eb-adc7-0b17e682067a",
   "metadata": {
    "collapsed": false,
    "jupyter": {
     "outputs_hidden": false
    }
   },
   "outputs": [],
   "source": [
    "# New line escape sequence\n",
    "\n",
    "print(\" Michael Jackson \\n is the best creature\" )"
   ]
  },
  {
   "cell_type": "markdown",
   "id": "f395b7ee-4ac7-47f6-9759-4709a143f181",
   "metadata": {},
   "source": [
    "Similarly, back slash  \"t\" represents a tab: "
   ]
  },
  {
   "cell_type": "code",
   "execution_count": null,
   "id": "a70252a2-3730-4548-8776-9d172357620b",
   "metadata": {
    "collapsed": false,
    "jupyter": {
     "outputs_hidden": false
    }
   },
   "outputs": [],
   "source": [
    "# Tab escape sequence\n",
    "\n",
    "print(\" Michael Jackson \\t is the best\" )"
   ]
  },
  {
   "cell_type": "markdown",
   "id": "5f8f8bbd-0970-4c74-b372-e848aa27834e",
   "metadata": {},
   "source": [
    " If you want to place a back slash in your string, use a double back slash:"
   ]
  },
  {
   "cell_type": "code",
   "execution_count": null,
   "id": "46234c37-8382-4822-930c-4e400c34434a",
   "metadata": {
    "collapsed": false,
    "jupyter": {
     "outputs_hidden": false
    }
   },
   "outputs": [],
   "source": [
    "# Include back slash in string\n",
    "\n",
    "print(\" Michael Jackson \\\\ is the best\" )"
   ]
  },
  {
   "cell_type": "markdown",
   "id": "4dfbdd7f-5d8c-4204-8c89-eadd1d7cb754",
   "metadata": {},
   "source": [
    " We can also place an \"r\" before the string to display the backslash:"
   ]
  },
  {
   "cell_type": "code",
   "execution_count": null,
   "id": "42754f51-0e54-4831-82bb-ee929e29c840",
   "metadata": {
    "collapsed": false,
    "jupyter": {
     "outputs_hidden": false
    }
   },
   "outputs": [],
   "source": [
    "# r will tell python that string will be display as raw string\n",
    "print(r\"bobby weds \\n amara\")"
   ]
  },
  {
   "cell_type": "markdown",
   "id": "c5497a0a-9f78-45b2-a839-814d89c2e5f9",
   "metadata": {},
   "source": [
    "<hr>"
   ]
  },
  {
   "cell_type": "markdown",
   "id": "f6bb84f1-dd23-4670-bff9-39ce6abae7fe",
   "metadata": {},
   "source": [
    "<h2 id=\"operations\">String Operations</h2>"
   ]
  },
  {
   "cell_type": "markdown",
   "id": "9ad1cc84-0db2-4e1c-8a62-401fb5d9e7b3",
   "metadata": {},
   "source": [
    "There are many string operation methods in Python that can be used to manipulate the data. We are going to use some basic string operations on the data. "
   ]
  },
  {
   "cell_type": "markdown",
   "id": "a1face2e-94f7-4b1d-85c7-5d418d305ca0",
   "metadata": {},
   "source": [
    "Let's try with the method <code>upper</code>; this method converts lower case characters to upper case characters:"
   ]
  },
  {
   "cell_type": "code",
   "execution_count": null,
   "id": "42ba59e3-8a99-4474-9ded-2edc645b79f8",
   "metadata": {
    "collapsed": false,
    "jupyter": {
     "outputs_hidden": false
    }
   },
   "outputs": [],
   "source": [
    "# Convert all the characters in string to upper case\n",
    "\n",
    "A = \"Thriller is the sixth studio album\"\n",
    "print(\"before upper:\", A)\n",
    "B = A.upper()\n",
    "print(\"After upper:\", B)\n",
    "C = A.title()\n",
    "print(\"After upper:\", C)"
   ]
  },
  {
   "cell_type": "code",
   "execution_count": null,
   "id": "f531f38a-ef4c-483e-8eaf-56c96aa1870b",
   "metadata": {},
   "outputs": [],
   "source": [
    "# Convert all the characters in string to lower case\n",
    "\n",
    "A = \"Thriller Is The Sixth Studio Album\"\n",
    "print(\"before lower:\", A)\n",
    "B = A.lower()\n",
    "print(\"After lower:\", B)"
   ]
  },
  {
   "cell_type": "markdown",
   "id": "0a6aaa01-f1d3-4112-b234-3e3809e1498f",
   "metadata": {},
   "source": [
    "The method <code>replace</code> replaces a segment of the string, i.e. a substring  with a new string. We input the part of the string we would like to change. The second argument is what we would like to exchange the segment with, and the result is a new string with the segment changed: \n"
   ]
  },
  {
   "cell_type": "code",
   "execution_count": null,
   "id": "0cc443e1-b6d6-46da-a827-85ec802627f6",
   "metadata": {
    "collapsed": false,
    "jupyter": {
     "outputs_hidden": false
    }
   },
   "outputs": [],
   "source": [
    "# Replace the old substring with the new target substring is the segment has been found in the string\n",
    "\n",
    "A = \"Michael Jackson is the best\"\n",
    "B = A.replace(\"Michael\",\"Janet\")\n",
    "B"
   ]
  },
  {
   "cell_type": "markdown",
   "id": "07ec4b42-aa44-4ef0-bbfd-08f4acdd3997",
   "metadata": {},
   "source": [
    "The method <code>find</code> finds a sub-string. The argument is the substring you would like to find, and the output is the first index of the sequence. We can find the sub-string <code>jack</code> or <code>el<code>.  "
   ]
  },
  {
   "cell_type": "markdown",
   "id": "4455da43-e724-4dfd-ab24-248637c4d79f",
   "metadata": {},
   "source": [
    "<img src=\"https://s3-api.us-geo.objectstorage.softlayer.net/cf-courses-data/CognitiveClass/PY0101EN/Chapter%201/Images/StringsFind.png\" width=\"600\" align=\"center\" />"
   ]
  },
  {
   "cell_type": "code",
   "execution_count": null,
   "id": "b7735f13-21af-4f9a-9fa0-7afe3de55a2c",
   "metadata": {
    "collapsed": false,
    "jupyter": {
     "outputs_hidden": false
    }
   },
   "outputs": [],
   "source": [
    "# Find the substring in the string. Only the index of the first elment of substring in string will be the output\n",
    "\n",
    "Name = \"Michael Jackson\"\n",
    "Name.find('e')"
   ]
  },
  {
   "cell_type": "code",
   "execution_count": null,
   "id": "9e533a58-04b9-487d-a48d-aa565317d374",
   "metadata": {
    "collapsed": false,
    "jupyter": {
     "outputs_hidden": false
    }
   },
   "outputs": [],
   "source": [
    "# Find the substring in the string.\n",
    "Name.find('Jack')"
   ]
  },
  {
   "cell_type": "markdown",
   "id": "38f691e6-9aea-4c5a-ab54-8fcb6a109d04",
   "metadata": {},
   "source": [
    "If the  sub-string is not in the string then the output is a negative one. For example, the string 'Jasdfasdasdf' is not a substring:"
   ]
  },
  {
   "cell_type": "code",
   "execution_count": null,
   "id": "9b67d980-cd62-43c6-a6b7-b7f95c81d397",
   "metadata": {},
   "outputs": [],
   "source": [
    "# If cannot find the substring in the string\n",
    "\n",
    "Name.find('Jasdfasdasdf')"
   ]
  },
  {
   "cell_type": "markdown",
   "id": "76c0de67-4a6f-40fc-b011-fd36577e8e32",
   "metadata": {},
   "source": [
    "Use a stride value of 2 to print out every second character of the string <code>E</code>: "
   ]
  },
  {
   "cell_type": "code",
   "execution_count": null,
   "id": "65864ff6-6dd2-4aa9-8c63-73a952ebdbcb",
   "metadata": {},
   "outputs": [],
   "source": [
    "# Write your code below and press Shift+Enter to execute\n",
    "E = 'clocrkr1e1c1t'\n",
    "E[::2]"
   ]
  },
  {
   "cell_type": "markdown",
   "id": "76aa9fbc-1ceb-44cf-847d-d4a31e756888",
   "metadata": {},
   "source": [
    "Print out a backslash:"
   ]
  },
  {
   "cell_type": "code",
   "execution_count": null,
   "id": "4de6d47d-66e9-4e58-b257-c6eb5ca1e5bf",
   "metadata": {},
   "outputs": [],
   "source": [
    "# Write your code below and press Shift+Enter to execute\n",
    "yourName = 'hello \\\\ chisom'\n",
    "yourName"
   ]
  },
  {
   "cell_type": "markdown",
   "id": "1d713164-be46-49f2-a978-69c8086d5547",
   "metadata": {},
   "source": [
    "Consider the variable <code>G</code>, and find the first index of the sub-string <code>snow</code>:"
   ]
  },
  {
   "cell_type": "code",
   "execution_count": null,
   "id": "c632dc4e-3a2c-48e5-9c8b-16b73bbc038a",
   "metadata": {
    "collapsed": false,
    "jupyter": {
     "outputs_hidden": false
    }
   },
   "outputs": [],
   "source": [
    "# Write your code below and press Shift+Enter to execute\n",
    "\n",
    "G = \"Mary had a little lamb Little lamb, little lamb Mary had a little lamb \\\n",
    "Its fleece was white as snow And everywhere that Mary went Mary went, Mary went \\\n",
    "Everywhere that Mary went The lamb was sure to go\"\n",
    "G.find(\"snow\")"
   ]
  },
  {
   "cell_type": "markdown",
   "id": "3291b9db-8c3a-4e47-be82-263880090237",
   "metadata": {},
   "source": [
    "In the variable <code>G</code>, replace the sub-string <code>Mary</code> with <code>Bob</code>:"
   ]
  },
  {
   "cell_type": "code",
   "execution_count": null,
   "id": "87d7a83a-ca72-4a3c-833b-ebe3628f582a",
   "metadata": {
    "collapsed": false,
    "jupyter": {
     "outputs_hidden": false
    }
   },
   "outputs": [],
   "source": [
    "# Write your code below and press Shift+Enter to execute\n",
    "G = \"Mary had a little lamb Little lamb, little lamb Mary had a little lamb \\\n",
    "Its fleece was white as snow And everywhere that Mary went Mary went, Mary went \\\n",
    "Everywhere that Mary went The lamb was sure to go\"\n",
    "B = G.replace (\"Mary\", \"Bob\")\n",
    "B"
   ]
  },
  {
   "cell_type": "markdown",
   "id": "5562bda4-1f87-4488-ab49-772926392ed3",
   "metadata": {},
   "source": [
    "<div class=\"alert alert-block alert-info\" style=\"margin-top: 20px\">\n",
    "<a id='object-types'></a>\n",
    "    \n",
    "### Object Types\n",
    "</div>"
   ]
  },
  {
   "cell_type": "markdown",
   "id": "6228ea89-775c-4614-b6bc-520453ee2c63",
   "metadata": {},
   "source": [
    "<p>Python is an object-oriented language. There are many different types of objects in Python. Let's start with the most common object types: <i>strings</i>, <i>integers</i> and <i>floats</i>. Anytime you write words (text) in Python, you're using <i>character strings</i> (strings for short). The most common numbers, on the other hand, are <i>integers</i> (e.g. -1, 0, 100) and <i>floats</i>, which represent real numbers (e.g. 3.14, -42.0).</p>"
   ]
  },
  {
   "cell_type": "markdown",
   "id": "9b1cb1f9-c55e-4b55-be4a-b079a8f6c72e",
   "metadata": {},
   "source": [
    "<a align=\"center\">\n",
    "    <img src=\"https://s3-api.us-geo.objectstorage.softlayer.net/cf-courses-data/CognitiveClass/PY0101EN/Chapter%201/Images/TypesObjects.png\" width=\"600\">\n",
    "</a>"
   ]
  },
  {
   "cell_type": "code",
   "execution_count": null,
   "id": "d8e1dbb1-f7f2-4828-b463-9e14da8cb22b",
   "metadata": {},
   "outputs": [],
   "source": [
    "# ??\n",
    "11"
   ]
  },
  {
   "cell_type": "code",
   "execution_count": null,
   "id": "2bb01309-30c9-43d4-8cb1-a0415f5f2dcf",
   "metadata": {},
   "outputs": [],
   "source": [
    "# ??\n",
    "2.14"
   ]
  },
  {
   "cell_type": "code",
   "execution_count": null,
   "id": "8d8ee922-3f96-4ba4-8f4e-4c65eee48581",
   "metadata": {},
   "outputs": [],
   "source": [
    "# ??\n",
    "\"Hello, Python 101!\""
   ]
  },
  {
   "cell_type": "code",
   "execution_count": null,
   "id": "44a11b77-7de4-4538-8950-f6ac2865bf8e",
   "metadata": {},
   "outputs": [],
   "source": [
    "# ??\n",
    "True"
   ]
  },
  {
   "cell_type": "markdown",
   "id": "f363144e-bd2c-4e14-aee5-08dec7d95419",
   "metadata": {},
   "source": [
    "#### Integers"
   ]
  },
  {
   "cell_type": "markdown",
   "id": "3c4b42de-dfdf-4391-95ad-69cd200279b4",
   "metadata": {},
   "source": [
    "Here are some examples of integers. Integers can be negative or positive numbers:"
   ]
  },
  {
   "cell_type": "markdown",
   "id": "22237588-3240-4e67-9ef4-77e9abe543da",
   "metadata": {},
   "source": [
    "<a align=\"center\">\n",
    "    <img src=\"https://s3-api.us-geo.objectstorage.softlayer.net/cf-courses-data/CognitiveClass/PY0101EN/Chapter%201/Images/TypesInt.png\" width=\"600\">\n",
    "</a>"
   ]
  },
  {
   "cell_type": "markdown",
   "id": "a8db63fa-b159-4797-9d9c-8c7555b7981d",
   "metadata": {},
   "source": [
    "<p>We can verify this is the case by using, you guessed it, the <code>type()</code> function:"
   ]
  },
  {
   "cell_type": "code",
   "execution_count": null,
   "id": "121b7b4a-2b27-4414-860c-fb13d725fd75",
   "metadata": {},
   "outputs": [],
   "source": [
    "# Print the type of -1\n",
    "type(-1)"
   ]
  },
  {
   "cell_type": "code",
   "execution_count": null,
   "id": "e78d5507-359e-49b8-af8f-ea3f81785b6b",
   "metadata": {},
   "outputs": [],
   "source": [
    "# Print the type of 4\n",
    "type(4)"
   ]
  },
  {
   "cell_type": "code",
   "execution_count": null,
   "id": "de703202-5db1-4661-bc7b-b34727af8966",
   "metadata": {},
   "outputs": [],
   "source": [
    "# Print the type of 10\n",
    "type(10)"
   ]
  },
  {
   "cell_type": "markdown",
   "id": "24eb90b3-857a-47a4-a464-2dd46c6ea4e3",
   "metadata": {},
   "source": [
    "#### Floats"
   ]
  },
  {
   "cell_type": "markdown",
   "id": "94cb25f9-49f4-4e58-9826-cabb0b4f58e6",
   "metadata": {},
   "source": [
    "<p>Floats represent real numbers; they are a superset of integer numbers but also include \"numbers with decimals\". There are some limitations when it comes to machines representing real numbers, but floating point numbers are a good representation in most cases. You can learn more about the specifics of floats for your runtime environment, by checking the value of <code>sys.float_info</code>. This will also tell you what's the largest and smallest number that can be represented with them.</p>\n",
    "\n",
    "<p>Once again, can test some examples with the <code>type()</code> function:"
   ]
  },
  {
   "cell_type": "code",
   "execution_count": null,
   "id": "4b92f289-2d47-4748-be40-1d50f9997815",
   "metadata": {},
   "outputs": [],
   "source": [
    "# Print the type of 1.0\n",
    "type(1.0) # Notice that 1 is an int, and 1.0 is a float\n",
    "#import sys\n",
    "#sys.float_info"
   ]
  },
  {
   "cell_type": "code",
   "execution_count": null,
   "id": "a39d3bfe-fb8b-44d6-8ae3-ff256ff6ed21",
   "metadata": {},
   "outputs": [],
   "source": [
    "# Print the type of 0.5\n",
    "type(0.5)"
   ]
  },
  {
   "cell_type": "code",
   "execution_count": null,
   "id": "358b18f3-e476-47cb-a2bd-3531880c032f",
   "metadata": {},
   "outputs": [],
   "source": [
    "# Print the type of 0.50\n",
    "type(0.50)"
   ]
  },
  {
   "cell_type": "code",
   "execution_count": null,
   "id": "6e0fb00f-cc11-4355-8293-4380c671e1d2",
   "metadata": {},
   "outputs": [],
   "source": [
    "# System settings about float type\n",
    "import sys\n",
    "sys.float_info"
   ]
  },
  {
   "cell_type": "markdown",
   "id": "d0ddfbaa-1c50-4663-924a-5a128d718fe9",
   "metadata": {},
   "source": [
    "#### Booleans"
   ]
  },
  {
   "cell_type": "markdown",
   "id": "fcb120ba-756c-48b3-a01d-f77a692e9af1",
   "metadata": {},
   "source": [
    "<p><i>Boolean</i> is another important type in Python. An object of type <i>Boolean</i> can take on one of two values: <code>True</code> or <code>False</code>:</p>"
   ]
  },
  {
   "cell_type": "code",
   "execution_count": null,
   "id": "851d0f69-e457-4329-aa60-fccfe4189628",
   "metadata": {},
   "outputs": [],
   "source": [
    "# Value true\n",
    "True"
   ]
  },
  {
   "cell_type": "markdown",
   "id": "a81e6266-f118-4c81-a057-f8246b7ab9dc",
   "metadata": {},
   "source": [
    "<p>Notice that the value <code>True</code> has an uppercase \"T\". The same is true for <code>False</code> (i.e. you must use the uppercase \"F\").</p>"
   ]
  },
  {
   "cell_type": "code",
   "execution_count": null,
   "id": "09eec41e-886c-4646-a455-4df1d61169bd",
   "metadata": {},
   "outputs": [],
   "source": [
    "# Value false\n",
    "False"
   ]
  },
  {
   "cell_type": "markdown",
   "id": "79cd7cc3-f31e-4664-8e8e-cdc7230f865e",
   "metadata": {},
   "source": [
    "<div class=\"alert alert-block alert-info\" style=\"margin-top: 20px\">\n",
    "<a id='type-casting'></a>\n",
    "    \n",
    "### Type Casting\n",
    "</div>"
   ]
  },
  {
   "cell_type": "code",
   "execution_count": null,
   "id": "893744d6-85ae-4a6f-983a-77e35349d523",
   "metadata": {},
   "outputs": [],
   "source": [
    "type(1.1)"
   ]
  },
  {
   "cell_type": "code",
   "execution_count": null,
   "id": "9c09bbba-fd52-48f1-9560-d0527347f9f9",
   "metadata": {},
   "outputs": [],
   "source": [
    "# Casting 1.1 to integer will result in loss of information\n",
    "int(1.1)"
   ]
  },
  {
   "cell_type": "markdown",
   "id": "98119848-863c-4672-b17d-a01ec0e53a50",
   "metadata": {
    "tags": []
   },
   "source": [
    "#### Knowing the Object Types"
   ]
  },
  {
   "cell_type": "markdown",
   "id": "b38b5bf7-048b-4b22-a754-b726431b02b9",
   "metadata": {},
   "source": [
    "<p>You can get Python to tell you the type of an expression by using the built-in <code>type()</code> function. You'll notice that Python refers to integers as <code>int</code>, floats as <code>float</code>, and character strings as <code>str</code>.</p>"
   ]
  },
  {
   "cell_type": "code",
   "execution_count": null,
   "id": "ecbc5a06-115a-4743-86c1-f873bb78327e",
   "metadata": {},
   "outputs": [],
   "source": [
    "# Type of 12\n",
    "type(12)\n",
    "type(11)"
   ]
  },
  {
   "cell_type": "code",
   "execution_count": null,
   "id": "0c1b964f-7e1b-44d2-9463-aed407b13f19",
   "metadata": {},
   "outputs": [],
   "source": [
    "# Type of 2.14\n",
    "type(2.14)"
   ]
  },
  {
   "cell_type": "code",
   "execution_count": null,
   "id": "53e3c2a0-a9d6-4ccd-8c0d-78014acda520",
   "metadata": {},
   "outputs": [],
   "source": [
    "# Type of \"Hello, Python 101!\"\n",
    "type(\"Hello, Python 101!\")"
   ]
  },
  {
   "cell_type": "markdown",
   "id": "a7bd0823-e7e4-46a3-9950-ad2f3bb2912f",
   "metadata": {},
   "source": [
    "#### Converting from one object type to a different object type"
   ]
  },
  {
   "cell_type": "markdown",
   "id": "e2c023b2-d4e9-4408-ab7d-94f0899cf782",
   "metadata": {},
   "source": [
    "<p>You can change the type of the object in Python; this is called typecasting. For example, you can convert an <i>integer</i> into a <i>float</i> (e.g. 2 to 2.0).</p>\n",
    "<p>Let's try it:</p>"
   ]
  },
  {
   "cell_type": "markdown",
   "id": "f12a623a-4e69-495f-a9be-16759934bd24",
   "metadata": {},
   "source": [
    "#### Converting integers to floats"
   ]
  },
  {
   "cell_type": "code",
   "execution_count": null,
   "id": "ffb95554-b1b9-49bb-9afc-0aaf92043df4",
   "metadata": {},
   "outputs": [],
   "source": [
    "# Convert 2 to a float\n",
    "float(2)"
   ]
  },
  {
   "cell_type": "code",
   "execution_count": null,
   "id": "fe1b3083-9d87-4540-8343-41cee747aa6c",
   "metadata": {},
   "outputs": [],
   "source": [
    "# Convert integer 2 to a float and check its type\n",
    "type(float(2))"
   ]
  },
  {
   "cell_type": "markdown",
   "id": "cdf40b07-73c0-415b-9b2e-bb1be9727c46",
   "metadata": {},
   "source": [
    "<p>When we convert an integer into a float, we don't really change the value (i.e., the significand) of the number. However, if we cast a float into an integer, we could potentially lose some information. For example, if we cast the float 1.1 to integer we will get 1 and lose the decimal information (i.e., 0.1):</p>"
   ]
  },
  {
   "cell_type": "markdown",
   "id": "250889e8-4d11-481f-b37f-53768c7381f4",
   "metadata": {},
   "source": [
    "#### Converting from strings to integers or floats"
   ]
  },
  {
   "cell_type": "markdown",
   "id": "ef928460-c8d8-430f-8c99-7bb1bb172e40",
   "metadata": {},
   "source": [
    "<p>Sometimes, we can have a string that contains a number within it. If this is the case, we can cast that string that represents a number into an integer using <code>int()</code>:</p>"
   ]
  },
  {
   "cell_type": "code",
   "execution_count": null,
   "id": "b59b4096-e3cb-440f-a830-07c0319da35c",
   "metadata": {},
   "outputs": [],
   "source": [
    "# Convert a string into an integer\n",
    "int('1')"
   ]
  },
  {
   "cell_type": "markdown",
   "id": "aa558a26-b7ca-4c69-9dfe-5258ccd9c4e8",
   "metadata": {},
   "source": [
    "<p>But if you try to do so with a string that is not a perfect match for a number, you'll get an error. Try the following:</p>"
   ]
  },
  {
   "cell_type": "code",
   "execution_count": null,
   "id": "651a3057-336f-404c-b034-ed857fae980d",
   "metadata": {},
   "outputs": [],
   "source": [
    "# Convert a string into an integer with error\n",
    "int('1 or 2 people')"
   ]
  },
  {
   "cell_type": "markdown",
   "id": "e4e63cbd-1a98-4605-a999-c24ca7051d8d",
   "metadata": {},
   "source": [
    "<p>You can also convert strings containing floating point numbers into <i>float</i> objects:</p>"
   ]
  },
  {
   "cell_type": "code",
   "execution_count": null,
   "id": "ba98c940-629d-4a5b-939e-4f467a9f46fd",
   "metadata": {},
   "outputs": [],
   "source": [
    "'1.2'"
   ]
  },
  {
   "cell_type": "code",
   "execution_count": null,
   "id": "49c2f248-21ec-4065-ab60-ca7934820b3b",
   "metadata": {},
   "outputs": [],
   "source": [
    "type(\"1.2\")"
   ]
  },
  {
   "cell_type": "code",
   "execution_count": null,
   "id": "812278b1-d4d5-4193-bf4b-92802a0a9219",
   "metadata": {},
   "outputs": [],
   "source": [
    "# Convert the string \"1.2\" into a float\n",
    "float('1.2')"
   ]
  },
  {
   "cell_type": "code",
   "execution_count": null,
   "id": "0311ec01-9fc6-419e-8d95-0fdc926bceca",
   "metadata": {},
   "outputs": [],
   "source": [
    "type(1.2)"
   ]
  },
  {
   "cell_type": "markdown",
   "id": "eeaf633a-1d5c-42c0-8eaa-1dfcdb22c02f",
   "metadata": {},
   "source": [
    "<hr/>\n",
    "<div class=\"alert alert-success alertsuccess\" style=\"margin-top: 20px\">\n",
    "    [Tip:] Note that strings can be represented with single quotes (<code>'1.2'</code>) or double quotes (<code>\"1.2\"</code>), but you can't mix both (e.g., <code>\"1.2'</code>).\n",
    "</div>\n",
    "<hr/>"
   ]
  },
  {
   "cell_type": "markdown",
   "id": "32561620-89ab-4ae2-aa52-ea5ee4b765c8",
   "metadata": {},
   "source": [
    "#### Converting numbers to strings"
   ]
  },
  {
   "cell_type": "markdown",
   "id": "14e7ee52-eede-42e8-b566-8141c72648ff",
   "metadata": {},
   "source": [
    "<p>If we can convert strings to numbers, it is only natural to assume that we can convert numbers to strings, right?</p>"
   ]
  },
  {
   "cell_type": "code",
   "execution_count": null,
   "id": "ac9d0d21-e581-48d2-9cf0-27bacce69716",
   "metadata": {},
   "outputs": [],
   "source": [
    "type('1')"
   ]
  },
  {
   "cell_type": "markdown",
   "id": "65414453-e60f-4cd4-9f3b-c3787cac7876",
   "metadata": {},
   "source": [
    "<p>And there is no reason why we shouldn't be able to make floats into strings as well:</p> "
   ]
  },
  {
   "cell_type": "code",
   "execution_count": null,
   "id": "b38f4760-8152-4b33-a7d8-eec6791603ec",
   "metadata": {},
   "outputs": [],
   "source": [
    "# Type of True\n",
    "type(True)"
   ]
  },
  {
   "cell_type": "code",
   "execution_count": null,
   "id": "ab40624b-31c9-43c3-9228-c13101b94b42",
   "metadata": {},
   "outputs": [],
   "source": [
    "# Type of False\n",
    "type(False)"
   ]
  },
  {
   "cell_type": "markdown",
   "id": "1931d31c-d232-478d-a490-30e252f415c3",
   "metadata": {},
   "source": [
    "#### Converting booleans to other types"
   ]
  },
  {
   "cell_type": "markdown",
   "id": "b8b2e95a-7dd0-4857-8bca-ca4d6e7ff891",
   "metadata": {},
   "source": [
    "<p>We can cast boolean objects to other data types. If we cast a boolean with a value of <code>True</code> to an integer or float we will get a one. If we cast a boolean with a value of <code>False</code> to an integer or float we will get a zero. Similarly, if we cast a 1 to a Boolean, you get a <code>True</code>. And if we cast a 0 to a Boolean we will get a <code>False</code>. Let's give it a try:</p> "
   ]
  },
  {
   "cell_type": "code",
   "execution_count": null,
   "id": "0a230ce9-e849-4abc-aff3-3f281a511e01",
   "metadata": {},
   "outputs": [],
   "source": [
    "# Convert True to int\n",
    "int(True)"
   ]
  },
  {
   "cell_type": "code",
   "execution_count": null,
   "id": "4c328484-be8b-4296-a788-4c20ab9fe79b",
   "metadata": {},
   "outputs": [],
   "source": [
    "# Covert False to int\n",
    "int(False)"
   ]
  },
  {
   "cell_type": "code",
   "execution_count": null,
   "id": "8be92fd7-b29a-42b7-8a47-d88aaf9696bc",
   "metadata": {},
   "outputs": [],
   "source": [
    "# Convert 1 to boolean\n",
    "bool(1)"
   ]
  },
  {
   "cell_type": "code",
   "execution_count": null,
   "id": "67e9d89b-3b72-4d38-ae67-3e80582c7f40",
   "metadata": {},
   "outputs": [],
   "source": [
    "# Convert 0 to boolean\n",
    "bool(0)"
   ]
  },
  {
   "cell_type": "code",
   "execution_count": null,
   "id": "47447586-bd7a-451a-aea5-bac590395e20",
   "metadata": {},
   "outputs": [],
   "source": [
    "# Convert True to float\n",
    "float(True)"
   ]
  },
  {
   "cell_type": "markdown",
   "id": "60b96b59-e5c9-492a-8602-54352864a097",
   "metadata": {},
   "source": [
    "<div class=\"alert alert-block alert-info\" style=\"margin-top: 20px\">\n",
    "<a id='assignment-link'></a>\n",
    "\n",
    "### Assignment Link\n",
    "</div>"
   ]
  },
  {
   "cell_type": "markdown",
   "id": "2953fb7d-2b64-476a-971f-de10dbd0e5f7",
   "metadata": {},
   "source": [
    "Now we would try out some practical examples with what we have learnt so far ! Let us try out this [notebook](../projectbooks/1.Intro_to_Python.ipynb)"
   ]
  },
  {
   "cell_type": "markdown",
   "id": "73aede2e-7289-4c5c-9f41-31e192b66f4b",
   "metadata": {},
   "source": [
    "<div class=\"alert alert-block alert-info\" style=\"margin-top: 20px\">\n",
    "<a id='after-thoughts'></a>\n",
    "    \n",
    "### After Thoughts ??\n",
    "</div>"
   ]
  },
  {
   "cell_type": "markdown",
   "id": "0800100d-756b-495f-a0d0-e924d20f9cd6",
   "metadata": {},
   "source": [
    "Is it easy so far and what are you already dreaming of??"
   ]
  },
  {
   "cell_type": "markdown",
   "id": "7165d1d9-881f-46f6-82c8-b627e127c6b8",
   "metadata": {},
   "source": [
    "<div class=\"alert alert-block alert-info\" style=\"margin-top: 20px\">\n",
    "<a id='about'></a>\n",
    "    \n",
    "### About this Instructor:\n",
    "</div>\n",
    "<p><a href=\"https://github.com/chisomloius/\" target= \"_blank\"> ChisomLoius</a> is very passionate about Data Analysis and Machine Learning and does lot of free lance teaching and learning. Holding a B.Eng. in Petroleum Engineering, my focused is leveraging the knowledge of Data Science and Machine Learning to help build solutions in Education and High Tech Security. I currently work as a Petrochemist.\n",
    "</p>"
   ]
  },
  {
   "cell_type": "markdown",
   "id": "535dfbea-55fd-4444-b108-279dfe68b6be",
   "metadata": {},
   "source": [
    "<div class=\"alert alert-block alert-info\" style=\"margin-top: 20px\">\n",
    "<a id='more-info'></a>\n",
    "    \n",
    "### More Info\n",
    "</div>"
   ]
  },
  {
   "cell_type": "markdown",
   "id": "67671117-a6c5-4577-a0bb-c50c87050d6e",
   "metadata": {},
   "source": [
    "\n",
    "<p> Visit our <a href=\"https://techorigin.alisutechnology.com\" target= \"_blank\">website</a>, or further enquire more information via our <a href=\"info@techorigin.alisutechnology.com\" target= \"_blank\">email</a>. \n",
    "<hr>\n",
    "<p>Copyright &copy; 2021 TechOrigin. This notebook and its source code are released under the terms of the <a href=\"https://cognitiveclass.ai/mit-license/\">MIT License</a>.</p>"
   ]
  }
 ],
 "metadata": {
  "kernelspec": {
   "display_name": "Python 3 (ipykernel)",
   "language": "python",
   "name": "python3"
  },
  "language_info": {
   "codemirror_mode": {
    "name": "ipython",
    "version": 3
   },
   "file_extension": ".py",
   "mimetype": "text/x-python",
   "name": "python",
   "nbconvert_exporter": "python",
   "pygments_lexer": "ipython3",
   "version": "3.8.3"
  }
 },
 "nbformat": 4,
 "nbformat_minor": 5
}
