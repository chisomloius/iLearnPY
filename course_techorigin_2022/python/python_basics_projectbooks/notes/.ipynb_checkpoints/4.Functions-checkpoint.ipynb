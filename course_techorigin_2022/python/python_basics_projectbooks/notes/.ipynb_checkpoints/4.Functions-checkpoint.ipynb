{
 "cells": [
  {
   "cell_type": "code",
   "execution_count": null,
   "id": "aefd0da6-695d-40d9-8aa5-28f5100f31a7",
   "metadata": {},
   "outputs": [],
   "source": [
    "Image of Tech Origin at Top left\n",
    "Link to Github Link, link to Colab "
   ]
  },
  {
   "cell_type": "code",
   "execution_count": null,
   "id": "4fba27cc-3037-4952-9d65-cf69f0dc8b98",
   "metadata": {},
   "outputs": [],
   "source": [
    "Title:"
   ]
  },
  {
   "cell_type": "code",
   "execution_count": null,
   "id": "752c0269-d31b-4eb5-b512-f3185f568894",
   "metadata": {},
   "outputs": [],
   "source": [
    "Table of Contents"
   ]
  },
  {
   "cell_type": "code",
   "execution_count": null,
   "id": "787084e0-5bed-4511-8e40-89926e122e31",
   "metadata": {},
   "outputs": [],
   "source": [
    "Content"
   ]
  },
  {
   "cell_type": "code",
   "execution_count": null,
   "id": "0d902bee-4382-4d32-aa4f-23df40d32432",
   "metadata": {},
   "outputs": [],
   "source": [
    "After Thoughts on Lessons ???"
   ]
  },
  {
   "cell_type": "code",
   "execution_count": null,
   "id": "6dc478ef-4d49-484b-a6c6-674161ecc46b",
   "metadata": {},
   "outputs": [],
   "source": [
    "Assignment Link"
   ]
  },
  {
   "cell_type": "code",
   "execution_count": null,
   "id": "cfb84232-da60-4b71-9d4b-3c37c4da2409",
   "metadata": {},
   "outputs": [],
   "source": [
    "Author's page"
   ]
  },
  {
   "cell_type": "code",
   "execution_count": null,
   "id": "5821b90b-4ede-4dcc-b902-35819a374900",
   "metadata": {},
   "outputs": [],
   "source": [
    "Copyright message\n",
    "Website link, Message"
   ]
  }
 ],
 "metadata": {
  "kernelspec": {
   "display_name": "Python 3 (ipykernel)",
   "language": "python",
   "name": "python3"
  },
  "language_info": {
   "codemirror_mode": {
    "name": "ipython",
    "version": 3
   },
   "file_extension": ".py",
   "mimetype": "text/x-python",
   "name": "python",
   "nbconvert_exporter": "python",
   "pygments_lexer": "ipython3",
   "version": "3.8.3"
  }
 },
 "nbformat": 4,
 "nbformat_minor": 5
}
