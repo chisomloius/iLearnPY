{
 "cells": [
  {
   "cell_type": "markdown",
   "id": "92249e2a-5a93-4eff-ac34-9b7b2b344c43",
   "metadata": {},
   "source": [
    "![logo.png](image/logo.png)\n",
    "# Data Structures\n",
    "\n",
    "### You can access this notebook on: \n",
    "[colab](https://colab.com/py/), [github](https://github.com/chisomloius/iLearnPy/), [kaggle](https://kaggle.com/chisomloius/ilearnPy/), [medium](https://medium.com/@chisomloius/ilearnPy/), [web](https://chisomloius.github.io), [zindi](https://zindi.com/@chisomloius/ilearnPy/)"
   ]
  },
  {
   "cell_type": "markdown",
   "id": "de1de7eb-28ba-4a2c-8c23-e19a05de3825",
   "metadata": {},
   "source": [
    "# Table of Contents\n",
    "\n",
    "### Click on the links to go directly to specific sections on  the notebook.\n",
    "\n",
    "1. [Import Dependencies](#dependencies)\n",
    "<br>\n",
    "2. [Tuples](#tuples)\n",
    "<br>\n",
    "3. [List](#list)\n",
    "<br>\n",
    "4. [Sets](#sets)\n",
    "<br>\n",
    "5. [Dictionaries](#dictionaries)\n",
    "<br>\n",
    "6. [After Thoughts](#after-thoughts)\n",
    "<br>\n",
    "7. [Assignment Link](#assignment-link)\n",
    "<br> \n",
    "8. [About Author](#about)\n",
    "<br> \n",
    "9. [More Info](#more-info)\n",
    "<br>\n",
    "<p>Estimated time needed: <strong>50 min</strong></p>\n",
    "\n",
    "----\n"
   ]
  },
  {
   "cell_type": "code",
   "execution_count": null,
   "id": "362d0ec6-eb58-457d-95fa-f25516d268e9",
   "metadata": {},
   "outputs": [],
   "source": [
    "Content"
   ]
  },
  {
   "cell_type": "code",
   "execution_count": null,
   "id": "b4bd7c8c-0141-4638-9eab-3484d4b518f8",
   "metadata": {},
   "outputs": [],
   "source": [
    "After Thoughts on Lessons ???"
   ]
  },
  {
   "cell_type": "code",
   "execution_count": null,
   "id": "65483a6b-e6d4-4751-b3f2-65a93dbf440a",
   "metadata": {},
   "outputs": [],
   "source": [
    "Assignment Link"
   ]
  },
  {
   "cell_type": "code",
   "execution_count": null,
   "id": "6acd7e48-446a-4b08-b2ef-dcdd73262f77",
   "metadata": {},
   "outputs": [],
   "source": [
    "Author's page"
   ]
  },
  {
   "cell_type": "code",
   "execution_count": null,
   "id": "bbc19fcd-6990-4b52-a43f-c768d113b54a",
   "metadata": {},
   "outputs": [],
   "source": [
    "Copyright message\n",
    "Website link, Message"
   ]
  }
 ],
 "metadata": {
  "kernelspec": {
   "display_name": "Python 3 (ipykernel)",
   "language": "python",
   "name": "python3"
  },
  "language_info": {
   "codemirror_mode": {
    "name": "ipython",
    "version": 3
   },
   "file_extension": ".py",
   "mimetype": "text/x-python",
   "name": "python",
   "nbconvert_exporter": "python",
   "pygments_lexer": "ipython3",
   "version": "3.8.3"
  }
 },
 "nbformat": 4,
 "nbformat_minor": 5
}
