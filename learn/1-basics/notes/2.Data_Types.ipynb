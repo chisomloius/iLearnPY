{
 "cells": [
  {
   "cell_type": "markdown",
   "id": "967f4fe3-524d-4980-9908-2fe7bfb759e3",
   "metadata": {
    "tags": []
   },
   "source": [
    "<div>\n",
    "<p style=\"text-align:center\"><img src=\"../images/logo.png\" width=\"300\" /></p>\n",
    "</div>\n",
    "# Data Structures\n",
    "\n",
    "### You can access this notebook on: \n",
    "[colab](https://colab.com/py/), [github](https://github.com/chisomloius/iLearnPy/), [kaggle](https://kaggle.com/chisomloius/ilearnPy/), [medium](https://medium.com/@chisomloius/ilearnPy/), [web](https://chisomloius.github.io), [zindi](https://zindi.com/@chisomloius/ilearnPy/)"
   ]
  },
  {
   "cell_type": "markdown",
   "id": "4e84016f-11c3-4f5c-849e-f7893a45354c",
   "metadata": {
    "tags": []
   },
   "source": [
    "# Table of Contents\n",
    "\n",
    "### Click on the links to go directly to specific sections on  the notebook.\n",
    "\n",
    "1. [Import Dependencies](#dependencies)\n",
    "<br>\n",
    "2. [Tuples](#tuples)\n",
    "<br>\n",
    "3. [List](#list)\n",
    "<br>\n",
    "4. [Sets](#sets)\n",
    "<br>\n",
    "5. [Dictionaries](#dictionaries)\n",
    "<br>\n",
    "6. [After Thoughts](#after-thoughts)\n",
    "<br>\n",
    "7. [Assignment Link](#assignment-link)\n",
    "<br> \n",
    "8. [About Author](#about)\n",
    "<br> \n",
    "9. [More Info](#more-info)\n",
    "<br>\n",
    "<p>Estimated time needed: <strong>50 min</strong></p>\n",
    "\n",
    "----\n"
   ]
  },
  {
   "cell_type": "markdown",
   "id": "d68a9800-15be-4068-9d56-4441342f1b1f",
   "metadata": {},
   "source": [
    "### Python - Let's get you writing some Python Code now!</h1>\n",
    "<p><strong>Welcome!</strong> This notebook will teach you about the tuples, list, sets and dictionaries in the Python Programming Language. By the end of this lab, you'll know their basic operations in Python, including indexing, slicing, sorting, updating, deleting and so on.</p>"
   ]
  },
  {
   "cell_type": "markdown",
   "id": "3483bf9b-c1be-4705-bf59-e094a33c5b7f",
   "metadata": {},
   "source": [
    "<div class=\"alert alert-block alert-info\" style=\"margin-top: 20px\">\n",
    "<a id='dependencies'></a>\n",
    "    \n",
    "### Import Dependencies \n",
    "</div>"
   ]
  },
  {
   "cell_type": "code",
   "execution_count": null,
   "id": "e7546369-d500-48aa-b6a2-711e2379abb8",
   "metadata": {},
   "outputs": [],
   "source": [
    "%%expect_exception TypeError"
   ]
  },
  {
   "cell_type": "markdown",
   "id": "743b3d45-ce42-4497-8692-686f51ccb6a0",
   "metadata": {},
   "source": [
    "<div class=\"alert alert-block alert-info\" style=\"margin-top: 20px\">\n",
    "<a id='tuples'></a>\n",
    "    \n",
    "### Tuples\n",
    "</div>"
   ]
  },
  {
   "cell_type": "markdown",
   "id": "b57f283f-32bc-49b7-a288-8e04f3ee054b",
   "metadata": {},
   "source": [
    "<p><strong>Welcome!</strong> This notebook will teach you about the tuples in the Python Programming Language. By the end of this lab, you'll know the basics tuple operations in Python, including indexing, slicing and sorting.</p> "
   ]
  },
  {
   "cell_type": "markdown",
   "id": "8c12874c-7908-4532-9adf-a7578efe6c6f",
   "metadata": {},
   "source": [
    "#### About this Dataset"
   ]
  },
  {
   "cell_type": "markdown",
   "id": "18f89973-5666-4583-bf39-77e37b58255f",
   "metadata": {},
   "source": [
    "#### What is in a Tuple"
   ]
  },
  {
   "cell_type": "markdown",
   "id": "5f8098d7-ee21-41d3-8b3b-2d3ef01ad228",
   "metadata": {},
   "source": [
    "In Python, there are different data types: string, integer and float. These data types can all be contained in a tuple as follows:"
   ]
  },
  {
   "cell_type": "markdown",
   "id": "b7175716-f85e-4f2f-93a4-d6f466d21858",
   "metadata": {},
   "source": [
    "<img src=\"https://s3-api.us-geo.objectstorage.softlayer.net/cf-courses-data/CognitiveClass/PY0101EN/Chapter%202/Images/TuplesType.png\" width=\"750\" align=\"center\" />"
   ]
  },
  {
   "cell_type": "markdown",
   "id": "c7285739-2938-431f-b2df-02c31419de24",
   "metadata": {},
   "source": [
    "Now, let us create your first tuple with string, integer and float."
   ]
  },
  {
   "cell_type": "code",
   "execution_count": 1,
   "id": "e3421240-aeda-4ea3-92ad-a383f6d0fc26",
   "metadata": {
    "collapsed": false,
    "jupyter": {
     "outputs_hidden": false
    }
   },
   "outputs": [
    {
     "data": {
      "text/plain": [
       "('disco', 10, 1.2)"
      ]
     },
     "execution_count": 1,
     "metadata": {},
     "output_type": "execute_result"
    }
   ],
   "source": [
    "# Create your first tuple\n",
    "\n",
    "tuple1 = (\"disco\", 10, 1.2)\n",
    "tuple1"
   ]
  },
  {
   "cell_type": "markdown",
   "id": "a1ba59bc-6778-4079-ac4d-c268e740637c",
   "metadata": {},
   "source": [
    "The type of variable is a **tuple**. "
   ]
  },
  {
   "cell_type": "code",
   "execution_count": 3,
   "id": "2a54bc56-d97b-486d-889d-e1a50f7721bf",
   "metadata": {
    "collapsed": false,
    "jupyter": {
     "outputs_hidden": false
    }
   },
   "outputs": [
    {
     "data": {
      "text/plain": [
       "tuple"
      ]
     },
     "execution_count": 3,
     "metadata": {},
     "output_type": "execute_result"
    }
   ],
   "source": [
    "# Print the type of the tuple you created\n",
    "\n",
    "type(tuple1)"
   ]
  },
  {
   "cell_type": "markdown",
   "id": "7072333d-8b45-4595-9f33-746857bbfc29",
   "metadata": {},
   "source": [
    "#### Indexing Tuples"
   ]
  },
  {
   "cell_type": "markdown",
   "id": "80a8e44d-7129-4fd1-9146-2460afd09330",
   "metadata": {},
   "source": [
    " Each element of a tuple can be accessed via an index. The following table represents the relationship between the index and the items in the tuple. Each element can be obtained by the name of the tuple followed by a square bracket with the index number:"
   ]
  },
  {
   "cell_type": "markdown",
   "id": "3afdb0c1-d80c-4f2d-8d2b-19fbc328638e",
   "metadata": {},
   "source": [
    "<img src=\"https://s3-api.us-geo.objectstorage.softlayer.net/cf-courses-data/CognitiveClass/PY0101EN/Chapter%202/Images/TuplesIndex.gif\" width=\"750\" align=\"center\">"
   ]
  },
  {
   "cell_type": "markdown",
   "id": "f526e7f1-88dd-46a0-a00a-5aa3f0178891",
   "metadata": {},
   "source": [
    "We can print out each value in the tuple:"
   ]
  },
  {
   "cell_type": "code",
   "execution_count": 4,
   "id": "113b929f-52a6-456d-874f-ba32acce4f2a",
   "metadata": {
    "collapsed": false,
    "jupyter": {
     "outputs_hidden": false
    }
   },
   "outputs": [
    {
     "name": "stdout",
     "output_type": "stream",
     "text": [
      "disco\n",
      "10\n",
      "1.2\n"
     ]
    }
   ],
   "source": [
    "# Print the variable on each index\n",
    "\n",
    "print(tuple1[0])\n",
    "print(tuple1[1])\n",
    "print(tuple1[2])"
   ]
  },
  {
   "cell_type": "markdown",
   "id": "40ceb7e1-b227-4e18-b378-178b86577127",
   "metadata": {},
   "source": [
    "We can print out the **type** of each value in the tuple:\n"
   ]
  },
  {
   "cell_type": "code",
   "execution_count": 5,
   "id": "4d0a15f8-ff8b-4ac2-85ba-393314e73714",
   "metadata": {
    "collapsed": false,
    "jupyter": {
     "outputs_hidden": false
    }
   },
   "outputs": [
    {
     "name": "stdout",
     "output_type": "stream",
     "text": [
      "<class 'str'>\n",
      "<class 'int'>\n",
      "<class 'float'>\n"
     ]
    }
   ],
   "source": [
    "# Print the type of value on each index\n",
    "\n",
    "print(type(tuple1[0]))\n",
    "print(type(tuple1[1]))\n",
    "print(type(tuple1[2]))"
   ]
  },
  {
   "cell_type": "markdown",
   "id": "8bc74666-b841-402d-9e6f-48c240928f61",
   "metadata": {},
   "source": [
    "We can also use negative indexing. We use the same table above with corresponding negative values:"
   ]
  },
  {
   "cell_type": "markdown",
   "id": "a0f8d05c-b7a4-4ee7-844a-1244f6113ca9",
   "metadata": {},
   "source": [
    "<img src=\"https://s3-api.us-geo.objectstorage.softlayer.net/cf-courses-data/CognitiveClass/PY0101EN/Chapter%202/Images/TuplesNeg.png\" width=\"750\" align=\"center\">"
   ]
  },
  {
   "cell_type": "markdown",
   "id": "90c3af5f-2065-48f6-9ebc-c7a7f7b55b48",
   "metadata": {},
   "source": [
    "We can obtain the last element as follows (this time we will not use the print statement to display the values):"
   ]
  },
  {
   "cell_type": "code",
   "execution_count": 6,
   "id": "16a1f5ba-ef30-4395-bf31-6d344eb78de4",
   "metadata": {
    "collapsed": false,
    "jupyter": {
     "outputs_hidden": false
    }
   },
   "outputs": [
    {
     "data": {
      "text/plain": [
       "1.2"
      ]
     },
     "execution_count": 6,
     "metadata": {},
     "output_type": "execute_result"
    }
   ],
   "source": [
    "# Use negative index to get the value of the last element\n",
    "tuple1[-1]"
   ]
  },
  {
   "cell_type": "markdown",
   "id": "a9431ef9-d1e6-4d71-8bca-bf4699dbacf1",
   "metadata": {},
   "source": [
    "We can display the next two elements as follows:"
   ]
  },
  {
   "cell_type": "code",
   "execution_count": 7,
   "id": "3d2720fa-d483-4ab1-b420-0efa88395591",
   "metadata": {
    "collapsed": false,
    "jupyter": {
     "outputs_hidden": false
    }
   },
   "outputs": [
    {
     "data": {
      "text/plain": [
       "10"
      ]
     },
     "execution_count": 7,
     "metadata": {},
     "output_type": "execute_result"
    }
   ],
   "source": [
    "# Use negative index to get the value of the second last element\n",
    "tuple1[-2]"
   ]
  },
  {
   "cell_type": "code",
   "execution_count": 8,
   "id": "c5e48279-532b-4efb-91f4-5c96194cff21",
   "metadata": {
    "collapsed": false,
    "jupyter": {
     "outputs_hidden": false
    }
   },
   "outputs": [
    {
     "data": {
      "text/plain": [
       "'disco'"
      ]
     },
     "execution_count": 8,
     "metadata": {},
     "output_type": "execute_result"
    }
   ],
   "source": [
    "# Use negative index to get the value of the third last element\n",
    "tuple1[-3]"
   ]
  },
  {
   "cell_type": "markdown",
   "id": "1a515300-c2ef-4b97-b575-8ede2c50b6fa",
   "metadata": {},
   "source": [
    "#### Concatenate Tuples"
   ]
  },
  {
   "cell_type": "markdown",
   "id": "80bba8e1-ef9e-4a64-85be-e981d7191787",
   "metadata": {},
   "source": [
    "We can concatenate or combine tuples by using the **+** sign:"
   ]
  },
  {
   "cell_type": "code",
   "execution_count": 9,
   "id": "52caf316-8376-4911-b8fd-db43c07f6df7",
   "metadata": {
    "collapsed": false,
    "jupyter": {
     "outputs_hidden": false
    }
   },
   "outputs": [
    {
     "data": {
      "text/plain": [
       "('disco', 10, 1.2, 'hard rock', 10)"
      ]
     },
     "execution_count": 9,
     "metadata": {},
     "output_type": "execute_result"
    }
   ],
   "source": [
    "# Concatenate two tuples\n",
    "\n",
    "tuple2 = tuple1 + (\"hard rock\", 10)\n",
    "tuple2"
   ]
  },
  {
   "cell_type": "markdown",
   "id": "1851923e-301a-454e-9fcb-6336eabb4be3",
   "metadata": {},
   "source": [
    "We can slice tuples obtaining multiple values as demonstrated by the figure below:"
   ]
  },
  {
   "cell_type": "markdown",
   "id": "b8f9e8a6-857d-40f3-a50f-f28d869d83b9",
   "metadata": {},
   "source": [
    "<img src=\"https://s3-api.us-geo.objectstorage.softlayer.net/cf-courses-data/CognitiveClass/PY0101EN/Chapter%202/Images/TuplesSlice.gif\" width=\"750\" align=\"center\">"
   ]
  },
  {
   "cell_type": "markdown",
   "id": "45240b44-fadb-430a-8970-234e03646853",
   "metadata": {},
   "source": [
    "#### Slicing Tuples"
   ]
  },
  {
   "cell_type": "markdown",
   "id": "37be2af7-b936-4e5f-8c70-92dc161bf1c8",
   "metadata": {},
   "source": [
    "We can slice tuples, obtaining new tuples with the corresponding elements: "
   ]
  },
  {
   "cell_type": "code",
   "execution_count": 10,
   "id": "af9a61d3-4a06-49be-b73d-7e584ab957df",
   "metadata": {
    "collapsed": false,
    "jupyter": {
     "outputs_hidden": false
    }
   },
   "outputs": [
    {
     "data": {
      "text/plain": [
       "('disco', 10, 1.2)"
      ]
     },
     "execution_count": 10,
     "metadata": {},
     "output_type": "execute_result"
    }
   ],
   "source": [
    "# Slice from index 0 to index 2\n",
    "tuple2[0:3]"
   ]
  },
  {
   "cell_type": "markdown",
   "id": "6a0980b3-1c8f-45f5-8f08-9cef4e96abf1",
   "metadata": {},
   "source": [
    "We can obtain the last two elements of the tuple:"
   ]
  },
  {
   "cell_type": "code",
   "execution_count": 11,
   "id": "a9262abe-3b55-4934-a0ab-3adf7cc8030e",
   "metadata": {
    "collapsed": false,
    "jupyter": {
     "outputs_hidden": false
    }
   },
   "outputs": [
    {
     "data": {
      "text/plain": [
       "('hard rock', 10)"
      ]
     },
     "execution_count": 11,
     "metadata": {},
     "output_type": "execute_result"
    }
   ],
   "source": [
    "# Slice from index 3 to index 4\n",
    "tuple2[3:5]"
   ]
  },
  {
   "cell_type": "markdown",
   "id": "7643f800-1b39-42ad-b06a-45df1b74fbd3",
   "metadata": {},
   "source": [
    "We can obtain the length of a tuple using the length command: "
   ]
  },
  {
   "cell_type": "code",
   "execution_count": 12,
   "id": "1cf62bb0-aae7-4fba-86cf-7a1712d7a9e7",
   "metadata": {
    "collapsed": false,
    "jupyter": {
     "outputs_hidden": false
    }
   },
   "outputs": [
    {
     "data": {
      "text/plain": [
       "5"
      ]
     },
     "execution_count": 12,
     "metadata": {},
     "output_type": "execute_result"
    }
   ],
   "source": [
    "# Get the length of tuple\n",
    "len(tuple2)"
   ]
  },
  {
   "cell_type": "markdown",
   "id": "ca7e22fa-58f7-4089-84b8-7290e13d62f9",
   "metadata": {},
   "source": [
    "This figure shows the number of elements:"
   ]
  },
  {
   "cell_type": "markdown",
   "id": "9ec6d30c-4191-48ba-b47f-7194a670b43d",
   "metadata": {},
   "source": [
    "<img src=\"https://s3-api.us-geo.objectstorage.softlayer.net/cf-courses-data/CognitiveClass/PY0101EN/Chapter%202/Images/TuplesElement.png\" width=\"750\" align=\"center\">"
   ]
  },
  {
   "cell_type": "markdown",
   "id": "52a008be-cd34-476d-8ca8-b25a793ea910",
   "metadata": {},
   "source": [
    "#### Sorting Tuples"
   ]
  },
  {
   "cell_type": "markdown",
   "id": "d88a7b79-2828-429a-9ee6-166c12bc6303",
   "metadata": {},
   "source": [
    " Consider the following tuple:"
   ]
  },
  {
   "cell_type": "code",
   "execution_count": 13,
   "id": "7673fdb1-e438-4a1b-8e8c-fd49995aa475",
   "metadata": {},
   "outputs": [],
   "source": [
    "# A sample tuple\n",
    "Ratings = (0, 9, 6, 5, 10, 8, 9, 6, 2, 78547, 7402, 90, 1234, 10, 1)"
   ]
  },
  {
   "cell_type": "markdown",
   "id": "87d19ad6-23bb-4d84-a89d-f273fa8b77b9",
   "metadata": {},
   "source": [
    "We can sort the values in a tuple and save it to a new tuple: "
   ]
  },
  {
   "cell_type": "code",
   "execution_count": 16,
   "id": "1aeb3c44-4f93-436d-ad99-2f22bfb9e59a",
   "metadata": {
    "collapsed": false,
    "jupyter": {
     "outputs_hidden": false
    }
   },
   "outputs": [
    {
     "data": {
      "text/plain": [
       "[0, 1, 2, 5, 6, 6, 8, 9, 9, 10, 10, 90, 1234, 7402, 78547]"
      ]
     },
     "execution_count": 16,
     "metadata": {},
     "output_type": "execute_result"
    }
   ],
   "source": [
    "# Sort the tuple\n",
    "\n",
    "RatingsSorted = sorted(Ratings)\n",
    "RatingsSorted"
   ]
  },
  {
   "cell_type": "markdown",
   "id": "fbd404ca-e68a-48d1-bc0b-abd8fc132e23",
   "metadata": {},
   "source": [
    "##### Nested Tuple"
   ]
  },
  {
   "cell_type": "markdown",
   "id": "a8412876-8a09-4ae7-9567-469b9302e879",
   "metadata": {},
   "source": [
    "A tuple can contain another tuple as well as other more complex data types. This process is called 'nesting'. Consider the following tuple with several elements: "
   ]
  },
  {
   "cell_type": "code",
   "execution_count": 17,
   "id": "5e5ae56a-e8cb-4d99-b6a9-1cd45cdfd05a",
   "metadata": {},
   "outputs": [],
   "source": [
    "# Create a nest tuple\n",
    "\n",
    "NestedT =(1, 2, (\"pop\", \"rock\") ,(3,4),(\"disco\",(1,2)))"
   ]
  },
  {
   "cell_type": "markdown",
   "id": "580e3a92-3c1e-414d-81da-58e395086b28",
   "metadata": {},
   "source": [
    "Each element in the tuple including other tuples can be obtained via an index as shown in the figure:"
   ]
  },
  {
   "cell_type": "markdown",
   "id": "f87f56fe-8fca-49ce-88ff-4a9427bea2e3",
   "metadata": {},
   "source": [
    "<img src=\"https://s3-api.us-geo.objectstorage.softlayer.net/cf-courses-data/CognitiveClass/PY0101EN/Chapter%202/Images/TuplesNestOne.png\" width=\"750\" align=\"center\">"
   ]
  },
  {
   "cell_type": "code",
   "execution_count": 22,
   "id": "d1930956-db11-4ebd-9583-86832d88e1d6",
   "metadata": {
    "collapsed": false,
    "jupyter": {
     "outputs_hidden": false
    }
   },
   "outputs": [
    {
     "name": "stdout",
     "output_type": "stream",
     "text": [
      "Element 0 of Tuple:  1\n",
      "Element 1 of Tuple:  2\n",
      "Element 2 of Tuple:  ('pop', 'rock')\n",
      "Element 3 of Tuple:  (3, 4)\n",
      "Element 4 of Tuple:  ('disco', (1, 2))\n"
     ]
    }
   ],
   "source": [
    "# Print element on each index\n",
    "\n",
    "print(\"Element 0 of Tuple: \", NestedT[0])\n",
    "print(\"Element 1 of Tuple: \", NestedT[1])\n",
    "print(\"Element 2 of Tuple: \", NestedT[2])\n",
    "print(\"Element 3 of Tuple: \", NestedT[3])\n",
    "print(\"Element 4 of Tuple: \", NestedT[4])"
   ]
  },
  {
   "cell_type": "markdown",
   "id": "8abbc648-1b0f-473c-89e9-30e9e6ac1036",
   "metadata": {},
   "source": [
    "We can use the second index to access other tuples as demonstrated in the figure:"
   ]
  },
  {
   "cell_type": "markdown",
   "id": "932c4dcc-a050-4414-91fd-7bf277cecfd5",
   "metadata": {},
   "source": [
    "<img src=\"https://s3-api.us-geo.objectstorage.softlayer.net/cf-courses-data/CognitiveClass/PY0101EN/Chapter%202/Images/TuplesNestTwo.png\" width=\"750\" align=\"center\">"
   ]
  },
  {
   "cell_type": "markdown",
   "id": "7a118f6c-61ff-49a1-b4f0-2aef1209f171",
   "metadata": {},
   "source": [
    " We can access the nested tuples :"
   ]
  },
  {
   "cell_type": "code",
   "execution_count": 23,
   "id": "93ba70b8-6912-4a05-8000-8e8419ff3b36",
   "metadata": {
    "collapsed": false,
    "jupyter": {
     "outputs_hidden": false
    }
   },
   "outputs": [
    {
     "name": "stdout",
     "output_type": "stream",
     "text": [
      "Element 2, 0 of Tuple:  pop\n",
      "Element 2, 1 of Tuple:  rock\n",
      "Element 3, 0 of Tuple:  3\n",
      "Element 3, 1 of Tuple:  4\n",
      "Element 4, 0 of Tuple:  disco\n",
      "Element 4, 1 of Tuple:  (1, 2)\n"
     ]
    }
   ],
   "source": [
    "# Print element on each index, including nest indexes\n",
    "\n",
    "print(\"Element 2, 0 of Tuple: \",   NestedT[2][0])\n",
    "print(\"Element 2, 1 of Tuple: \",   NestedT[2][1])\n",
    "print(\"Element 3, 0 of Tuple: \",   NestedT[3][0])\n",
    "print(\"Element 3, 1 of Tuple: \",   NestedT[3][1])\n",
    "print(\"Element 4, 0 of Tuple: \",   NestedT[4][0])\n",
    "print(\"Element 4, 1 of Tuple: \",   NestedT[4][1])"
   ]
  },
  {
   "cell_type": "markdown",
   "id": "d5070c04-7b04-4979-8b24-44162e1f9fe5",
   "metadata": {},
   "source": [
    "We can access strings in the second nested tuples using a third index:"
   ]
  },
  {
   "cell_type": "code",
   "execution_count": 24,
   "id": "499524da-1f57-4a29-86fa-713d9b12840d",
   "metadata": {},
   "outputs": [
    {
     "data": {
      "text/plain": [
       "'p'"
      ]
     },
     "execution_count": 24,
     "metadata": {},
     "output_type": "execute_result"
    }
   ],
   "source": [
    "#print the first element in the first nested tuples\n",
    "\n",
    "NestedT [2][0][0]"
   ]
  },
  {
   "cell_type": "code",
   "execution_count": 25,
   "id": "48247019-3b31-4a6d-8ee4-acec4d7fb815",
   "metadata": {
    "collapsed": false,
    "jupyter": {
     "outputs_hidden": false
    }
   },
   "outputs": [
    {
     "data": {
      "text/plain": [
       "'r'"
      ]
     },
     "execution_count": 25,
     "metadata": {},
     "output_type": "execute_result"
    }
   ],
   "source": [
    "# Print the first element in the second nested tuples\n",
    "\n",
    "NestedT[2][1][0]"
   ]
  },
  {
   "cell_type": "code",
   "execution_count": 26,
   "id": "8d36dbbd-3539-4416-a0f7-dfd916a5de12",
   "metadata": {
    "collapsed": false,
    "jupyter": {
     "outputs_hidden": false
    }
   },
   "outputs": [
    {
     "data": {
      "text/plain": [
       "'o'"
      ]
     },
     "execution_count": 26,
     "metadata": {},
     "output_type": "execute_result"
    }
   ],
   "source": [
    "# Print the second element in the second nested tuples\n",
    "\n",
    "NestedT[2][1][1]"
   ]
  },
  {
   "cell_type": "markdown",
   "id": "1ba4d1ca-6144-4a83-921e-8d25f6cdb67b",
   "metadata": {},
   "source": [
    " We can use a tree to visualise the process. Each new index corresponds to a deeper level in the tree:"
   ]
  },
  {
   "cell_type": "markdown",
   "id": "042341ff-d428-47ba-8de4-02d34a40502d",
   "metadata": {},
   "source": [
    "<img src=\"https://s3-api.us-geo.objectstorage.softlayer.net/cf-courses-data/CognitiveClass/PY0101EN/Chapter%202/Images/TuplesNestThree.gif\" width=\"750\" align=\"center\">"
   ]
  },
  {
   "cell_type": "markdown",
   "id": "3617a2a9-f8ac-4f08-b9d1-6e95a8882a62",
   "metadata": {},
   "source": [
    "Similarly, we can access elements nested deeper in the tree with a fourth index:"
   ]
  },
  {
   "cell_type": "code",
   "execution_count": 27,
   "id": "b2f40f4e-d6ad-4110-aaa2-3d0a5022a287",
   "metadata": {
    "collapsed": false,
    "jupyter": {
     "outputs_hidden": false
    }
   },
   "outputs": [
    {
     "data": {
      "text/plain": [
       "1"
      ]
     },
     "execution_count": 27,
     "metadata": {},
     "output_type": "execute_result"
    }
   ],
   "source": [
    "# Print the first element in the second nested tuples\n",
    "\n",
    "NestedT[4][1][0]"
   ]
  },
  {
   "cell_type": "code",
   "execution_count": 28,
   "id": "7455c1c6-6c75-46a5-a9a7-8501243f0aee",
   "metadata": {
    "collapsed": false,
    "jupyter": {
     "outputs_hidden": false
    }
   },
   "outputs": [
    {
     "data": {
      "text/plain": [
       "2"
      ]
     },
     "execution_count": 28,
     "metadata": {},
     "output_type": "execute_result"
    }
   ],
   "source": [
    "# Print the second element in the second nested tuples\n",
    "\n",
    "NestedT[4][1][1]"
   ]
  },
  {
   "cell_type": "code",
   "execution_count": 29,
   "id": "3f09867d-c25b-40b6-b841-c8dba40aaeed",
   "metadata": {},
   "outputs": [
    {
     "data": {
      "text/plain": [
       "'c'"
      ]
     },
     "execution_count": 29,
     "metadata": {},
     "output_type": "execute_result"
    }
   ],
   "source": [
    "# Print the second element in the first nested tuples of the fourth index\n",
    "NestedT [4][0][3]"
   ]
  },
  {
   "cell_type": "markdown",
   "id": "8ece4142-e689-4929-9e1a-caedfd063520",
   "metadata": {},
   "source": [
    "The following figure shows the relationship of the tree and the element <code>NestedT[4][1][1]</code>:"
   ]
  },
  {
   "cell_type": "markdown",
   "id": "9b8e6035-3880-4273-86b2-58a2d9746e77",
   "metadata": {},
   "source": [
    "<img src=\"https://s3-api.us-geo.objectstorage.softlayer.net/cf-courses-data/CognitiveClass/PY0101EN/Chapter%202/Images/TuplesNestFour.gif\" width=\"750\" align=\"center\">"
   ]
  },
  {
   "cell_type": "markdown",
   "id": "caf9bcd5-7c83-4429-a462-bc3e342654b0",
   "metadata": {},
   "source": [
    "While we can retrieve data through indexing (because a `tuple` is ordered), we cannot modify it (because a `tuple` is immutable)."
   ]
  },
  {
   "cell_type": "code",
   "execution_count": 31,
   "id": "ce363bbe-9112-4a73-b9d8-d71a572b7c5d",
   "metadata": {},
   "outputs": [
    {
     "name": "stdout",
     "output_type": "stream",
     "text": [
      "('Dylan', 26, 167.6, True)\n"
     ]
    }
   ],
   "source": [
    "tuple3 = ('Dylan', 26, 167.6, True)\n",
    "print(tuple3)"
   ]
  },
  {
   "cell_type": "markdown",
   "id": "fc53d50a-7cef-4210-9c4d-79d395b87ea6",
   "metadata": {},
   "source": [
    "While we can retrieve data through indexing (because a `tuple` is ordered), we cannot modify it (because a `tuple` is immutable)."
   ]
  },
  {
   "cell_type": "code",
   "execution_count": 32,
   "id": "02dab092-3b5b-43ce-b433-358bfa6e0d0a",
   "metadata": {},
   "outputs": [
    {
     "name": "stdout",
     "output_type": "stream",
     "text": [
      "Dylan\n",
      "26\n",
      "167.6\n"
     ]
    }
   ],
   "source": [
    "print(tuple3[0])\n",
    "print(tuple3[1])\n",
    "print(tuple3[2])"
   ]
  },
  {
   "cell_type": "code",
   "execution_count": 34,
   "id": "630edb42-bf21-4758-98f0-96692ad64ad8",
   "metadata": {},
   "outputs": [
    {
     "ename": "TypeError",
     "evalue": "'tuple' object does not support item assignment",
     "output_type": "error",
     "traceback": [
      "\u001b[1;31m---------------------------------------------------------------------------\u001b[0m",
      "\u001b[1;31mTypeError\u001b[0m                                 Traceback (most recent call last)",
      "\u001b[1;32mC:\\Users\\DIMARI~1\\AppData\\Local\\Temp/ipykernel_9756/2379307537.py\u001b[0m in \u001b[0;36m<module>\u001b[1;34m\u001b[0m\n\u001b[1;32m----> 1\u001b[1;33m \u001b[0mtuple3\u001b[0m\u001b[1;33m[\u001b[0m\u001b[1;36m2\u001b[0m\u001b[1;33m]\u001b[0m \u001b[1;33m=\u001b[0m \u001b[1;36m169.3\u001b[0m\u001b[1;33m\u001b[0m\u001b[1;33m\u001b[0m\u001b[0m\n\u001b[0m",
      "\u001b[1;31mTypeError\u001b[0m: 'tuple' object does not support item assignment"
     ]
    }
   ],
   "source": [
    "%%expect_exception TypeError\n",
    "\n",
    "tuple3[2] = 169.3"
   ]
  },
  {
   "cell_type": "markdown",
   "id": "8301aee7-251e-4987-9ca8-d84e0c5d7393",
   "metadata": {},
   "source": [
    "#### Deleting Tuples"
   ]
  },
  {
   "cell_type": "code",
   "execution_count": 35,
   "id": "02c74e94-bc43-47e7-b67a-7cc457cec4f2",
   "metadata": {},
   "outputs": [
    {
     "name": "stderr",
     "output_type": "stream",
     "text": [
      "UsageError: Cell magic `%%expect_exception` not found.\n"
     ]
    }
   ],
   "source": [
    "%%expect_exception TypeError\n",
    "\n",
    "# deletion also fails\n",
    "del tuple3[-1]"
   ]
  },
  {
   "cell_type": "markdown",
   "id": "08fea921-bbb1-4355-9f48-3ea1b1b6f360",
   "metadata": {},
   "source": [
    "For clarity enclose tuples with `()`, Python will assume we want a `tuple` if we don't use any symbols to enclose comma separated values as seen below."
   ]
  },
  {
   "cell_type": "code",
   "execution_count": 37,
   "id": "2d8a13ae-b2ea-4ea4-870a-d2c0a751e767",
   "metadata": {},
   "outputs": [
    {
     "name": "stdout",
     "output_type": "stream",
     "text": [
      "('Jill', 36, 162.3, True)\n",
      "<class 'tuple'>\n"
     ]
    }
   ],
   "source": [
    "tuple4 = 'Jill', 36, 162.3, True #this is a tuple\n",
    "print(tuple4)\n",
    "print(type(tuple4))"
   ]
  },
  {
   "cell_type": "markdown",
   "id": "86ef81c9-3905-4446-a742-a73a87e81a99",
   "metadata": {},
   "source": [
    "This implicit `tuple` comes up most often when working with functions that return multiple outputs. For example, we might have a function that returns the first and last letter of a string."
   ]
  },
  {
   "cell_type": "code",
   "execution_count": 43,
   "id": "56ac369e-4a5d-4c7e-b1bc-4359f9b31661",
   "metadata": {},
   "outputs": [
    {
     "name": "stdout",
     "output_type": "stream",
     "text": [
      "('h', '!')\n"
     ]
    }
   ],
   "source": [
    "def first_last(s):\n",
    "    return s[0], s[-1]\n",
    "\n",
    "\n",
    "chars = first_last('hello!')\n",
    "print(chars)"
   ]
  },
  {
   "cell_type": "markdown",
   "id": "0f85e718-6df4-410a-8793-dddf6700e522",
   "metadata": {},
   "source": [
    "#### Tuple Unpacking"
   ]
  },
  {
   "cell_type": "markdown",
   "id": "44b967d9-d64a-4c57-842b-41e2f08f67e1",
   "metadata": {},
   "source": [
    "In such cases, we'll sometimes want to store the multiple outputs in separate variables."
   ]
  },
  {
   "cell_type": "code",
   "execution_count": 44,
   "id": "62bd2a8c-214b-4a19-958f-0d20fc7949c5",
   "metadata": {},
   "outputs": [
    {
     "name": "stdout",
     "output_type": "stream",
     "text": [
      "h\n",
      "!\n"
     ]
    }
   ],
   "source": [
    "first_char, last_char = first_last('hello!')\n",
    "\n",
    "print(first_char)\n",
    "print(last_char)"
   ]
  },
  {
   "cell_type": "markdown",
   "id": "cbb8cfda-143e-4dde-a8e9-9b08b047b7b5",
   "metadata": {},
   "source": [
    "This syntax above is called _unpacking_. We can use it with any `tuple`, whether it was returned by a function or not."
   ]
  },
  {
   "cell_type": "code",
   "execution_count": 45,
   "id": "8ef53aef-5bf5-4801-b5a7-f30a3cff9806",
   "metadata": {},
   "outputs": [
    {
     "name": "stdout",
     "output_type": "stream",
     "text": [
      "c\n",
      "!\n"
     ]
    }
   ],
   "source": [
    "def first_last(s):\n",
    "    return s[0], s[-1]\n",
    "\n",
    "first_char, last_char = first_last('computerised!')\n",
    "\n",
    "print(first_char)\n",
    "print(last_char)"
   ]
  },
  {
   "cell_type": "code",
   "execution_count": 46,
   "id": "a688293d-64a5-4601-831c-c6ff0489ac4b",
   "metadata": {},
   "outputs": [
    {
     "name": "stdout",
     "output_type": "stream",
     "text": [
      "('Dylan', 26, 167.6, True)\n",
      "Dylan\n",
      "26\n",
      "167.6\n",
      "True\n"
     ]
    }
   ],
   "source": [
    "tuple5 = ('Dylan', 26, 167.6, True)\n",
    "print(tuple5)\n",
    "\n",
    "name, age, height, has_dog = tuple5\n",
    "\n",
    "print(name)\n",
    "print(age)\n",
    "print(height)\n",
    "print(has_dog)"
   ]
  },
  {
   "cell_type": "markdown",
   "id": "463038c8-0927-493c-9fd8-bb7118fa0cf5",
   "metadata": {},
   "source": [
    "Both the Python `list` and `tuple` are ordered and heterogeneous. However, unlike the `list`, the `tuple` is immutable, meaning it cannot be modified after it is created. Therefore, a `list` might be better for representing data that is expected to change over the course of a program, like a to-do list. A `tuple` might be better for representing data that is expected to be fixed, like the responses of an individual subject to a survey.\n",
    "\n",
    "#### Gotcha\n",
    "\n",
    "One common mistake people make with immutability and especially with tuples is to assume data structures inside the tuple are immutable because the tuple is immutable.  Lets see an example.\n",
    "\n",
    "Even though the tuple itself is immutable, we cannot change the exact objects which it contains, those objects themselves can be mutated if they are mutable.  As with anywhere mutability shows up, this requires the programmer to be careful and not assume data has not been modified in some context."
   ]
  },
  {
   "cell_type": "code",
   "execution_count": 47,
   "id": "3d0396f2-d2a0-4272-96de-ad217d272a59",
   "metadata": {},
   "outputs": [
    {
     "name": "stdout",
     "output_type": "stream",
     "text": [
      "([], 'a')\n",
      "([1], 'a')\n"
     ]
    }
   ],
   "source": [
    "tuple6 = tuple([[], 'a'])\n",
    "print(tuple6)\n",
    "tuple6[0].append(1)\n",
    "print(tuple6)"
   ]
  },
  {
   "cell_type": "code",
   "execution_count": 48,
   "id": "0263742e-df80-459b-9e8b-3b96d4811b46",
   "metadata": {},
   "outputs": [
    {
     "name": "stdout",
     "output_type": "stream",
     "text": [
      "([], 'a')\n",
      "([[23, 90]], 'a')\n"
     ]
    }
   ],
   "source": [
    "tuple7 = tuple([[], 'a'])\n",
    "print(tuple7)\n",
    "tuple7[0].append([23, 90])\n",
    "print(tuple7)"
   ]
  },
  {
   "cell_type": "markdown",
   "id": "c68894d0-4be9-47a2-9f4c-f5d026ca8927",
   "metadata": {},
   "source": [
    "<div class=\"alert alert-block alert-info\" style=\"margin-top: 20px\">\n",
    "<a id='lists'></a>\n",
    "    \n",
    "### Lists\n",
    "</div>"
   ]
  },
  {
   "cell_type": "markdown",
   "id": "5e65b2cf-31e4-4ba7-ac72-7c6f404d7703",
   "metadata": {},
   "source": [
    "<p><strong>Welcome!</strong> This notebook will teach you about the lists in the Python Programming Language. By the end of this lab, you'll know the basics list operations in Python, including indexing, other list operations and copy/clone list.</p> "
   ]
  },
  {
   "cell_type": "markdown",
   "id": "bde6ddd2-c9b3-46e5-8ca4-068488cc224d",
   "metadata": {},
   "source": [
    "<h2 id=\"#dataset\">About the Dataset</h2>"
   ]
  },
  {
   "cell_type": "markdown",
   "id": "30c9c6f9-eb2b-49a5-9321-2e71de074688",
   "metadata": {},
   "source": [
    "Imagine you received album recommendations from your friends and compiled all of the recommandations into a table, with specific information about each album.\n",
    "\n",
    "The table has one row for each movie and several columns:\n",
    "\n",
    "- **artist** - Name of the artist\n",
    "- **album** - Name of the album\n",
    "- **released_year** - Year the album was released\n",
    "- **length_min_sec** - Length of the album (hours,minutes,seconds)\n",
    "- **genre** - Genre of the album\n",
    "- **music_recording_sales_millions** - Music recording sales (millions in USD) on [SONG://DATABASE](http://www.song-database.com/)\n",
    "- **claimed_sales_millions** - Album's claimed sales (millions in USD) on [SONG://DATABASE](http://www.song-database.com/)\n",
    "- **date_released** - Date on which the album was released\n",
    "- **soundtrack** - Indicates if the album is the movie soundtrack (Y) or (N)\n",
    "- **rating_of_friends** - Indicates the rating from your friends from 1 to 10\n",
    "<br>\n",
    "<br>\n",
    "\n",
    "The dataset can be seen below:\n",
    "<font size=\"1\">\n",
    "<table font-size:xx-small>\n",
    "  <tr>\n",
    "    <th>Artist</th>\n",
    "    <th>Album</th> \n",
    "    <th>Released</th>\n",
    "    <th>Length</th>\n",
    "    <th>Genre</th> \n",
    "    <th>Music recording sales (millions)</th>\n",
    "    <th>Claimed sales (millions)</th>\n",
    "    <th>Released</th>\n",
    "    <th>Soundtrack</th>\n",
    "    <th>Rating (friends)</th>\n",
    "  </tr>\n",
    "  <tr>\n",
    "    <td>Michael Jackson</td>\n",
    "    <td>Thriller</td> \n",
    "    <td>1982</td>\n",
    "    <td>00:42:19</td>\n",
    "    <td>Pop, rock, R&B</td>\n",
    "    <td>46</td>\n",
    "    <td>65</td>\n",
    "    <td>30-Nov-82</td>\n",
    "    <td></td>\n",
    "    <td>10.0</td>\n",
    "  </tr>\n",
    "  <tr>\n",
    "    <td>AC/DC</td>\n",
    "    <td>Back in Black</td> \n",
    "    <td>1980</td>\n",
    "    <td>00:42:11</td>\n",
    "    <td>Hard rock</td>\n",
    "    <td>26.1</td>\n",
    "    <td>50</td>\n",
    "    <td>25-Jul-80</td>\n",
    "    <td></td>\n",
    "    <td>8.5</td>\n",
    "  </tr>\n",
    "    <tr>\n",
    "    <td>Pink Floyd</td>\n",
    "    <td>The Dark Side of the Moon</td> \n",
    "    <td>1973</td>\n",
    "    <td>00:42:49</td>\n",
    "    <td>Progressive rock</td>\n",
    "    <td>24.2</td>\n",
    "    <td>45</td>\n",
    "    <td>01-Mar-73</td>\n",
    "    <td></td>\n",
    "    <td>9.5</td>\n",
    "  </tr>\n",
    "    <tr>\n",
    "    <td>Whitney Houston</td>\n",
    "    <td>The Bodyguard</td> \n",
    "    <td>1992</td>\n",
    "    <td>00:57:44</td>\n",
    "    <td>Soundtrack/R&B, soul, pop</td>\n",
    "    <td>26.1</td>\n",
    "    <td>50</td>\n",
    "    <td>25-Jul-80</td>\n",
    "    <td>Y</td>\n",
    "    <td>7.0</td>\n",
    "  </tr>\n",
    "    <tr>\n",
    "    <td>Meat Loaf</td>\n",
    "    <td>Bat Out of Hell</td> \n",
    "    <td>1977</td>\n",
    "    <td>00:46:33</td>\n",
    "    <td>Hard rock, progressive rock</td>\n",
    "    <td>20.6</td>\n",
    "    <td>43</td>\n",
    "    <td>21-Oct-77</td>\n",
    "    <td></td>\n",
    "    <td>7.0</td>\n",
    "  </tr>\n",
    "    <tr>\n",
    "    <td>Eagles</td>\n",
    "    <td>Their Greatest Hits (1971-1975)</td> \n",
    "    <td>1976</td>\n",
    "    <td>00:43:08</td>\n",
    "    <td>Rock, soft rock, folk rock</td>\n",
    "    <td>32.2</td>\n",
    "    <td>42</td>\n",
    "    <td>17-Feb-76</td>\n",
    "    <td></td>\n",
    "    <td>9.5</td>\n",
    "  </tr>\n",
    "    <tr>\n",
    "    <td>Bee Gees</td>\n",
    "    <td>Saturday Night Fever</td> \n",
    "    <td>1977</td>\n",
    "    <td>1:15:54</td>\n",
    "    <td>Disco</td>\n",
    "    <td>20.6</td>\n",
    "    <td>40</td>\n",
    "    <td>15-Nov-77</td>\n",
    "    <td>Y</td>\n",
    "    <td>9.0</td>\n",
    "  </tr>\n",
    "    <tr>\n",
    "    <td>Fleetwood Mac</td>\n",
    "    <td>Rumours</td> \n",
    "    <td>1977</td>\n",
    "    <td>00:40:01</td>\n",
    "    <td>Soft rock</td>\n",
    "    <td>27.9</td>\n",
    "    <td>40</td>\n",
    "    <td>04-Feb-77</td>\n",
    "    <td></td>\n",
    "    <td>9.5</td>\n",
    "  </tr>\n",
    "</table></font>"
   ]
  },
  {
   "cell_type": "markdown",
   "id": "d308ddd0-20df-4b9a-b4e8-0b2bf6468263",
   "metadata": {},
   "source": [
    "<hr>"
   ]
  },
  {
   "cell_type": "markdown",
   "id": "a1e4c021-ba65-4a5f-a18b-f7189a318b69",
   "metadata": {},
   "source": [
    "Below:\n",
    "\n",
    "|Artist|Album|Relased|Length|Genre|Music recording sales (millions)|Claimed sales (millions)|Released|Soundtrack|Rating (friends)|\n",
    "|------|-----|-------|------|-----|-------|-------|-----|-----|----|\n",
    "|Michael Jackson|Thriller|1982|00:42:19|Pop, rock, R&B|46|65|30-Nov-82|b|10.0|\n",
    "|Michael Jackson|Thriller|1982|00:42:19|Pop, rock, R&B|46|65|30-Nov-82|b|9.0|\n",
    "|Michael Jackson|Thriller|1982|00:42:19|Pop, rock, R&B|46|65|30-Nov-82|b|10.0|\n",
    "|Michael Jackson|Thriller|1982|00:42:19|Pop, rock, R&B|46|65|30-Nov-82|b|10.0|"
   ]
  },
  {
   "cell_type": "markdown",
   "id": "3bf7e8ac-e5c5-4751-bf2d-e2d07eb09e0c",
   "metadata": {
    "tags": []
   },
   "source": [
    "#### Indexing"
   ]
  },
  {
   "cell_type": "markdown",
   "id": "f4efa93d-c4ea-4e38-a722-bb7fd5f77475",
   "metadata": {},
   "source": [
    "We are going to take a look at lists in Python. A list is a sequenced collection of different objects such as integers, strings, and other lists as well. The address of each element within a list is called an <b>index</b>. An index is used to access and refer to items within a list."
   ]
  },
  {
   "cell_type": "markdown",
   "id": "c6207899-958c-456c-8b82-b031d7ccee68",
   "metadata": {},
   "source": [
    "<img src=\"https://s3-api.us-geo.objectstorage.softlayer.net/cf-courses-data/CognitiveClass/PY0101EN/Chapter%202/Images/ListsIndex.png\" width=\"1000\" />"
   ]
  },
  {
   "cell_type": "markdown",
   "id": "e943f468-ab50-418a-9618-10ead40df71f",
   "metadata": {},
   "source": [
    " To create a list, type the list within square brackets <b>[ ]</b>, with your content inside the parenthesis and separated by commas. Let’s try it!"
   ]
  },
  {
   "cell_type": "code",
   "execution_count": 52,
   "id": "b6192359-6378-4b24-a642-426ae5392d1c",
   "metadata": {
    "collapsed": false,
    "jupyter": {
     "outputs_hidden": false
    }
   },
   "outputs": [
    {
     "data": {
      "text/plain": [
       "['Michael Jackson', 10.1, 1982, True]"
      ]
     },
     "execution_count": 52,
     "metadata": {},
     "output_type": "execute_result"
    }
   ],
   "source": [
    "# Create a list\n",
    "L = [\"Michael Jackson\", 10.1, 1982, True]\n",
    "L"
   ]
  },
  {
   "cell_type": "markdown",
   "id": "8beb25a6-682a-42c0-9f93-18a45673789f",
   "metadata": {},
   "source": [
    "We can use negative and regular indexing with a list :"
   ]
  },
  {
   "cell_type": "markdown",
   "id": "f94b7ba5-9c64-438c-b16e-2a9d42bdfa2e",
   "metadata": {},
   "source": [
    "<img src=\"https://s3-api.us-geo.objectstorage.softlayer.net/cf-courses-data/CognitiveClass/PY0101EN/Chapter%202/Images/ListsNeg.png\" width=\"1000\" />"
   ]
  },
  {
   "cell_type": "code",
   "execution_count": 53,
   "id": "1005927e-7188-484e-ae52-9a1c4b7f6870",
   "metadata": {
    "collapsed": false,
    "jupyter": {
     "outputs_hidden": false
    }
   },
   "outputs": [
    {
     "name": "stdout",
     "output_type": "stream",
     "text": [
      "the same element using negative and positive indexing:\n",
      " Postive: Michael Jackson \n",
      " Negative: 10.1\n",
      "the same element using negative and positive indexing:\n",
      " Postive: 10.1 \n",
      " Negative: 1982\n",
      "the same element using negative and positive indexing:\n",
      " Postive: 1982 \n",
      " Negative: True\n"
     ]
    }
   ],
   "source": [
    "# Print the elements on each index\n",
    "\n",
    "print('the same element using negative and positive indexing:\\n Postive:',L[0],\n",
    "'\\n Negative:' , L[-3] )\n",
    "print('the same element using negative and positive indexing:\\n Postive:',L[1],\n",
    "'\\n Negative:' , L[-2]  )\n",
    "print('the same element using negative and positive indexing:\\n Postive:',L[2],\n",
    "'\\n Negative:' , L[-1]  )"
   ]
  },
  {
   "cell_type": "code",
   "execution_count": 57,
   "id": "05efe64e-ca84-4572-a086-6c4f94926219",
   "metadata": {},
   "outputs": [
    {
     "data": {
      "text/plain": [
       "1982"
      ]
     },
     "execution_count": 57,
     "metadata": {},
     "output_type": "execute_result"
    }
   ],
   "source": [
    "L[2]"
   ]
  },
  {
   "cell_type": "markdown",
   "id": "35e49712-96a0-49a7-b157-fbe3e85f656a",
   "metadata": {},
   "source": [
    "<h3 id=\"content\">List Content</h3>"
   ]
  },
  {
   "cell_type": "markdown",
   "id": "925d285c-be6c-43b9-b401-46528aa20d85",
   "metadata": {},
   "source": [
    "Lists can contain strings, floats, and integers. We can nest other lists, and we can also nest tuples and other data structures. The same indexing conventions apply for nesting:    \n"
   ]
  },
  {
   "cell_type": "code",
   "execution_count": null,
   "id": "dfc7f23f-a65f-49c9-8d7f-65e08f6c7502",
   "metadata": {
    "collapsed": false,
    "jupyter": {
     "outputs_hidden": false
    }
   },
   "outputs": [],
   "source": [
    "# Sample List\n",
    "[\"Michael Jackson\", 10.1, 1982, [1, 2], (\"A\", 1)]"
   ]
  },
  {
   "cell_type": "markdown",
   "id": "16f1be67-1a64-47ba-ad25-b78b2de5b38a",
   "metadata": {},
   "source": [
    "Python `list` are: 'ordered', 'heterogeneous', and 'mutable'. Because it is heterogeneous and mutable, the `list` is very flexible. We need to be careful about the changes we make to a `list`, because they can be very unpredictable. We could break our code or lose data!"
   ]
  },
  {
   "cell_type": "markdown",
   "id": "e041becb-c463-48e0-9399-7741ab7f2ce3",
   "metadata": {},
   "source": [
    "#### List Operations: Slicing"
   ]
  },
  {
   "cell_type": "markdown",
   "id": "ee1f2da4-076c-4ecd-a035-05cafcabf318",
   "metadata": {},
   "source": [
    " We can also perform slicing in lists. For example, if we want the last two elements, we use the following command:"
   ]
  },
  {
   "cell_type": "code",
   "execution_count": null,
   "id": "0ad79eb2-5697-4bc9-a60f-7f972ef69e8c",
   "metadata": {
    "collapsed": false,
    "jupyter": {
     "outputs_hidden": false
    }
   },
   "outputs": [],
   "source": [
    "# Sample List\n",
    "List = [\"Michael Jackson\", 10.1, 1982, \"MJ\" ,1]\n",
    "List"
   ]
  },
  {
   "cell_type": "markdown",
   "id": "eed94956-29c1-43d8-97a4-7a3d92eb589f",
   "metadata": {},
   "source": [
    "<img src=\"https://s3-api.us-geo.objectstorage.softlayer.net/cf-courses-data/CognitiveClass/PY0101EN/Chapter%202/Images/ListsSlice.png\" width=\"1000\">"
   ]
  },
  {
   "cell_type": "code",
   "execution_count": null,
   "id": "19010cb6-effe-4c4b-b602-2e11297dd286",
   "metadata": {
    "collapsed": false,
    "jupyter": {
     "outputs_hidden": false
    }
   },
   "outputs": [],
   "source": [
    "# List slicing\n",
    "List[3:5]"
   ]
  },
  {
   "cell_type": "markdown",
   "id": "db1637e3-d494-42a3-a57d-94b470f786c8",
   "metadata": {},
   "source": [
    "#### Extend Method\n",
    "We can use the method <code>extend</code> to add new elements to the list:"
   ]
  },
  {
   "cell_type": "code",
   "execution_count": 58,
   "id": "070742f3-1e07-4a29-8733-a59af3194dd0",
   "metadata": {
    "collapsed": false,
    "jupyter": {
     "outputs_hidden": false
    }
   },
   "outputs": [
    {
     "data": {
      "text/plain": [
       "['Michael Jackson', 10.2, 'pop', 10]"
      ]
     },
     "execution_count": 58,
     "metadata": {},
     "output_type": "execute_result"
    }
   ],
   "source": [
    "# Use extend to add elements to list\n",
    "List = [\"Michael Jackson\", 10.2]\n",
    "List.extend(['pop', 10])\n",
    "List"
   ]
  },
  {
   "cell_type": "code",
   "execution_count": 59,
   "id": "f6d731e7-f422-48c4-9c7f-288d80c8934c",
   "metadata": {},
   "outputs": [
    {
     "data": {
      "text/plain": [
       "['Michael Jackson', 10.2, 90]"
      ]
     },
     "execution_count": 59,
     "metadata": {},
     "output_type": "execute_result"
    }
   ],
   "source": [
    "List = [\"Michael Jackson\", 10.2]\n",
    "List.extend([90])\n",
    "List"
   ]
  },
  {
   "cell_type": "markdown",
   "id": "3ef7e422-6148-4d23-9112-79f68559a60b",
   "metadata": {},
   "source": [
    "Another similar method is <code>extendend</code>. If we apply <code>append</code> instead of <code>extend</code>, we add one element to the list:"
   ]
  },
  {
   "cell_type": "code",
   "execution_count": 60,
   "id": "086e76a2-4d4d-44f0-a817-67ac31bbaa48",
   "metadata": {
    "collapsed": false,
    "jupyter": {
     "outputs_hidden": false
    }
   },
   "outputs": [
    {
     "data": {
      "text/plain": [
       "['Michael Jackson', 10.2, ['pop', 10]]"
      ]
     },
     "execution_count": 60,
     "metadata": {},
     "output_type": "execute_result"
    }
   ],
   "source": [
    "# Use append to add elements to list\n",
    "List = [ \"Michael Jackson\", 10.2]\n",
    "List.append(['pop', 10])\n",
    "List"
   ]
  },
  {
   "cell_type": "markdown",
   "id": "f52edf30-68a5-4844-a008-5487069820fc",
   "metadata": {},
   "source": [
    " Each time we apply a method, the list changes. If we apply <code>extend</code> we add two new elements to the list. The list <code>L</code> is then modified by adding two new elements:"
   ]
  },
  {
   "cell_type": "code",
   "execution_count": 61,
   "id": "9ae90922-9ef3-450f-86d1-a52898f3786f",
   "metadata": {
    "collapsed": false,
    "jupyter": {
     "outputs_hidden": false
    }
   },
   "outputs": [
    {
     "data": {
      "text/plain": [
       "['Michael Jackson', 10.2, 'pop', 10]"
      ]
     },
     "execution_count": 61,
     "metadata": {},
     "output_type": "execute_result"
    }
   ],
   "source": [
    "# Use extend to add elements to list\n",
    "List = [ \"Michael Jackson\", 10.2]\n",
    "List.extend(['pop', 10])\n",
    "List"
   ]
  },
  {
   "cell_type": "markdown",
   "id": "82171768-287b-445f-ba65-a91592aba005",
   "metadata": {},
   "source": [
    "If we append the list  <code>['a','b']</code> we have one new element consisting of a nested list:"
   ]
  },
  {
   "cell_type": "code",
   "execution_count": 62,
   "id": "abebbb7a-3f24-409e-a1ba-8ce4edb47aba",
   "metadata": {
    "collapsed": false,
    "jupyter": {
     "outputs_hidden": false
    }
   },
   "outputs": [
    {
     "data": {
      "text/plain": [
       "['Michael Jackson', 10.2, 'pop', 10, ['a', 'b']]"
      ]
     },
     "execution_count": 62,
     "metadata": {},
     "output_type": "execute_result"
    }
   ],
   "source": [
    "# Use append to add elements to list\n",
    "List.append(['a','b'])\n",
    "List"
   ]
  },
  {
   "cell_type": "markdown",
   "id": "6fa21e59-575e-4e42-8325-b7667f7ecc31",
   "metadata": {},
   "source": [
    "As lists are mutable, we can change them. For example, we can change the first element as follows:"
   ]
  },
  {
   "cell_type": "code",
   "execution_count": 64,
   "id": "0c4267c9-a0e6-4935-8ac8-15b346b3cfe4",
   "metadata": {
    "collapsed": false,
    "jupyter": {
     "outputs_hidden": false
    }
   },
   "outputs": [
    {
     "name": "stdout",
     "output_type": "stream",
     "text": [
      "Before change: ['disco', 10, 1.2]\n",
      "After change: ['hard rock', 10, 1.2]\n"
     ]
    }
   ],
   "source": [
    "# Change the element based on the index\n",
    "List2 = [\"disco\", 10, 1.2]\n",
    "print('Before change:', List2)\n",
    "List2[0] = 'hard rock'\n",
    "print('After change:', List2)"
   ]
  },
  {
   "cell_type": "markdown",
   "id": "c2760054-68f6-4ef0-baa5-0939dba80645",
   "metadata": {},
   "source": [
    "#### Deleting Elements in List\n",
    "We can also delete an element of a list using the <code>del</code> command:"
   ]
  },
  {
   "cell_type": "code",
   "execution_count": 65,
   "id": "09c15d9f-6623-4fd1-9b44-7aadac771056",
   "metadata": {
    "collapsed": false,
    "jupyter": {
     "outputs_hidden": false
    }
   },
   "outputs": [
    {
     "name": "stdout",
     "output_type": "stream",
     "text": [
      "Before change: ['hard rock', 10, 1.2]\n",
      "After change: [10, 1.2]\n"
     ]
    }
   ],
   "source": [
    "# Delete the element based on the index\n",
    "\n",
    "print('Before change:', List2)\n",
    "del(List2[0])\n",
    "print('After change:', List2)"
   ]
  },
  {
   "cell_type": "markdown",
   "id": "bb974f18-b4cb-4583-acd1-d9625fdf3cc0",
   "metadata": {},
   "source": [
    "We can convert a string to a list using <code>split</code>.  For example, the method <code>split</code> translates every group of characters separated by a space into an element in a list:"
   ]
  },
  {
   "cell_type": "code",
   "execution_count": 66,
   "id": "514ce215-93d1-4f99-9947-7a5e6900d490",
   "metadata": {
    "collapsed": false,
    "jupyter": {
     "outputs_hidden": false
    }
   },
   "outputs": [
    {
     "data": {
      "text/plain": [
       "['hard', 'rock']"
      ]
     },
     "execution_count": 66,
     "metadata": {},
     "output_type": "execute_result"
    }
   ],
   "source": [
    "# Split the string, default is by space\n",
    "\n",
    "'hard rock'.split()"
   ]
  },
  {
   "cell_type": "markdown",
   "id": "477a1cd8-ad06-4877-9b3a-8a878723402a",
   "metadata": {},
   "source": [
    "We can use the split function to separate strings on a specific character. We pass the character we would like to split on into the argument, which in this case is a comma.  The result is a list, and each element corresponds to a set of characters that have been separated by a comma: "
   ]
  },
  {
   "cell_type": "code",
   "execution_count": 67,
   "id": "1833ebd6-3ceb-47a2-b2f8-23205a05a84c",
   "metadata": {
    "collapsed": false,
    "jupyter": {
     "outputs_hidden": false
    }
   },
   "outputs": [
    {
     "data": {
      "text/plain": [
       "['A', 'B', 'C', 'D']"
      ]
     },
     "execution_count": 67,
     "metadata": {},
     "output_type": "execute_result"
    }
   ],
   "source": [
    "# Split the string by comma\n",
    "\n",
    "'A,B,C,D'.split(\",\")"
   ]
  },
  {
   "cell_type": "markdown",
   "id": "8f2a252f-bbdd-4a26-a41b-b1adb2a5b896",
   "metadata": {},
   "source": [
    "<h3 id=\"co\">Copy and Clone List</h3>"
   ]
  },
  {
   "cell_type": "markdown",
   "id": "3394ad79-be99-43ca-93e4-853a749e9174",
   "metadata": {},
   "source": [
    "When we set one variable <b>List4</b> equal to <b>List3</b>; both <b>List3</b> and <b>List4</b> are referencing the same list in memory:"
   ]
  },
  {
   "cell_type": "code",
   "execution_count": 68,
   "id": "a6f0dcd2-f07f-45b6-9c48-c0dec6082f63",
   "metadata": {
    "collapsed": false,
    "jupyter": {
     "outputs_hidden": false
    }
   },
   "outputs": [
    {
     "name": "stdout",
     "output_type": "stream",
     "text": [
      "List3: ['hard rock', 10, 1.2]\n",
      "List4: ['hard rock', 10, 1.2]\n"
     ]
    }
   ],
   "source": [
    "# Copy (copy by reference) the list A\n",
    "List3= [\"hard rock\", 10, 1.2]\n",
    "List4 = List3\n",
    "print('List3:', List3)\n",
    "print('List4:', List4)"
   ]
  },
  {
   "cell_type": "markdown",
   "id": "f07bf20a-6985-4994-8cce-0e937fb1b8bd",
   "metadata": {},
   "source": [
    "<img src=\"https://s3-api.us-geo.objectstorage.softlayer.net/cf-courses-data/CognitiveClass/PY0101EN/Chapter%202/Images/ListsRef.png\" width=\"1000\" align=\"center\">"
   ]
  },
  {
   "cell_type": "markdown",
   "id": "dc8d9723-a2c3-4fcd-9c64-4f6ee683717c",
   "metadata": {},
   "source": [
    "Initially, the value of the first element in <b>List4</b> is set as hard rock. If we change the first element in <b>List3</b> to <b>banana</b>, we get an unexpected side effect.  As <b>List3</b> and <b>List4</b> are referencing the same list, if we change list <b>List3</b>, then list <b>List4</b> also changes. If we check the first element of <b>List4</b> we get banana instead of hard rock:"
   ]
  },
  {
   "cell_type": "code",
   "execution_count": null,
   "id": "de41a103-85ea-4aca-8ac1-38a5d250b10f",
   "metadata": {
    "collapsed": false,
    "jupyter": {
     "outputs_hidden": false
    }
   },
   "outputs": [],
   "source": [
    "# Examine the copy by reference\n",
    "print('List3[0]:', List3[0])\n",
    "List3[0] = \"banana\"\n",
    "print('List4[0]:', List4[0])"
   ]
  },
  {
   "cell_type": "markdown",
   "id": "55def011-6ea2-4b87-b376-e395e2bcb49d",
   "metadata": {},
   "source": [
    "This is demonstrated in the following figure: "
   ]
  },
  {
   "cell_type": "markdown",
   "id": "7ea8b0bf-99f0-4eb7-9e31-1d2e34c7f5f7",
   "metadata": {},
   "source": [
    "<img src = \"https://s3-api.us-geo.objectstorage.softlayer.net/cf-courses-data/CognitiveClass/PY0101EN/Chapter%202/Images/ListsRefGif.gif\" width=\"1000\" />"
   ]
  },
  {
   "cell_type": "markdown",
   "id": "bd3fca33-a8de-4b2c-9617-611641c1b08c",
   "metadata": {},
   "source": [
    "You can clone list  **List3** by using  the following syntax:"
   ]
  },
  {
   "cell_type": "code",
   "execution_count": 69,
   "id": "c06dd4d6-e523-403d-8abf-57538e7f5b4d",
   "metadata": {
    "collapsed": false,
    "jupyter": {
     "outputs_hidden": false
    }
   },
   "outputs": [
    {
     "data": {
      "text/plain": [
       "['hard rock', 10, 1.2]"
      ]
     },
     "execution_count": 69,
     "metadata": {},
     "output_type": "execute_result"
    }
   ],
   "source": [
    "# Clone (clone by value) the list A\n",
    "List4 = List3[:]\n",
    "List4"
   ]
  },
  {
   "cell_type": "code",
   "execution_count": 70,
   "id": "36aedea6-4299-43ea-b770-9a0c1f93ab15",
   "metadata": {},
   "outputs": [
    {
     "data": {
      "text/plain": [
       "['cherry', 10, 1.2]"
      ]
     },
     "execution_count": 70,
     "metadata": {},
     "output_type": "execute_result"
    }
   ],
   "source": [
    "List4[0] = \"cherry\"\n",
    "List4"
   ]
  },
  {
   "cell_type": "code",
   "execution_count": 71,
   "id": "80ebc447-7ac5-485e-bd92-cc5713ceb9ea",
   "metadata": {},
   "outputs": [
    {
     "data": {
      "text/plain": [
       "['hard rock', 10, 1.2]"
      ]
     },
     "execution_count": 71,
     "metadata": {},
     "output_type": "execute_result"
    }
   ],
   "source": [
    "List3"
   ]
  },
  {
   "cell_type": "markdown",
   "id": "bf1e7a79-a89c-4450-83f8-1f395fbce838",
   "metadata": {},
   "source": [
    " Variable **B** references a new copy or clone of the original list; this is demonstrated in the following figure:"
   ]
  },
  {
   "cell_type": "markdown",
   "id": "49df8ea7-55e6-489b-8585-d949940cd073",
   "metadata": {},
   "source": [
    "<img src=\"https://s3-api.us-geo.objectstorage.softlayer.net/cf-courses-data/CognitiveClass/PY0101EN/Chapter%202/Images/ListsVal.gif\" width=\"1000\" />"
   ]
  },
  {
   "cell_type": "markdown",
   "id": "7a2b0863-cccf-4074-99e0-7e99d83ecac8",
   "metadata": {},
   "source": [
    "Now if you change <b>A</b>, <b>B</b> will not change: "
   ]
  },
  {
   "cell_type": "code",
   "execution_count": 72,
   "id": "9bd60a93-fdd1-473c-96e8-bbd190188dba",
   "metadata": {
    "collapsed": false,
    "jupyter": {
     "outputs_hidden": false
    }
   },
   "outputs": [
    {
     "name": "stdout",
     "output_type": "stream",
     "text": [
      "List4[0]: cherry\n",
      "List4[0]: cherry\n"
     ]
    }
   ],
   "source": [
    "print('List4[0]:', List4[0])\n",
    "List3[0] = \"hard rock\"\n",
    "print('List4[0]:', List4[0])"
   ]
  },
  {
   "cell_type": "markdown",
   "id": "790156d5-3678-4508-a5f4-9b3f5723bb48",
   "metadata": {},
   "source": [
    "We see we successfully dealt with both a shorter list  so far.  \n",
    "\n",
    "Collections (or [**containers**](https://stackoverflow.com/questions/11575925/what-exactly-are-containers-in-python-and-what-are-all-the-python-container) as they're known in Python) can be very useful for tackling complex data problems. \n",
    "Python provides several types of containers, which we will explore. Each one has different properties and structure that make them useful for specific tasks. Later in the course, we'll also introduce powerful, highly-structured containers that Python users have invented and shared with the Python community.\n",
    "\n",
    "In the context of data science, we'll often call a collection of data that logically belongs together a **data set**, and the type of variable we use to store it in Python a **data structure**. These terms are meant to emphasize the relationships between the individual pieces of information that creates their meaning as a whole."
   ]
  },
  {
   "cell_type": "markdown",
   "id": "a88c5045-21f8-472f-bed6-1f885a5463de",
   "metadata": {},
   "source": [
    "#### Complex List"
   ]
  },
  {
   "cell_type": "code",
   "execution_count": 73,
   "id": "c2c46ba2-1e5e-4ce2-a1ad-0e99e7d57b70",
   "metadata": {},
   "outputs": [
    {
     "name": "stdout",
     "output_type": "stream",
     "text": [
      "['chicken', 'onions', 'rice', 'peppers', 'bananas']\n",
      "['chicken', 'onions', 'rice', 'peppers', 'bananas']\n"
     ]
    }
   ],
   "source": [
    "grocery_a = 'chicken'\n",
    "grocery_b = 'onions'\n",
    "grocery_c = 'rice'\n",
    "grocery_d = 'peppers'\n",
    "grocery_e = 'bananas'\n",
    "\n",
    "grocery_list = ['chicken', 'onions', 'rice', 'peppers', 'bananas']\n",
    "print(grocery_list)\n",
    "\n",
    "grocery_list = [grocery_a, grocery_b, grocery_c, grocery_d, grocery_e]\n",
    "print(grocery_list)"
   ]
  },
  {
   "cell_type": "markdown",
   "id": "2b50b870-f4fc-4dbe-933b-9dd1db6f6b41",
   "metadata": {},
   "source": [
    "So far we've worked with `list`s of strings (and `range`), but we're not limited to only that data type."
   ]
  },
  {
   "cell_type": "code",
   "execution_count": 74,
   "id": "df07326a-fcdb-465d-8155-f4b0a2598cb2",
   "metadata": {},
   "outputs": [
    {
     "name": "stdout",
     "output_type": "stream",
     "text": [
      "[2, 6, 3049, 18, 37]\n",
      "[3.7, 8.2, 178.245, 63.1]\n",
      "[26, False, 'some words', 1.264]\n"
     ]
    }
   ],
   "source": [
    "int_list = [2, 6, 3049, 18, 37]\n",
    "float_list = [3.7, 8.2, 178.245, 63.1]\n",
    "mixed_list = [26, False, 'some words', 1.264]\n",
    "\n",
    "print(int_list)\n",
    "print(float_list)\n",
    "print(mixed_list)"
   ]
  },
  {
   "cell_type": "markdown",
   "id": "beb8df51-4f0e-4c47-b33d-27be6b542809",
   "metadata": {},
   "source": [
    "We can store any `type` of data in a `list`. We can even put a `list` inside of a `list`."
   ]
  },
  {
   "cell_type": "code",
   "execution_count": 75,
   "id": "bbab552e-67c6-4e5b-92db-7be35cc084c5",
   "metadata": {},
   "outputs": [
    {
     "name": "stdout",
     "output_type": "stream",
     "text": [
      "[['a', 'list', 'of', 'words'], [1, 5, 209], [True, True, False]]\n"
     ]
    }
   ],
   "source": [
    "list_of_lists = [['a', 'list', 'of', 'words'], [1, 5, 209], [True, True, False]]\n",
    "print(list_of_lists)"
   ]
  },
  {
   "cell_type": "markdown",
   "id": "c39124f3-50e3-48af-86c6-970c4c4b317c",
   "metadata": {},
   "source": [
    "There are very few restrictions on how we structure a list or what we put in it. This can lead to a very complicated nested structure."
   ]
  },
  {
   "cell_type": "code",
   "execution_count": 76,
   "id": "771e8612-a71d-4e52-a11a-5e676c18c319",
   "metadata": {},
   "outputs": [
    {
     "name": "stdout",
     "output_type": "stream",
     "text": [
      "[[23, 73, 50], 'some words', 12.308, [[False, True], 'more words']]\n"
     ]
    }
   ],
   "source": [
    "confusing_list = [[23, 73, 50], 'some words', 12.308, [[False, True], 'more words']]\n",
    "print(confusing_list)"
   ]
  },
  {
   "cell_type": "code",
   "execution_count": 77,
   "id": "07673b2e-41a7-4ffb-a476-d1b76e5285be",
   "metadata": {},
   "outputs": [
    {
     "data": {
      "text/plain": [
       "[23, 73, 50]"
      ]
     },
     "execution_count": 77,
     "metadata": {},
     "output_type": "execute_result"
    }
   ],
   "source": [
    "confusing_list[0]"
   ]
  },
  {
   "cell_type": "code",
   "execution_count": 78,
   "id": "8397ebc3-b60b-442f-abcb-315d6a3c39fe",
   "metadata": {},
   "outputs": [
    {
     "data": {
      "text/plain": [
       "50"
      ]
     },
     "execution_count": 78,
     "metadata": {},
     "output_type": "execute_result"
    }
   ],
   "source": [
    "confusing_list[0][2]"
   ]
  },
  {
   "cell_type": "code",
   "execution_count": 79,
   "id": "adc317ea-bee6-4b2e-bfb1-68ca29e72f0d",
   "metadata": {},
   "outputs": [
    {
     "data": {
      "text/plain": [
       "[[False, True], 'more words']"
      ]
     },
     "execution_count": 79,
     "metadata": {},
     "output_type": "execute_result"
    }
   ],
   "source": [
    "confusing_list[3]"
   ]
  },
  {
   "cell_type": "markdown",
   "id": "c4a527c5-4d71-42b0-9ba1-93da99eb74c5",
   "metadata": {},
   "source": [
    "Again, the Python `list` is _heterogeneous_ because it can hold a collection of mixed objects. This is one of the major defining properties of the Python `list`.\n",
    "\n",
    "You may have also noticed that when we put data into a `list` in particular order, it stays in that order when we `print` or use the `list` in a `for` loop. Because `list` preserves order, we say it is _ordered_. We can use this property to retrieve particular items from a `list` based on their position (or **index**) in the list."
   ]
  },
  {
   "cell_type": "code",
   "execution_count": 80,
   "id": "2340235f-4b51-4aa7-a544-45b6516b8a8b",
   "metadata": {},
   "outputs": [
    {
     "name": "stdout",
     "output_type": "stream",
     "text": [
      "['chicken', 'onions', 'rice', 'peppers', 'bananas']\n",
      "['chicken', 'onions', 'rice', 'peppers', 'bananas']\n"
     ]
    }
   ],
   "source": [
    "#again let's use the list\n",
    "grocery_a = 'chicken'\n",
    "grocery_b = 'onions'\n",
    "grocery_c = 'rice'\n",
    "grocery_d = 'peppers'\n",
    "grocery_e = 'bananas'\n",
    "\n",
    "grocery_list = ['chicken', 'onions', 'rice', 'peppers', 'bananas']\n",
    "print(grocery_list)\n",
    "\n",
    "grocery_list = [grocery_a, grocery_b, grocery_c, grocery_d, grocery_e]\n",
    "print(grocery_list)"
   ]
  },
  {
   "cell_type": "markdown",
   "id": "ef9f8292-5ee1-4bc0-9067-ca41b1e76c2b",
   "metadata": {},
   "source": [
    "Printing `grocery_list[2]` returned the third item in the list: 'rice'. Why did it return the third item if we asked for the item at index 2? Python `list`s are _zero-indexed_."
   ]
  },
  {
   "cell_type": "code",
   "execution_count": 81,
   "id": "790efa17-39a7-498f-8961-a707fad84ec9",
   "metadata": {},
   "outputs": [
    {
     "name": "stdout",
     "output_type": "stream",
     "text": [
      "chicken\n",
      "onions\n",
      "rice\n"
     ]
    }
   ],
   "source": [
    "print(grocery_list[0])\n",
    "print(grocery_list[1])\n",
    "print(grocery_list[2])"
   ]
  },
  {
   "cell_type": "markdown",
   "id": "0a7678ac-0aa5-46b3-b590-cd22e4e9a07d",
   "metadata": {},
   "source": [
    "'again' only the last line will print. We can also retrieve a _slice_ of items from a list."
   ]
  },
  {
   "cell_type": "code",
   "execution_count": 82,
   "id": "89f10b6a-3f77-4e07-a40f-1d38737e8241",
   "metadata": {},
   "outputs": [
    {
     "data": {
      "text/plain": [
       "'rice'"
      ]
     },
     "execution_count": 82,
     "metadata": {},
     "output_type": "execute_result"
    }
   ],
   "source": [
    "grocery_list[0]\n",
    "grocery_list[1]\n",
    "grocery_list[2]"
   ]
  },
  {
   "cell_type": "code",
   "execution_count": 83,
   "id": "2f22a91c-1f98-44bc-a59d-e906964bc3b3",
   "metadata": {},
   "outputs": [
    {
     "name": "stdout",
     "output_type": "stream",
     "text": [
      "['onions', 'rice', 'peppers']\n",
      "['peppers', 'bananas']\n",
      "['chicken', 'onions', 'rice']\n"
     ]
    }
   ],
   "source": [
    "# hint of the list is given as ; ['chicken', 'onions', 'rice', 'peppers', 'bananas']\n",
    "print(grocery_list[1:4]) #prints the 2th to the element before the 5th element\n",
    "print(grocery_list[3:]) #prints the 4th to the last element\n",
    "print(grocery_list[:3]) #print from 1st to the element before the 4th element"
   ]
  },
  {
   "cell_type": "markdown",
   "id": "964ca7ad-c1ac-4041-8db1-403685c5432c",
   "metadata": {},
   "source": [
    "Python also has a negative indexing syntax, allowing us to access the list from the end instead of the beginning. The last element is indexed by -1."
   ]
  },
  {
   "cell_type": "code",
   "execution_count": 84,
   "id": "9b155f71-6d59-40fe-a392-970a84473a15",
   "metadata": {},
   "outputs": [
    {
     "name": "stdout",
     "output_type": "stream",
     "text": [
      "bananas\n",
      "['rice', 'peppers', 'bananas']\n"
     ]
    }
   ],
   "source": [
    "print(grocery_list[-1])\n",
    "print(grocery_list[-3:])"
   ]
  },
  {
   "cell_type": "markdown",
   "id": "7362414f-7545-4c9f-bd7b-1602fb5f948c",
   "metadata": {},
   "source": [
    "We can also slice a list using a step-size other than 1. For instance, we can slice every other item of the list, or even reverse the list by making negative steps."
   ]
  },
  {
   "cell_type": "code",
   "execution_count": 85,
   "id": "517b8643-cdae-4276-b5ab-01b21fb60bef",
   "metadata": {},
   "outputs": [
    {
     "name": "stdout",
     "output_type": "stream",
     "text": [
      "['chicken', 'rice', 'bananas']\n",
      "['bananas', 'peppers', 'rice']\n",
      "['bananas', 'rice']\n"
     ]
    }
   ],
   "source": [
    "print(grocery_list[::2])\n",
    "print(grocery_list[4:1:-1])\n",
    "print(grocery_list[4:1:-2])"
   ]
  },
  {
   "cell_type": "markdown",
   "id": "d2134a2b-5d4e-4691-9668-74bdf87314df",
   "metadata": {},
   "source": [
    "We can of course also retrieve information from a list by using a `for` loop."
   ]
  },
  {
   "cell_type": "code",
   "execution_count": 87,
   "id": "df52c2e9-c3db-4828-add6-32ba47f68d35",
   "metadata": {},
   "outputs": [
    {
     "name": "stdout",
     "output_type": "stream",
     "text": [
      "we have ... chicken\n",
      "we have ... onions\n",
      "we have ... rice\n",
      "we have ... peppers\n",
      "we have ... bananas\n"
     ]
    }
   ],
   "source": [
    "for item in grocery_list:\n",
    "    print('we have ... %s' % item)"
   ]
  },
  {
   "cell_type": "markdown",
   "id": "e183b1ec-9dc6-4f10-bc19-bce10ae6fcb6",
   "metadata": {},
   "source": [
    "While we'll usuaally use the syntax `for item in list`, sometimes we will combine a `for` loop with indexing. The `range` function (which we used in the last notebook) is useful for this. For example, we can pick out every other item in the list."
   ]
  },
  {
   "cell_type": "code",
   "execution_count": 88,
   "id": "e14b8c59-f96d-4f0a-b16b-4e444f3048c6",
   "metadata": {},
   "outputs": [
    {
     "name": "stdout",
     "output_type": "stream",
     "text": [
      "0 chicken\n",
      "2 rice\n",
      "4 bananas\n"
     ]
    }
   ],
   "source": [
    "for i in range(0, len(grocery_list), 2):\n",
    "    print(i, grocery_list[i])"
   ]
  },
  {
   "cell_type": "markdown",
   "id": "077bfa23-494c-4329-8d2c-96e5827f646e",
   "metadata": {},
   "source": [
    "\n",
    "The `range` function returns a sequence of integers between the first and second argument, using the third argument as the step size. Notice that the upper bound (i.e. second argument) is not included in the output."
   ]
  },
  {
   "cell_type": "code",
   "execution_count": 89,
   "id": "fdc792a6-165f-412f-80d8-109a34a05958",
   "metadata": {},
   "outputs": [
    {
     "name": "stdout",
     "output_type": "stream",
     "text": [
      "range(0, 10, 3)\n",
      "range(104, 100, -1)\n",
      "range(0, 5)\n"
     ]
    }
   ],
   "source": [
    "print(range(0, 10, 3)) # starts at 0 and counts by 3 and exclude now\n",
    "print(range(104, 100, -1)) # starts counting backwward from 104 to 101\n",
    "print(range(5)) # starts at 0 and counts by 1 by default"
   ]
  },
  {
   "cell_type": "markdown",
   "id": "f3416a1a-984b-4a85-a888-6994598b01a2",
   "metadata": {},
   "source": [
    "We can also use indexing/slicing to replace items in the list."
   ]
  },
  {
   "cell_type": "code",
   "execution_count": 90,
   "id": "7b4204d1-30e4-4361-a86e-eb50d4055c79",
   "metadata": {},
   "outputs": [
    {
     "name": "stdout",
     "output_type": "stream",
     "text": [
      "['chicken', 'onions', 'rice', 'peppers', 'bananas']\n",
      "['chicken', 'onions', 'rice', 'peppers', 'oranges']\n",
      "['chicken', 'carrots', 'couscous', 'peppers', 'oranges']\n"
     ]
    }
   ],
   "source": [
    "grocery_list = ['chicken', 'onions', 'rice', 'peppers', 'bananas']\n",
    "print(grocery_list)\n",
    "grocery_list[-1] = 'oranges' # replace bananas with oranges\n",
    "print(grocery_list)\n",
    "grocery_list[1:3] = ['carrots', 'couscous'] #replace onions and rice with carrots and couscous\n",
    "print(grocery_list)"
   ]
  },
  {
   "cell_type": "markdown",
   "id": "03868ffe-b5b9-408d-a879-cfb4af9e877c",
   "metadata": {},
   "source": [
    "## modifying list\n",
    "Since we can modify lists after they are created, we call them _mutable_ (the modifications are called _mutations_). Some Python data types are _immutable_, meaning once they are created they cannot be changed. We'll explore this further as we introduce more data types.\n",
    "\n",
    "Another way we can mutate a `list` is to `append` new items."
   ]
  },
  {
   "cell_type": "code",
   "execution_count": 91,
   "id": "04f9af0f-cda2-4ed5-b452-fa300f0ee52e",
   "metadata": {},
   "outputs": [
    {
     "name": "stdout",
     "output_type": "stream",
     "text": [
      "['chicken', 'onions', 'rice', 'peppers', 'bananas']\n",
      "['chicken', 'onions', 'rice', 'peppers', 'bananas', 'squash']\n",
      "['chicken', 'onions', 'rice', 'peppers', 'bananas', 'squash', ['bread', 'salt']]\n"
     ]
    }
   ],
   "source": [
    "grocery_list = ['chicken', 'onions', 'rice', 'peppers', 'bananas']\n",
    "print(grocery_list)\n",
    "grocery_list.append('squash')\n",
    "print(grocery_list)\n",
    "grocery_list.append(['bread', 'salt'])\n",
    "print(grocery_list) # what happened?"
   ]
  },
  {
   "cell_type": "markdown",
   "id": "15745ae6-ff00-4006-aaae-a13144b71076",
   "metadata": {},
   "source": [
    "Since lists can contain lists, we have to be careful about adding multiple items to our list. Instead of `append`, we might want to use `extend`."
   ]
  },
  {
   "cell_type": "code",
   "execution_count": 92,
   "id": "b3a0be38-aa08-4913-8a67-576dcb71d69d",
   "metadata": {},
   "outputs": [
    {
     "name": "stdout",
     "output_type": "stream",
     "text": [
      "['chicken', 'onions', 'rice', 'peppers', 'bananas', 'squash']\n",
      "['chicken', 'onions', 'rice', 'peppers', 'bananas', 'squash', 'bread', 'salt']\n"
     ]
    }
   ],
   "source": [
    "grocery_list = ['chicken', 'onions', 'rice', 'peppers', 'bananas', 'squash']\n",
    "print(grocery_list)\n",
    "grocery_list.extend(['bread', 'salt'])\n",
    "print(grocery_list)"
   ]
  },
  {
   "cell_type": "markdown",
   "id": "99aff6c8-80c5-46a3-8fdf-f5801b4518d1",
   "metadata": {},
   "source": [
    "## Sorting List \n",
    "Another mutation we can make to a list is to sort it."
   ]
  },
  {
   "cell_type": "code",
   "execution_count": 93,
   "id": "977d92be-51de-434d-b721-e0f1cda95da0",
   "metadata": {},
   "outputs": [
    {
     "name": "stdout",
     "output_type": "stream",
     "text": [
      "['bananas', 'bread', 'chicken', 'onions', 'peppers', 'rice', 'salt', 'squash']\n"
     ]
    }
   ],
   "source": [
    "grocery_list.sort()\n",
    "print(grocery_list)"
   ]
  },
  {
   "cell_type": "markdown",
   "id": "a0253d32-06c8-42ef-a8ae-7bc1d66582b5",
   "metadata": {},
   "source": [
    "<div class=\"alert alert-block alert-info\" style=\"margin-top: 20px\">\n",
    "<a id='sets'></a>\n",
    "    \n",
    "### Sets\n",
    "</div>"
   ]
  },
  {
   "cell_type": "markdown",
   "id": "99eb00a1-cbe1-47f5-90df-9ed653a6f036",
   "metadata": {},
   "source": [
    "A Python `set` is also similar to a `list`, except it is unordered. It can store heterogeneous data and it is mutable, but what does it mean to be unordered? The simplest explanation is simply to look at an example. We can create a set by enclosing our data with curly brackets `{}`."
   ]
  },
  {
   "cell_type": "markdown",
   "id": "df0b3955-3fb5-4ff5-aac1-4a9f63531fee",
   "metadata": {},
   "source": [
    "<h3 id=\"content\">Set Content</h3>"
   ]
  },
  {
   "cell_type": "markdown",
   "id": "3b24c722-d177-4b29-8ea3-7edf41ff0ff3",
   "metadata": {},
   "source": [
    "A set is a unique collection of objects in Python. You can denote a set with a curly bracket <b>{}</b>. Python will automatically remove duplicate items:\n",
    "A Python `set` is also similar to a `list`, except it is unordered. It can store heterogeneous data and it is mutable, but what does it mean to be unordered? The simplest explanation is simply to look at an example. We can create a set by enclosing our data with curly brackets `{}`."
   ]
  },
  {
   "cell_type": "code",
   "execution_count": 97,
   "id": "e1401cc2-b61a-4e87-9707-e7a93a9617aa",
   "metadata": {
    "collapsed": false,
    "jupyter": {
     "outputs_hidden": false
    }
   },
   "outputs": [
    {
     "data": {
      "text/plain": [
       "{'R&B', 'disco', 'hard rock', 'pop', 'rock', 'soul'}"
      ]
     },
     "execution_count": 97,
     "metadata": {},
     "output_type": "execute_result"
    }
   ],
   "source": [
    "# Create a set\n",
    "set1 = {\"pop\", \"rock\", \"soul\", \"hard rock\", \"rock\", \"R&B\", \"rock\", \"disco\"}\n",
    "set1"
   ]
  },
  {
   "cell_type": "markdown",
   "id": "5162aca5-bbfa-4214-a885-8a4999d2d214",
   "metadata": {},
   "source": [
    "The process of mapping is illustrated in the figure:"
   ]
  },
  {
   "cell_type": "markdown",
   "id": "61b6f237-e112-423a-8e8e-c39cac02391a",
   "metadata": {},
   "source": [
    "<img src=\"https://s3-api.us-geo.objectstorage.softlayer.net/cf-courses-data/CognitiveClass/PY0101EN/Chapter%202/Images/SetsUnique.png\" width=\"1100\" />"
   ]
  },
  {
   "cell_type": "markdown",
   "id": "578de96e-eb57-4897-bdcf-d7c46eb0c80e",
   "metadata": {},
   "source": [
    " You can also  create a set from a list as follows:"
   ]
  },
  {
   "cell_type": "code",
   "execution_count": 98,
   "id": "1feb5d02-4484-4291-adef-68442a6bf76d",
   "metadata": {
    "collapsed": false,
    "jupyter": {
     "outputs_hidden": false
    },
    "scrolled": true
   },
   "outputs": [
    {
     "data": {
      "text/plain": [
       "{'00:42:19',\n",
       " 10.0,\n",
       " 1982,\n",
       " '30-Nov-82',\n",
       " 46.0,\n",
       " 65,\n",
       " 'Michael Jackson',\n",
       " None,\n",
       " 'Pop, Rock, R&B',\n",
       " 'Thriller'}"
      ]
     },
     "execution_count": 98,
     "metadata": {},
     "output_type": "execute_result"
    }
   ],
   "source": [
    "# Convert list to set\n",
    "\n",
    "album_list = [ \"Michael Jackson\", \"Thriller\", 1982, \"00:42:19\", \\\n",
    "              \"Pop, Rock, R&B\", 46.0, 65, \"30-Nov-82\", None, 10.0]\n",
    "album_set = set(album_list)             \n",
    "album_set"
   ]
  },
  {
   "cell_type": "markdown",
   "id": "4841ec65-9741-4847-bedf-666aa32c6471",
   "metadata": {},
   "source": [
    "Now let us create a set of  genres:"
   ]
  },
  {
   "cell_type": "code",
   "execution_count": 99,
   "id": "69f1f218-cf4d-4cc4-be10-af123d49c394",
   "metadata": {
    "collapsed": false,
    "jupyter": {
     "outputs_hidden": false
    }
   },
   "outputs": [
    {
     "data": {
      "text/plain": [
       "{'R&B',\n",
       " 'disco',\n",
       " 'folk rock',\n",
       " 'hard rock',\n",
       " 'pop',\n",
       " 'progressive rock',\n",
       " 'rock',\n",
       " 'soft rock',\n",
       " 'soul'}"
      ]
     },
     "execution_count": 99,
     "metadata": {},
     "output_type": "execute_result"
    }
   ],
   "source": [
    "# Convert list to set\n",
    "\n",
    "music_genres = set([\"pop\", \"pop\", \"rock\", \"folk rock\", \"hard rock\", \"soul\", \\\n",
    "                    \"progressive rock\", \"soft rock\", \"R&B\", \"disco\"])\n",
    "music_genres"
   ]
  },
  {
   "cell_type": "markdown",
   "id": "a71b46f0-01b1-49bd-96da-888617c276c5",
   "metadata": {},
   "source": [
    "<h3 id=\"op\">Set Operations</h3> "
   ]
  },
  {
   "cell_type": "markdown",
   "id": "a600b6df-c251-4d34-b124-ce5ee7ffd78e",
   "metadata": {},
   "source": [
    "Let us go over set operations, as these can be used to change the set. Consider the set <b>A</b>:"
   ]
  },
  {
   "cell_type": "code",
   "execution_count": 100,
   "id": "0fc1f8df-44c0-432c-88d7-565a64e9bc1f",
   "metadata": {
    "collapsed": false,
    "jupyter": {
     "outputs_hidden": false
    }
   },
   "outputs": [
    {
     "data": {
      "text/plain": [
       "{'AC/DC', 'Back in Black', 'Thriller'}"
      ]
     },
     "execution_count": 100,
     "metadata": {},
     "output_type": "execute_result"
    }
   ],
   "source": [
    "# Sample set\n",
    "\n",
    "A = set([\"Thriller\", \"Back in Black\", \"AC/DC\"])\n",
    "A"
   ]
  },
  {
   "cell_type": "markdown",
   "id": "0debad16-10b8-4e39-95d2-76fc0013808b",
   "metadata": {},
   "source": [
    " We can add an element to a set using the <code>add()</code> method: "
   ]
  },
  {
   "cell_type": "code",
   "execution_count": 101,
   "id": "fe2b3ff5-9291-49ea-8816-31ce01bc3521",
   "metadata": {
    "collapsed": false,
    "jupyter": {
     "outputs_hidden": false
    }
   },
   "outputs": [
    {
     "data": {
      "text/plain": [
       "{'AC/DC', 'Back in Black', 'NSYNC', 'Thriller'}"
      ]
     },
     "execution_count": 101,
     "metadata": {},
     "output_type": "execute_result"
    }
   ],
   "source": [
    "# Add element to set\n",
    "\n",
    "A.add(\"NSYNC\")\n",
    "A"
   ]
  },
  {
   "cell_type": "markdown",
   "id": "4c871bb2-1a9d-41e2-ae80-7cc356331fd1",
   "metadata": {},
   "source": [
    " If we add the same element twice, nothing will happen as there can be no duplicates in a set:\n"
   ]
  },
  {
   "cell_type": "code",
   "execution_count": 102,
   "id": "baa38821-110c-4e03-8f85-b576ad5f2bf2",
   "metadata": {
    "collapsed": false,
    "jupyter": {
     "outputs_hidden": false
    }
   },
   "outputs": [
    {
     "data": {
      "text/plain": [
       "{'AC/DC', 'Back in Black', 'NSYNC', 'Thriller'}"
      ]
     },
     "execution_count": 102,
     "metadata": {},
     "output_type": "execute_result"
    }
   ],
   "source": [
    "# Try to add duplicate element to the set\n",
    "\n",
    "A.add(\"NSYNC\")\n",
    "A"
   ]
  },
  {
   "cell_type": "markdown",
   "id": "ed359af7-be66-403c-98cc-51dfce09e79b",
   "metadata": {},
   "source": [
    " We can remove an item from a set using the <code>remove</code> method:"
   ]
  },
  {
   "cell_type": "code",
   "execution_count": 103,
   "id": "8691fba2-8752-4155-9f95-7e1a9a8496a1",
   "metadata": {
    "collapsed": false,
    "jupyter": {
     "outputs_hidden": false
    }
   },
   "outputs": [
    {
     "data": {
      "text/plain": [
       "{'AC/DC', 'Back in Black', 'Thriller'}"
      ]
     },
     "execution_count": 103,
     "metadata": {},
     "output_type": "execute_result"
    }
   ],
   "source": [
    "# Remove the element from set\n",
    "\n",
    "A.remove(\"NSYNC\")\n",
    "A"
   ]
  },
  {
   "cell_type": "markdown",
   "id": "45f0893d-c52e-433a-acad-ad27db7804e5",
   "metadata": {},
   "source": [
    " We can verify if an element is in the set using the <code>in</code> command:"
   ]
  },
  {
   "cell_type": "code",
   "execution_count": 104,
   "id": "02d22127-afb2-4457-af28-d41f1f633b07",
   "metadata": {
    "collapsed": false,
    "jupyter": {
     "outputs_hidden": false
    }
   },
   "outputs": [
    {
     "data": {
      "text/plain": [
       "True"
      ]
     },
     "execution_count": 104,
     "metadata": {},
     "output_type": "execute_result"
    }
   ],
   "source": [
    "# Verify if the element is in the set\n",
    "\n",
    "\"AC/DC\" in A"
   ]
  },
  {
   "cell_type": "markdown",
   "id": "42b6e019-14af-4a55-8d59-aedc355959d3",
   "metadata": {},
   "source": [
    "<h3 id=\"logic\">Sets Logic Operations</h3>"
   ]
  },
  {
   "cell_type": "markdown",
   "id": "305c23f1-28c9-42cf-a4bd-4f4a2303e763",
   "metadata": {},
   "source": [
    "Remember that with sets you can check the difference between sets, as well as the symmetric difference, intersection, and union:"
   ]
  },
  {
   "cell_type": "markdown",
   "id": "6fa351bf-6a24-4c69-a506-0985be73965f",
   "metadata": {},
   "source": [
    " Consider the following two sets:"
   ]
  },
  {
   "cell_type": "code",
   "execution_count": 105,
   "id": "4c3ddaca-c111-46fc-9f0a-60d34cf659da",
   "metadata": {
    "collapsed": false,
    "jupyter": {
     "outputs_hidden": false
    }
   },
   "outputs": [],
   "source": [
    "# Sample Sets\n",
    "\n",
    "album_set1 = set([\"Thriller\", 'AC/DC', 'Back in Black'])\n",
    "album_set2 = set([ \"AC/DC\", \"Back in Black\", \"The Dark Side of the Moon\"])"
   ]
  },
  {
   "cell_type": "markdown",
   "id": "388e957a-8b5a-4d05-a916-420233eea7b3",
   "metadata": {},
   "source": [
    "<img src=\"https://s3-api.us-geo.objectstorage.softlayer.net/cf-courses-data/CognitiveClass/PY0101EN/Chapter%202/Images/SetsSamples.png\" width=\"650\" />"
   ]
  },
  {
   "cell_type": "code",
   "execution_count": 106,
   "id": "7732847e-eb61-4f76-a2eb-86a9fb37be15",
   "metadata": {
    "collapsed": false,
    "jupyter": {
     "outputs_hidden": false
    },
    "scrolled": true
   },
   "outputs": [
    {
     "data": {
      "text/plain": [
       "({'AC/DC', 'Back in Black', 'Thriller'},\n",
       " {'AC/DC', 'Back in Black', 'The Dark Side of the Moon'})"
      ]
     },
     "execution_count": 106,
     "metadata": {},
     "output_type": "execute_result"
    }
   ],
   "source": [
    "# Print two sets\n",
    "\n",
    "album_set1, album_set2"
   ]
  },
  {
   "cell_type": "markdown",
   "id": "dc2f0148-b7bf-4b4f-bf96-b47512bae4fd",
   "metadata": {},
   "source": [
    "As both sets contain <b>AC/DC</b> and <b>Back in Black</b> we represent these common elements with the intersection of two circles."
   ]
  },
  {
   "cell_type": "markdown",
   "id": "eefaa8ef-49d8-4669-8c46-031170c7d4b2",
   "metadata": {},
   "source": [
    "<img src = \"https://s3-api.us-geo.objectstorage.softlayer.net/cf-courses-data/CognitiveClass/PY0101EN/Chapter%202/Images/SetsLogic.png\" width = \"650\" />"
   ]
  },
  {
   "cell_type": "markdown",
   "id": "7049ba69-f822-4c9c-8bf8-ef17835a8222",
   "metadata": {},
   "source": [
    "You can find the intersect of two sets as follow using <code>&</code>:"
   ]
  },
  {
   "cell_type": "code",
   "execution_count": 107,
   "id": "4bfcc6b9-1dc5-4328-a646-6b11db33408b",
   "metadata": {
    "collapsed": false,
    "jupyter": {
     "outputs_hidden": false
    }
   },
   "outputs": [
    {
     "data": {
      "text/plain": [
       "{'AC/DC', 'Back in Black'}"
      ]
     },
     "execution_count": 107,
     "metadata": {},
     "output_type": "execute_result"
    }
   ],
   "source": [
    "# Find the intersections\n",
    "\n",
    "intersection = album_set1 & album_set2\n",
    "intersection"
   ]
  },
  {
   "cell_type": "markdown",
   "id": "c43b2b10-b8c4-4438-8ad8-09261fef43cb",
   "metadata": {},
   "source": [
    "You can find all the elements that are only contained in <code>album_set1</code> using the <code>difference</code> method:"
   ]
  },
  {
   "cell_type": "code",
   "execution_count": 108,
   "id": "c894d079-31e3-4942-9540-3c3f53e3ce33",
   "metadata": {
    "collapsed": false,
    "jupyter": {
     "outputs_hidden": false
    }
   },
   "outputs": [
    {
     "data": {
      "text/plain": [
       "{'Thriller'}"
      ]
     },
     "execution_count": 108,
     "metadata": {},
     "output_type": "execute_result"
    }
   ],
   "source": [
    "# Find the difference in set1 but not set2\n",
    "\n",
    "album_set1.difference(album_set2)  "
   ]
  },
  {
   "cell_type": "code",
   "execution_count": 109,
   "id": "d2e0f364-e81a-4d4a-8220-bc65e8ac289b",
   "metadata": {},
   "outputs": [
    {
     "data": {
      "text/plain": [
       "{'The Dark Side of the Moon'}"
      ]
     },
     "execution_count": 109,
     "metadata": {},
     "output_type": "execute_result"
    }
   ],
   "source": [
    "album_set2.difference(album_set1) "
   ]
  },
  {
   "cell_type": "markdown",
   "id": "969438e4-7d67-4b9b-a82f-7b48d1f716c9",
   "metadata": {},
   "source": [
    "You only need to consider elements in <code>album_set1</code>; all the elements in <code>album_set2</code>, including the intersection, are not included."
   ]
  },
  {
   "cell_type": "markdown",
   "id": "1b3c219c-64bc-4b61-9913-347a691a64ad",
   "metadata": {},
   "source": [
    "<img src=\"https://s3-api.us-geo.objectstorage.softlayer.net/cf-courses-data/CognitiveClass/PY0101EN/Chapter%202/Images/SetsLeft.png\" width=\"650\" />"
   ]
  },
  {
   "cell_type": "markdown",
   "id": "1ed4f48d-9f1e-48ed-9793-acb31ad0c818",
   "metadata": {},
   "source": [
    "The elements in <code>album_set2</code> but not in <code>album_set1</code> is given by:"
   ]
  },
  {
   "cell_type": "code",
   "execution_count": 110,
   "id": "258c7998-f77d-4885-839d-4ded24c9b288",
   "metadata": {
    "collapsed": false,
    "jupyter": {
     "outputs_hidden": false
    }
   },
   "outputs": [
    {
     "data": {
      "text/plain": [
       "{'The Dark Side of the Moon'}"
      ]
     },
     "execution_count": 110,
     "metadata": {},
     "output_type": "execute_result"
    }
   ],
   "source": [
    "album_set2.difference(album_set1)  "
   ]
  },
  {
   "cell_type": "markdown",
   "id": "7e7f8e6e-469e-458c-9c12-5b1386898fcb",
   "metadata": {},
   "source": [
    "<img src = \"https://s3-api.us-geo.objectstorage.softlayer.net/cf-courses-data/CognitiveClass/PY0101EN/Chapter%202/Images/SetsRight.png\" width=\"650\" />"
   ]
  },
  {
   "cell_type": "markdown",
   "id": "5963d24c-f70f-43a8-a17a-25f27452547f",
   "metadata": {},
   "source": [
    "You can also find the intersection of <code>album_list1</code> and <code>album_list2</code>, using the <code>intersection</code> method:"
   ]
  },
  {
   "cell_type": "markdown",
   "id": "b1d5a730-2864-496b-b92d-77a38073b434",
   "metadata": {},
   "source": [
    "The union corresponds to all the elements in both sets, which is represented by coloring both circles:"
   ]
  },
  {
   "cell_type": "markdown",
   "id": "d38e0fec-403e-4061-a530-9810360c2e8f",
   "metadata": {},
   "source": [
    "<img src = \"https://s3-api.us-geo.objectstorage.softlayer.net/cf-courses-data/CognitiveClass/PY0101EN/Chapter%202/Images/SetsUnion.png\" width=\"650\" />"
   ]
  },
  {
   "cell_type": "markdown",
   "id": "3cbb7e17-85a5-4fa0-8988-64133fffc335",
   "metadata": {},
   "source": [
    " The union is given by:"
   ]
  },
  {
   "cell_type": "code",
   "execution_count": 111,
   "id": "2370c739-e836-4397-bc3b-153f120de634",
   "metadata": {
    "tags": []
   },
   "outputs": [
    {
     "data": {
      "text/plain": [
       "{'AC/DC', 'Back in Black', 'The Dark Side of the Moon', 'Thriller'}"
      ]
     },
     "execution_count": 111,
     "metadata": {},
     "output_type": "execute_result"
    }
   ],
   "source": [
    "# Find the union of two sets\n",
    "\n",
    "album_set1.union(album_set2)"
   ]
  },
  {
   "cell_type": "markdown",
   "id": "1d47cb12-26dc-43c3-8189-64981d957f29",
   "metadata": {},
   "source": [
    "And you can check if a set is a superset or subset of another set, respectively, like this:"
   ]
  },
  {
   "cell_type": "code",
   "execution_count": 112,
   "id": "4456ae40-0061-4228-9aea-f92771bf1177",
   "metadata": {
    "collapsed": false,
    "jupyter": {
     "outputs_hidden": false
    }
   },
   "outputs": [
    {
     "data": {
      "text/plain": [
       "False"
      ]
     },
     "execution_count": 112,
     "metadata": {},
     "output_type": "execute_result"
    }
   ],
   "source": [
    "# Check if superset\n",
    "\n",
    "set(album_set1).issuperset(album_set2)   "
   ]
  },
  {
   "cell_type": "code",
   "execution_count": 113,
   "id": "42f3511f-a4f6-4aea-930b-4b0708a361b8",
   "metadata": {
    "collapsed": false,
    "jupyter": {
     "outputs_hidden": false
    }
   },
   "outputs": [
    {
     "data": {
      "text/plain": [
       "False"
      ]
     },
     "execution_count": 113,
     "metadata": {},
     "output_type": "execute_result"
    }
   ],
   "source": [
    "# Check if subset\n",
    "\n",
    "set(album_set2).issubset(album_set1)     "
   ]
  },
  {
   "cell_type": "markdown",
   "id": "0ff7a6e1-af7a-4e59-8cb2-af263316acf7",
   "metadata": {},
   "source": [
    "Here is an example where <code>issubset()</code> and <code>issuperset()</code> return true:"
   ]
  },
  {
   "cell_type": "code",
   "execution_count": 114,
   "id": "294d25e3-d0c5-45b2-8326-ff2e9f2b5bdb",
   "metadata": {
    "collapsed": false,
    "jupyter": {
     "outputs_hidden": false
    }
   },
   "outputs": [
    {
     "data": {
      "text/plain": [
       "True"
      ]
     },
     "execution_count": 114,
     "metadata": {},
     "output_type": "execute_result"
    }
   ],
   "source": [
    "# Check if subset\n",
    "set({\"Back in Black\", \"AC/DC\"}).issubset(album_set1) "
   ]
  },
  {
   "cell_type": "code",
   "execution_count": 115,
   "id": "3a8a654a-65c9-44d5-bae4-d92ce091c965",
   "metadata": {
    "collapsed": false,
    "jupyter": {
     "outputs_hidden": false
    }
   },
   "outputs": [
    {
     "data": {
      "text/plain": [
       "True"
      ]
     },
     "execution_count": 115,
     "metadata": {},
     "output_type": "execute_result"
    }
   ],
   "source": [
    "# Check if superset\n",
    "album_set1.issuperset({\"Back in Black\", \"AC/DC\"})   "
   ]
  },
  {
   "cell_type": "markdown",
   "id": "54477edc-855a-4d9c-8944-c34c8712d614",
   "metadata": {},
   "source": [
    "Consider the list <code>A = [1, 2, 2, 1]</code> and set <code>B = set([1, 2, 2, 1])</code>, does <code>sum(A) = sum(B)</code> "
   ]
  },
  {
   "cell_type": "code",
   "execution_count": 116,
   "id": "b896f49d-57f9-4d96-9178-ada4b9cd4716",
   "metadata": {},
   "outputs": [
    {
     "name": "stdout",
     "output_type": "stream",
     "text": [
      "the sum of A is: 6\n",
      "the sum of B is: 3\n"
     ]
    }
   ],
   "source": [
    "# Write your code below and press Shift+Enter to execute\n",
    "A = [1, 2, 2, 1]  \n",
    "B = set([1, 2, 2, 1])\n",
    "print(\"the sum of A is:\", sum(A))\n",
    "print(\"the sum of B is:\", sum(B))"
   ]
  },
  {
   "cell_type": "markdown",
   "id": "2d7daefd-faec-402e-88e2-b69da5e2da6e",
   "metadata": {},
   "source": [
    "Create a new set <code>album_set3</code> that is the union of <code>album_set1</code> and <code>album_set2</code>:"
   ]
  },
  {
   "cell_type": "code",
   "execution_count": 117,
   "id": "1fa64d87-f215-4298-859b-b9c3d143fb66",
   "metadata": {
    "collapsed": false,
    "jupyter": {
     "outputs_hidden": false
    }
   },
   "outputs": [],
   "source": [
    "# Write your code below and press Shift+Enter to execute\n",
    "\n",
    "album_set1 = set([\"Thriller\", 'AC/DC', 'Back in Black'])\n",
    "album_set2 = set([ \"AC/DC\", \"Back in Black\", \"The Dark Side of the Moon\"])"
   ]
  },
  {
   "cell_type": "code",
   "execution_count": 118,
   "id": "b036df7f-e774-4e6f-9bb4-cc3a1a49fa69",
   "metadata": {},
   "outputs": [
    {
     "data": {
      "text/plain": [
       "{'AC/DC', 'Back in Black', 'The Dark Side of the Moon', 'Thriller'}"
      ]
     },
     "execution_count": 118,
     "metadata": {},
     "output_type": "execute_result"
    }
   ],
   "source": [
    "album_set3 = album_set1.union(album_set2)\n",
    "album_set3"
   ]
  },
  {
   "cell_type": "markdown",
   "id": "c68efef3-3cc0-4c49-ad57-03b678fa5a35",
   "metadata": {},
   "source": [
    "Find out if <code>album_set1</code> is a subset of <code>album_set3</code>:"
   ]
  },
  {
   "cell_type": "code",
   "execution_count": 119,
   "id": "aa0f1436-b95c-444e-9795-4d0dae8d867c",
   "metadata": {
    "tags": []
   },
   "outputs": [
    {
     "data": {
      "text/plain": [
       "False"
      ]
     },
     "execution_count": 119,
     "metadata": {},
     "output_type": "execute_result"
    }
   ],
   "source": [
    "# Write your code below and press Shift+Enter to execute\n",
    "album_set1.issubset({\"Back in Black\", \"AC/DC\"}) "
   ]
  },
  {
   "cell_type": "markdown",
   "id": "53173c8b-76e0-44a3-8b44-f2c2d88708d4",
   "metadata": {},
   "source": [
    "#### More set methods\n",
    "However, we can still add and delete items from a set."
   ]
  },
  {
   "cell_type": "code",
   "execution_count": 120,
   "id": "e685a332-83a8-4e1a-91dc-8e31aaf14019",
   "metadata": {},
   "outputs": [
    {
     "name": "stdout",
     "output_type": "stream",
     "text": [
      "{'Dylan', True, 26, 167.6}\n",
      "Dylan\n",
      "{True, 26, 167.6}\n",
      "{True, 167.6, 'True', 26}\n",
      "{True, 58.1, 167.6, 'True', 'brown', 26}\n"
     ]
    }
   ],
   "source": [
    "print(example_set)\n",
    "print(example_set.pop())\n",
    "print(example_set)\n",
    "\n",
    "example_set.add('True')\n",
    "print(example_set)\n",
    "example_set.update([58.1, 'brown'])\n",
    "print(example_set)"
   ]
  },
  {
   "cell_type": "code",
   "execution_count": 121,
   "id": "0de40354-8923-4787-a725-d0189da0125f",
   "metadata": {},
   "outputs": [
    {
     "data": {
      "text/plain": [
       "{10, 167.6, 26, 58.1, True, 'True', 'brown'}"
      ]
     },
     "execution_count": 121,
     "metadata": {},
     "output_type": "execute_result"
    }
   ],
   "source": [
    "# Adding an element\n",
    "example_set.add(10)\n",
    "example_set"
   ]
  },
  {
   "cell_type": "code",
   "execution_count": 122,
   "id": "3da9a547-ba44-4b48-a7ac-59bd1048ab65",
   "metadata": {},
   "outputs": [
    {
     "data": {
      "text/plain": [
       "{10, 167.6, 26, 58.1, True, 'True', 'brown'}"
      ]
     },
     "execution_count": 122,
     "metadata": {},
     "output_type": "execute_result"
    }
   ],
   "source": [
    "example_set.add(10)\n",
    "example_set"
   ]
  },
  {
   "attachments": {
    "992d43fb-a799-4ec0-a275-abe1c062f888.png": {
     "image/png": "[encoded data removed]"
    }
   },
   "cell_type": "markdown",
   "id": "81d7aa52-9cc1-4a8d-b48f-8d2d420d0004",
   "metadata": {},
   "source": [
    "The `add` method of a `set` works similarly to the `append` method of a `list`. The `update` method of a `set` works similarly to the `extend` method of a `list`.\n",
    "\n",
    "_**Why is `set` useful?**_\n",
    "\n",
    "It seems strange that we might want an _unordered_ data structure. We can't access or modify the data through indexing. How does giving up order benefit us? The answer is that it gives us flexibility about how the data is stored in memory, and that flexibility can make data retrieval much faster.\n",
    "\n",
    "Imagine we have ten boxes and ten piles of money. We put the ten piles of money in the ten boxes. Now say we want to find the box that has \\$5.37 in it. We don't know which box this is, so we start with the first box and check. If it isn't in the first box, we move on to the second box. We keep checking boxes until we find it. This might take awhile.\n",
    "\n",
    "![hash_illustration.png](attachment:992d43fb-a799-4ec0-a275-abe1c062f888.png)\n",
    "\n",
    "Now imagine we have the same ten piles of money, but we have 31 boxes. Instead of putting each pile of money into the boxes in order, instead put each pile into a box based on the amount of money in the pile. First we multiply the amount of money by 100, and then take modulus division by 31. This gives the number of the box we should put the pile of money in."
   ]
  },
  {
   "cell_type": "code",
   "execution_count": null,
   "id": "40b548a7-ec01-4701-8cc3-3a470b305ee9",
   "metadata": {},
   "outputs": [],
   "source": [
    "piles = [2.83, 8.23, 9.38, 10.23, 25.58, 0.42, 5.37, 28.10, 32.14, 7.31]"
   ]
  },
  {
   "cell_type": "code",
   "execution_count": null,
   "id": "3d6b9cb1-9887-41fd-b4b3-80ba6e0b3672",
   "metadata": {},
   "outputs": [],
   "source": [
    "def hash_function(x):\n",
    "    return int(x * 100 % 31)\n",
    "\n",
    "[hash_function(pile) for pile in piles]"
   ]
  },
  {
   "cell_type": "code",
   "execution_count": null,
   "id": "8793360c-490a-4862-9680-0ff68cc97051",
   "metadata": {},
   "outputs": [],
   "source": [
    "def hash_function(x):\n",
    "    return int(x * 100 % 31)\n",
    "\n",
    "[hash_function(pile) for pile in piles]"
   ]
  },
  {
   "cell_type": "code",
   "execution_count": null,
   "id": "df34bb11-4857-4897-905d-4541595266bb",
   "metadata": {},
   "outputs": [],
   "source": [
    "#Now say we want to find the box with \\$5.37 in it. We don't have to search through box after box. We can compute:\n",
    "print(int(5.37 * 100 % 31))"
   ]
  },
  {
   "attachments": {
    "5c826384-08e0-473b-ac2e-37c8a7a21fda.png": {
     "image/png": "[encoded data removed]"
    }
   },
   "cell_type": "markdown",
   "id": "eb238a82-d138-40d7-be8f-aac90ca35c50",
   "metadata": {},
   "source": [
    "![hash_illustration.png](attachment:5c826384-08e0-473b-ac2e-37c8a7a21fda.png)\n",
    "\n",
    "Box number 10 contains the \\$5.37 pile.\n",
    "\n",
    "This technique of assigning boxes (i.e. memory) based on the object it contains is called **hashing**. It makes searching for data very fast (as we've illustrated), but at the cost of increase memory allocation (we needed more boxes). It also means that we cannot assign an order to the objects as they are stored in memory.\n",
    "\n",
    "Hashing also puts two major restrictions on the `set`. First of all, objects in a `set` must be immutable. If an object were to change, its position in memory would no longer correspond with its **hash**. Secondly, the objects in a `set` must be unique. Identical objects end up with the same hash. Since we can't store multiple objects in the same chunk of memory, we simply discard any duplicates.\n",
    "\n",
    "This second restriction means we can use a `set` to easily determine the unique objects in a `list` or `tuple`."
   ]
  },
  {
   "cell_type": "markdown",
   "id": "315d5e14-d18c-4e5e-9fea-8d1a5a81366f",
   "metadata": {},
   "source": [
    "suppose we have 50 boxes with with we want to put in 10 piles of money, we can use the code below"
   ]
  },
  {
   "cell_type": "code",
   "execution_count": 123,
   "id": "883fc238-8999-44c1-b0fe-57a2c1953378",
   "metadata": {},
   "outputs": [
    {
     "ename": "NameError",
     "evalue": "name 'piles' is not defined",
     "output_type": "error",
     "traceback": [
      "\u001b[1;31m---------------------------------------------------------------------------\u001b[0m",
      "\u001b[1;31mNameError\u001b[0m                                 Traceback (most recent call last)",
      "\u001b[1;32mC:\\Users\\DIMARI~1\\AppData\\Local\\Temp/ipykernel_9756/2863057438.py\u001b[0m in \u001b[0;36m<module>\u001b[1;34m\u001b[0m\n\u001b[0;32m      2\u001b[0m     \u001b[1;32mreturn\u001b[0m \u001b[0mint\u001b[0m\u001b[1;33m(\u001b[0m\u001b[0mx\u001b[0m \u001b[1;33m*\u001b[0m \u001b[1;36m100\u001b[0m \u001b[1;33m%\u001b[0m \u001b[1;36m50\u001b[0m\u001b[1;33m)\u001b[0m\u001b[1;33m\u001b[0m\u001b[1;33m\u001b[0m\u001b[0m\n\u001b[0;32m      3\u001b[0m \u001b[1;33m\u001b[0m\u001b[0m\n\u001b[1;32m----> 4\u001b[1;33m \u001b[1;33m[\u001b[0m\u001b[0mhash_function\u001b[0m\u001b[1;33m(\u001b[0m\u001b[0mpile\u001b[0m\u001b[1;33m)\u001b[0m \u001b[1;32mfor\u001b[0m \u001b[0mpile\u001b[0m \u001b[1;32min\u001b[0m \u001b[0mpiles\u001b[0m\u001b[1;33m]\u001b[0m\u001b[1;33m\u001b[0m\u001b[1;33m\u001b[0m\u001b[0m\n\u001b[0m",
      "\u001b[1;31mNameError\u001b[0m: name 'piles' is not defined"
     ]
    }
   ],
   "source": [
    "def hash_function(x):\n",
    "    return int(x * 100 % 50)\n",
    "\n",
    "[hash_function(pile) for pile in piles]"
   ]
  },
  {
   "cell_type": "code",
   "execution_count": null,
   "id": "a4ad9d75-b8bb-40e3-8ac9-8a454407681e",
   "metadata": {},
   "outputs": [],
   "source": [
    "(print (int(7.3 *100 % 50)))"
   ]
  },
  {
   "cell_type": "markdown",
   "id": "0f4d7006-e886-452d-a3ff-3c7ec441c9e0",
   "metadata": {},
   "source": [
    "Unique function for set is hashing as displayed below:"
   ]
  },
  {
   "cell_type": "code",
   "execution_count": null,
   "id": "7cc0061b-0120-4ac5-a5fe-4cbe15627793",
   "metadata": {},
   "outputs": [],
   "source": [
    "new_list = 'my string'\n",
    "hash(new_list)"
   ]
  },
  {
   "cell_type": "code",
   "execution_count": 124,
   "id": "791c90b9-fdf1-4644-95ce-887e2f2ae34b",
   "metadata": {},
   "outputs": [
    {
     "name": "stdout",
     "output_type": "stream",
     "text": [
      "{609, 5, 10, 82, 340, 23, 348}\n",
      "{'q', 'b', 'c', 'a', 'd', 'r'}\n"
     ]
    }
   ],
   "source": [
    "print(set([23, 609, 348, 10, 5, 23, 340, 82]))\n",
    "print(set(('a', 'b', 'q', 'c', 'c', 'd', 'r', 'a')))"
   ]
  },
  {
   "cell_type": "code",
   "execution_count": 125,
   "id": "08d84729-ff04-45ff-895b-5e0a70cae056",
   "metadata": {},
   "outputs": [
    {
     "name": "stdout",
     "output_type": "stream",
     "text": [
      "{'biology', 'english'}\n",
      "{'theatre', 'mathematics', 'history', 'english', 'biology', 'computer science'}\n",
      "{'theatre', 'history'}\n",
      "{'computer science', 'mathematics'}\n",
      "{'theatre', 'computer science', 'mathematics', 'history'}\n"
     ]
    }
   ],
   "source": [
    "student_a_courses = {'history', 'english', 'biology', 'theatre'}\n",
    "student_b_courses = {'biology', 'english', 'mathematics', 'computer science'}\n",
    "\n",
    "print(student_a_courses.intersection(student_b_courses))\n",
    "print(student_a_courses.union(student_b_courses))\n",
    "print(student_a_courses.difference(student_b_courses))\n",
    "print(student_b_courses.difference(student_a_courses))\n",
    "print(student_a_courses.symmetric_difference(student_b_courses))"
   ]
  },
  {
   "cell_type": "markdown",
   "id": "d476e9e3-433d-49bd-b10b-65d0e53fa67e",
   "metadata": {},
   "source": [
    "<div class=\"alert alert-block alert-info\" style=\"margin-top: 20px\">\n",
    "<a id='dictionaries'></a>\n",
    "    \n",
    "### Dictionaries\n",
    "</div>"
   ]
  },
  {
   "cell_type": "markdown",
   "id": "541c64d5-fe42-4707-8628-cd4890b9e04c",
   "metadata": {},
   "source": [
    "<h3 id=\"content\">What are Dictionaries?</h3>"
   ]
  },
  {
   "cell_type": "markdown",
   "id": "a131966b-6d5e-43f3-bd85-4226f2e4fbc9",
   "metadata": {},
   "source": [
    "<img src=\"https://s3-api.us-geo.objectstorage.softlayer.net/cf-courses-data/CognitiveClass/PY0101EN/Chapter%202/Images/DictsList.png\" width=\"650\" />"
   ]
  },
  {
   "cell_type": "markdown",
   "id": "d7adadb2-97a6-453d-b547-ab800e08cf93",
   "metadata": {},
   "source": [
    "An example of a Dictionary <code>Dict</code>:"
   ]
  },
  {
   "cell_type": "code",
   "execution_count": null,
   "id": "52d56d10-0bec-4744-8160-888146e344b1",
   "metadata": {
    "collapsed": false,
    "jupyter": {
     "outputs_hidden": false
    }
   },
   "outputs": [],
   "source": [
    "# Create the dictionary\n",
    "\n",
    "Dict = {\"key1\": 1, \"key2\": \"2\", \"key3\": [3, 3, 3], \"key4\": (4, 4, 4), ('key5'): 5, (0, 1): 6}\n",
    "Dict"
   ]
  },
  {
   "cell_type": "markdown",
   "id": "5af118c9-84c7-4823-9c1a-dc9bc0bce072",
   "metadata": {},
   "source": [
    "The keys can be strings:"
   ]
  },
  {
   "cell_type": "markdown",
   "id": "a1eda5df-7823-4d46-8c71-be8f32881ed9",
   "metadata": {},
   "source": [
    "Keys can also be any immutable object such as a tuple: "
   ]
  },
  {
   "cell_type": "markdown",
   "id": "088e97ac-5d59-4d65-9724-e664ba5b411b",
   "metadata": {},
   "source": [
    " Each key is separated from its value by a colon \"<code>:</code>\".  Commas separate the items, and the whole dictionary is enclosed in curly braces. An empty dictionary without any items is written with just two curly braces, like this  \"<code>{}</code>\"."
   ]
  },
  {
   "cell_type": "code",
   "execution_count": 1,
   "id": "3026e3eb-5d65-42d0-9744-5e54468ad799",
   "metadata": {
    "collapsed": false,
    "jupyter": {
     "outputs_hidden": false
    }
   },
   "outputs": [
    {
     "data": {
      "text/plain": [
       "{'Thriller': '1982',\n",
       " 'Back in Black': '1980',\n",
       " 'The Dark Side of the Moon': '1973',\n",
       " 'The Bodyguard': '1992',\n",
       " 'Bat Out of Hell': '1977',\n",
       " 'Their Greatest Hits (1971-1975)': '1976',\n",
       " 'Saturday Night Fever': '1977',\n",
       " 'Rumours': '1977'}"
      ]
     },
     "execution_count": 1,
     "metadata": {},
     "output_type": "execute_result"
    }
   ],
   "source": [
    "# Create a sample dictionary\n",
    "\n",
    "release_year_dict = {\"Thriller\": \"1982\", \"Back in Black\": \"1980\", \\\n",
    "                    \"The Dark Side of the Moon\": \"1973\", \"The Bodyguard\": \"1992\", \\\n",
    "                    \"Bat Out of Hell\": \"1977\", \"Their Greatest Hits (1971-1975)\": \"1976\", \\\n",
    "                    \"Saturday Night Fever\": \"1977\", \"Rumours\": \"1977\"}\n",
    "release_year_dict"
   ]
  },
  {
   "cell_type": "markdown",
   "id": "d8b834bc-f6d3-4e5e-b87c-0f0163349842",
   "metadata": {},
   "source": [
    "In summary, like a list, a dictionary holds a sequence of elements. Each element is represented by a key and its corresponding value. Dictionaries are created with two curly braces containing keys and values separated by a colon. For every key, there can only be one single value, however,  multiple keys can hold the same value. Keys can only be strings, numbers, or tuples, but values can be any data type."
   ]
  },
  {
   "cell_type": "markdown",
   "id": "0fea78c0-07c7-4c94-a66f-d9a339de7dc0",
   "metadata": {},
   "source": [
    "It is helpful to visualize the dictionary as a table, as in the following image. The first column represents the keys, the second column represents the values."
   ]
  },
  {
   "cell_type": "markdown",
   "id": "4c28b1a4-420c-4289-ab64-f11d1fb35625",
   "metadata": {},
   "source": [
    "<img src=\"https://s3-api.us-geo.objectstorage.softlayer.net/cf-courses-data/CognitiveClass/PY0101EN/Chapter%202/Images/DictsStructure.png\" width=\"650\" />"
   ]
  },
  {
   "cell_type": "markdown",
   "id": "4d2672b5-1173-4bcd-a49c-3d94d6226991",
   "metadata": {},
   "source": [
    "<h3 id=\"key\">Keys</h3>"
   ]
  },
  {
   "cell_type": "markdown",
   "id": "61e3c43d-2c49-4675-ad4c-c05f4ea33637",
   "metadata": {},
   "source": [
    "You can retrieve the values based on the names:"
   ]
  },
  {
   "cell_type": "code",
   "execution_count": 2,
   "id": "48d1f8c0-5c45-4438-b971-c28a2ad907d1",
   "metadata": {
    "collapsed": false,
    "jupyter": {
     "outputs_hidden": false
    }
   },
   "outputs": [
    {
     "data": {
      "text/plain": [
       "'1980'"
      ]
     },
     "execution_count": 3,
     "metadata": {},
     "output_type": "execute_result"
    }
   ],
   "source": [
    "# Get value by keys\n",
    "release_year_dict['Thriller'] "
   ]
  },
  {
   "cell_type": "markdown",
   "id": "c5743526-8d35-4d29-b78c-8da3550f876d",
   "metadata": {},
   "source": [
    "This corresponds to: \n"
   ]
  },
  {
   "cell_type": "markdown",
   "id": "9691a834-4807-4ac8-bb6a-bb17e59a79cf",
   "metadata": {},
   "source": [
    "<img src=\"https://s3-api.us-geo.objectstorage.softlayer.net/cf-courses-data/CognitiveClass/PY0101EN/Chapter%202/Images/DictsKeyOne.png\" width=\"500\" />"
   ]
  },
  {
   "cell_type": "markdown",
   "id": "93d8735b-a09c-48cd-ac92-c2499eb56615",
   "metadata": {},
   "source": [
    "Similarly for <b>The Bodyguard</b>"
   ]
  },
  {
   "cell_type": "code",
   "execution_count": 4,
   "id": "e18df280-0658-4f77-93e9-3c8b0875ad86",
   "metadata": {
    "collapsed": false,
    "jupyter": {
     "outputs_hidden": false
    }
   },
   "outputs": [
    {
     "data": {
      "text/plain": [
       "'1992'"
      ]
     },
     "execution_count": 4,
     "metadata": {},
     "output_type": "execute_result"
    }
   ],
   "source": [
    "# Get value by key\n",
    "\n",
    "release_year_dict['The Bodyguard']"
   ]
  },
  {
   "cell_type": "markdown",
   "id": "24b48ad6-0ac6-4a5b-9fa9-d2625aa96588",
   "metadata": {},
   "source": [
    "<img src=\"https://s3-api.us-geo.objectstorage.softlayer.net/cf-courses-data/CognitiveClass/PY0101EN/Chapter%202/Images/DictsKeyTwo.png\" width=\"500\" />"
   ]
  },
  {
   "cell_type": "markdown",
   "id": "7004b34f-4167-4786-ae21-8bf3115811ae",
   "metadata": {},
   "source": [
    "Now let you retrieve the keys of the dictionary using the method <code>release_year_dict()</code>:"
   ]
  },
  {
   "cell_type": "code",
   "execution_count": 7,
   "id": "155cde71-90d4-4e21-a43c-b9d5052dd643",
   "metadata": {
    "collapsed": false,
    "jupyter": {
     "outputs_hidden": false
    }
   },
   "outputs": [
    {
     "data": {
      "text/plain": [
       "dict_keys(['Thriller', 'Back in Black', 'The Dark Side of the Moon', 'The Bodyguard', 'Bat Out of Hell', 'Their Greatest Hits (1971-1975)', 'Saturday Night Fever', 'Rumours'])"
      ]
     },
     "execution_count": 7,
     "metadata": {},
     "output_type": "execute_result"
    }
   ],
   "source": [
    "# Get all the keys in dictionary\n",
    "\n",
    "release_year_dict.keys()"
   ]
  },
  {
   "cell_type": "markdown",
   "id": "3cf85318-69d5-46a1-8e62-f8a09fd2b3b8",
   "metadata": {},
   "source": [
    "You can retrieve the values using the method  <code>values()</code>:"
   ]
  },
  {
   "cell_type": "code",
   "execution_count": 8,
   "id": "b834eb5f-e340-419d-9345-cdc96a422e56",
   "metadata": {
    "collapsed": false,
    "jupyter": {
     "outputs_hidden": false
    }
   },
   "outputs": [
    {
     "data": {
      "text/plain": [
       "dict_values(['1982', '1980', '1973', '1992', '1977', '1976', '1977', '1977'])"
      ]
     },
     "execution_count": 8,
     "metadata": {},
     "output_type": "execute_result"
    }
   ],
   "source": [
    "# Get all the values in dictionary\n",
    "\n",
    "release_year_dict.values() "
   ]
  },
  {
   "cell_type": "markdown",
   "id": "b79c0d16-a431-403e-9031-800b0e33b2e8",
   "metadata": {},
   "source": [
    "We can add an entry:"
   ]
  },
  {
   "cell_type": "code",
   "execution_count": 9,
   "id": "cd2473fb-535e-413a-9eee-1e89529b6309",
   "metadata": {
    "collapsed": false,
    "jupyter": {
     "outputs_hidden": false
    }
   },
   "outputs": [
    {
     "data": {
      "text/plain": [
       "{'Thriller': '1982',\n",
       " 'Back in Black': '1980',\n",
       " 'The Dark Side of the Moon': '1973',\n",
       " 'The Bodyguard': '1992',\n",
       " 'Bat Out of Hell': '1977',\n",
       " 'Their Greatest Hits (1971-1975)': '1976',\n",
       " 'Saturday Night Fever': '1977',\n",
       " 'Rumours': '1977',\n",
       " 'Graduation': '2007'}"
      ]
     },
     "execution_count": 9,
     "metadata": {},
     "output_type": "execute_result"
    }
   ],
   "source": [
    "# Append value with key into dictionary\n",
    "\n",
    "release_year_dict['Graduation'] = '2007'\n",
    "release_year_dict"
   ]
  },
  {
   "cell_type": "markdown",
   "id": "5a6b4bf6-940b-4233-8007-48eced63d5bd",
   "metadata": {},
   "source": [
    "We can delete an entry:   "
   ]
  },
  {
   "cell_type": "code",
   "execution_count": 10,
   "id": "50f54858-dcb7-4c84-8ccd-2834559c10b6",
   "metadata": {
    "collapsed": false,
    "jupyter": {
     "outputs_hidden": false
    }
   },
   "outputs": [
    {
     "data": {
      "text/plain": [
       "{'Back in Black': '1980',\n",
       " 'The Dark Side of the Moon': '1973',\n",
       " 'The Bodyguard': '1992',\n",
       " 'Bat Out of Hell': '1977',\n",
       " 'Their Greatest Hits (1971-1975)': '1976',\n",
       " 'Saturday Night Fever': '1977',\n",
       " 'Rumours': '1977'}"
      ]
     },
     "execution_count": 10,
     "metadata": {},
     "output_type": "execute_result"
    }
   ],
   "source": [
    "# Delete entries by key\n",
    "\n",
    "del(release_year_dict['Thriller'])\n",
    "del(release_year_dict['Graduation'])\n",
    "release_year_dict"
   ]
  },
  {
   "cell_type": "markdown",
   "id": "787383cf-e6e7-4399-b43d-4b34ff9a9fcb",
   "metadata": {},
   "source": [
    " We can verify if an element is in the dictionary: "
   ]
  },
  {
   "cell_type": "code",
   "execution_count": 11,
   "id": "d4eeef18-0f94-41d6-a242-d85c7946fa36",
   "metadata": {
    "collapsed": false,
    "jupyter": {
     "outputs_hidden": false
    }
   },
   "outputs": [
    {
     "data": {
      "text/plain": [
       "False"
      ]
     },
     "execution_count": 12,
     "metadata": {},
     "output_type": "execute_result"
    }
   ],
   "source": [
    "# Verify the key is in the dictionary\n",
    "\n",
    "'The Bodyguard' in release_year_dict"
   ]
  },
  {
   "cell_type": "markdown",
   "id": "a77e1262-849a-472f-8a06-0f13f29bce17",
   "metadata": {},
   "source": [
    "We can o understand the Python `dict`, let's start again with the Python `list`."
   ]
  },
  {
   "cell_type": "code",
   "execution_count": 14,
   "id": "692f74bc-00e9-49d0-b395-5a195c28d4e4",
   "metadata": {},
   "outputs": [],
   "source": [
    "me = ['chisom', 25, 175.6, 60.1, 'black', 'grey', True]"
   ]
  },
  {
   "cell_type": "markdown",
   "id": "bbbc6b1d-7452-4b90-9012-fa6a0697ceef",
   "metadata": {},
   "source": [
    "This `list` describes me: my name, my age, my height (in centimeters), my weight (in kilograms), my hair color, my eye color, and whether or not I have a dog. We know we can access this information individually by index."
   ]
  },
  {
   "cell_type": "code",
   "execution_count": 15,
   "id": "aeb2807f-51c5-4da9-a151-81f34f736d78",
   "metadata": {},
   "outputs": [
    {
     "name": "stdout",
     "output_type": "stream",
     "text": [
      "My name is chisom\n",
      "I have black hair\n"
     ]
    }
   ],
   "source": [
    "print('My name is %s' % me[0])\n",
    "print('I have %s hair' % me[4])"
   ]
  },
  {
   "cell_type": "markdown",
   "id": "5268095c-6359-4f2f-8e02-86a9e63dfafd",
   "metadata": {},
   "source": [
    "It would be easy to get mixed up about which data is which (for example, which `'brown'` is hair color and which is eye color?), or where I should find it (will age always be at index 1?).\n",
    "\n",
    "A better solution would be a data structure where we could index using meaningful values. For example instead of using `me[0]` to recover `Dylan`, I could use `me['name']`. Instead of hair color being `me[4]`, it could be `me['hair']`. This feature is the central characteristic of the Python `dict`."
   ]
  },
  {
   "cell_type": "code",
   "execution_count": 21,
   "id": "d49339be-982f-42c5-b6de-e952c173d5af",
   "metadata": {},
   "outputs": [
    {
     "name": "stdout",
     "output_type": "stream",
     "text": [
      "My name is Chisom\n",
      "I have black hair\n",
      "I will be 25 years old next month\n"
     ]
    }
   ],
   "source": [
    "me_dict = {'name': 'Chisom', 'age': 25, 'height': 170.1, 'weight': 60.1, \n",
    "           'hair': 'black', 'eyes': 'black', 'has dog': True}\n",
    "\n",
    "print('My name is %s' % me_dict['name'])\n",
    "print('I have %s hair' % me_dict['hair'])\n",
    "print('I will be %d years old next month' % me_dict['age'])"
   ]
  },
  {
   "cell_type": "code",
   "execution_count": 17,
   "id": "09d734d8-7f68-4f0a-88eb-9c43251c5451",
   "metadata": {},
   "outputs": [
    {
     "data": {
      "text/plain": [
       "dict_values(['Chisom', 25, 170.1, 60.1, 'black', 'black', True])"
      ]
     },
     "execution_count": 17,
     "metadata": {},
     "output_type": "execute_result"
    }
   ],
   "source": [
    "me_dict.values()"
   ]
  },
  {
   "cell_type": "code",
   "execution_count": 18,
   "id": "60144116-4667-4e6b-9df0-d52546e41ea9",
   "metadata": {},
   "outputs": [
    {
     "data": {
      "text/plain": [
       "dict_keys(['name', 'age', 'height', 'weight', 'hair', 'eyes', 'has dog'])"
      ]
     },
     "execution_count": 18,
     "metadata": {},
     "output_type": "execute_result"
    }
   ],
   "source": [
    "me_dict.keys()"
   ]
  },
  {
   "cell_type": "markdown",
   "id": "a6b837ce-40e7-476d-9417-f8d0db5fd78b",
   "metadata": {},
   "source": [
    "Instead of calling `'name'` and '`hair'` the index, we call them **keys**. Each key is associated with a **value** in a **key-value pair**. We can see the key-value pairs in the `{}` syntax used for creating a `dict`. \n",
    "Each key-value pair is separated by a comma, and within a pair the key and value are separated by a colon `:`."
   ]
  },
  {
   "cell_type": "markdown",
   "id": "bc704551-1c6f-4f69-952c-00e4568b14b7",
   "metadata": {},
   "source": [
    "### Exercises\n",
    "1. When might a `dict` be more useful than a `list`?\n",
    "2. Compare the flexibility of a `dict` which contains other `dict` object to that of a multi dimensional array."
   ]
  },
  {
   "cell_type": "markdown",
   "id": "2a36918c-4e36-4845-9ce1-27642d0c2042",
   "metadata": {},
   "source": [
    "Answers \n",
    "1. A 'dict' is more useful when want to reference each elemebt in a list and hence for easy reference we use a 'dict' rather than a list.\n",
    "\n",
    "2. \n",
    "\n",
    "|Dictionary|Multi-dimensional array|\n",
    "|---|---|\n",
    "|they are very effective in xyz| they are not effective in xyz|\n"
   ]
  },
  {
   "cell_type": "markdown",
   "id": "315c032a-3b36-48e1-9433-e7a7292acdd1",
   "metadata": {},
   "source": [
    "### `zip`\n",
    "\n",
    "The `zip` function can be very handy for creating a `dict`. Let's go back to the `list` we made before that contained all the values describing me. We'll make a second `list` containing all the keys we would want for putting these values in a dictionary"
   ]
  },
  {
   "cell_type": "code",
   "execution_count": 22,
   "id": "9a26038c-4d18-42f6-ace7-4a68bfb4d2ca",
   "metadata": {},
   "outputs": [
    {
     "name": "stdout",
     "output_type": "stream",
     "text": [
      "['chisom', 25, 175.6, 60.1, 'black', 'grey', True]\n",
      "['name', 'age', 'height', 'weight', 'hair', 'eyes', 'has dog']\n"
     ]
    }
   ],
   "source": [
    "value_list = me\n",
    "key_list = ['name', 'age', 'height', 'weight', 'hair', 'eyes', 'has dog']\n",
    "\n",
    "print(value_list)\n",
    "print(key_list)"
   ]
  },
  {
   "cell_type": "markdown",
   "id": "335163f7-f54b-40cf-983a-6b485ae55107",
   "metadata": {},
   "source": [
    "Currently we have two lists: one of values and one of keys. They have no relationship to each other within Python, but we can see that they belong together logically. How do we combine them in Python? By using the `zip` function."
   ]
  },
  {
   "cell_type": "code",
   "execution_count": 23,
   "id": "93580f32-12ca-4a98-8d43-4be3c73e6d4a",
   "metadata": {
    "scrolled": true
   },
   "outputs": [
    {
     "name": "stdout",
     "output_type": "stream",
     "text": [
      "[('name', 'chisom'), ('age', 25), ('height', 175.6), ('weight', 60.1), ('hair', 'black'), ('eyes', 'grey'), ('has dog', True)]\n"
     ]
    }
   ],
   "source": [
    "key_value_pairs = list(zip(key_list, value_list))\n",
    "print(key_value_pairs)"
   ]
  },
  {
   "cell_type": "markdown",
   "id": "09ac76cf-d9c3-48f4-8122-1a30d1798dfa",
   "metadata": {},
   "source": [
    "We now have a list of tuples. We interpret the first element of each tuple as a key, and the second element as a value. We can turn this list of tuples directly into a `dict`."
   ]
  },
  {
   "cell_type": "code",
   "execution_count": 24,
   "id": "d36c53f4-450f-4330-9eb3-e37a9d9be721",
   "metadata": {},
   "outputs": [
    {
     "name": "stdout",
     "output_type": "stream",
     "text": [
      "{'name': 'chisom', 'age': 25, 'height': 175.6, 'weight': 60.1, 'hair': 'black', 'eyes': 'grey', 'has dog': True}\n"
     ]
    }
   ],
   "source": [
    "me_dict = dict(key_value_pairs)\n",
    "print(me_dict)"
   ]
  },
  {
   "cell_type": "markdown",
   "id": "86c6ceea-30ed-41dc-badc-de16f90f8109",
   "metadata": {},
   "source": [
    "You may have noticed that even though our list of tuples began with `('name', 'Dylan')`, when we printed `me_dict` it started with `'eyes': 'brown'`. If you guessed this means that a `dict` is unordered, you are correct! The keys are hashed to assign key-value pairs to memory. Therefore, keys must be immutable and unique, similar to the elements of a `set`. However, values don't have these restrictions."
   ]
  },
  {
   "cell_type": "markdown",
   "id": "bfa2d85a-d074-49a8-92c1-a4e0f25e0078",
   "metadata": {},
   "source": [
    "### Some ways we can't write a 'dict'"
   ]
  },
  {
   "cell_type": "code",
   "execution_count": 27,
   "id": "d9e62366-1e2d-41e3-92b9-0617e55d4547",
   "metadata": {},
   "outputs": [
    {
     "name": "stderr",
     "output_type": "stream",
     "text": [
      "UsageError: Cell magic `%%expect_exception` not found.\n"
     ]
    }
   ],
   "source": [
    "%%expect_exception TypeError\n",
    "\n",
    "# this doesn't work\n",
    "invalid_dict = {[1, 5]: 'a', 5: 23}"
   ]
  },
  {
   "cell_type": "markdown",
   "id": "da60413d-426c-4f15-9b89-d89d5ec8ca81",
   "metadata": {},
   "source": [
    "The `dict` is also mutable. We can add new key-value pairs by simple assignment."
   ]
  },
  {
   "cell_type": "code",
   "execution_count": null,
   "id": "e124b849-5f5b-4dda-8c70-dc3b6b35bf84",
   "metadata": {},
   "outputs": [],
   "source": [
    "print(me_dict)\n",
    "me_dict['favorite book'] =  'The Little Prince'\n",
    "print(me_dict)"
   ]
  },
  {
   "cell_type": "markdown",
   "id": "c6349935-3d2b-48d0-b6b9-431d34f15941",
   "metadata": {},
   "source": [
    "We can also use `update`, similar to the way we used it for a `set`, except now with key-value pairs."
   ]
  },
  {
   "cell_type": "code",
   "execution_count": 36,
   "id": "63269707-f8b9-4f0f-9bcc-e5db9a4786bd",
   "metadata": {},
   "outputs": [
    {
     "name": "stdout",
     "output_type": "stream",
     "text": [
      "{'name': 'chisom', 'age': 25, 'height': 175.6, 'weight': 60.1, 'hair': 'black', 'eyes': 'grey', 'has dog': True}\n",
      "{'name': 'chisom', 'age': 25, 'height': 175.6, 'weight': 60.1, 'hair': 'black', 'eyes': 'grey', 'has dog': True, 'favorite color': 'orange', 'siblings': 3, 'nieces/nephews': 75}\n"
     ]
    }
   ],
   "source": [
    "print(me_dict)\n",
    "me_dict.update({'favorite color': 'orange', 'siblings': 3, 'nieces/nephews': 75})\n",
    "print(me_dict)"
   ]
  },
  {
   "cell_type": "markdown",
   "id": "47e54043-3e45-47bf-a660-7b16c47a7df9",
   "metadata": {},
   "source": [
    "We can replace or delete key-value pairs from the `dict`."
   ]
  },
  {
   "cell_type": "code",
   "execution_count": null,
   "id": "b79bddbc-25ab-4950-80b0-22b54b50114a",
   "metadata": {},
   "outputs": [],
   "source": [
    "del me_dict['favorite book']\n",
    "print(me_dict)"
   ]
  },
  {
   "cell_type": "code",
   "execution_count": null,
   "id": "5b1dcb44-0d01-4e12-838a-82b404ca0cbd",
   "metadata": {},
   "outputs": [],
   "source": [
    "print(me_dict.pop('siblings'))\n",
    "print(me_dict)"
   ]
  },
  {
   "cell_type": "markdown",
   "id": "19a2f73d-22f6-4b07-adee-7e3e7ca90d40",
   "metadata": {},
   "source": [
    "Because the `dict` uses hashing, searching it is very fast (as with `set`). Sometimes dictionaries are referred to as **lookup tables** or **hash tables**. It is incredibly useful for referencing data through meaningful keys. While the data in a `dict` is unordered, it remains organized by the keys. We can retrieve a list of the keys and values directly, or as key-value pairs, using the appropriate methods of `dict`."
   ]
  },
  {
   "cell_type": "code",
   "execution_count": null,
   "id": "b9a1ce2b-4558-4624-b333-23419fc28a88",
   "metadata": {},
   "outputs": [],
   "source": [
    "print(me_dict.keys())\n",
    "print(me_dict.values())\n",
    "print(me_dict.items())"
   ]
  },
  {
   "cell_type": "markdown",
   "id": "350a0b76-9dc6-4dec-8ffc-6a0eecf5c529",
   "metadata": {},
   "source": [
    "## Switching data structures\n",
    "Each of the containers we've introduced has different properties and characteristics. Sometimes we will want to change one data structure into another to take advantage of these differences. We've already seen some methods for transforming a `dict` into a `list` of `tuple`s or vice versa. We can easily transform between `list`, `tuple`, and `set`.m"
   ]
  },
  {
   "cell_type": "code",
   "execution_count": 28,
   "id": "60b701a5-70cb-4a84-a886-118fbfc2b2f0",
   "metadata": {},
   "outputs": [
    {
     "name": "stdout",
     "output_type": "stream",
     "text": [
      "('a', 'b', 23, 10, True, 'a', 10)\n",
      "{'a', True, 10, 'b', 23}\n",
      "['a', True, 10, 'b', 23]\n"
     ]
    }
   ],
   "source": [
    "example_list = ['a', 'b', 23, 10, True, 'a', 10]\n",
    "example_tuple = tuple(example_list)\n",
    "example_set = set(example_tuple)\n",
    "example_list = list(example_set)\n",
    "\n",
    "print(example_tuple)\n",
    "print(example_set)\n",
    "print(example_list) # note we lost the duplicates because of set"
   ]
  },
  {
   "cell_type": "markdown",
   "id": "d9299f2f-f677-4436-9e8d-6e4ff76b5711",
   "metadata": {},
   "source": [
    "## Search\n",
    "\n",
    "We discussed the idea of searching for data in our data structures when describing what makes `set` (and `dict`) so special. What does search look like in Python? We search for data using the keyword `in`."
   ]
  },
  {
   "cell_type": "code",
   "execution_count": 29,
   "id": "1d57805b-5589-4954-af21-cd09fe6d1575",
   "metadata": {},
   "outputs": [
    {
     "name": "stdout",
     "output_type": "stream",
     "text": [
      "['a', True, 10, 'b', 23]\n",
      "True\n",
      "False\n"
     ]
    }
   ],
   "source": [
    "print(example_list)\n",
    "print('a' in example_list)\n",
    "print('c' in example_list)"
   ]
  },
  {
   "cell_type": "markdown",
   "id": "5ae3dd0b-49ef-4121-a58e-82c72bc09244",
   "metadata": {},
   "source": [
    "When dealing with a `dict`, we can search keys, but not values."
   ]
  },
  {
   "cell_type": "code",
   "execution_count": 30,
   "id": "ee1408ae-64b8-4a32-adae-efe2bdccedeb",
   "metadata": {},
   "outputs": [
    {
     "name": "stdout",
     "output_type": "stream",
     "text": [
      "{'name': 'chisom', 'age': 25, 'height': 175.6, 'weight': 60.1, 'hair': 'black', 'eyes': 'grey', 'has dog': True}\n",
      "True\n",
      "False\n",
      "False\n"
     ]
    }
   ],
   "source": [
    "print(me_dict)\n",
    "print('hair' in me_dict)\n",
    "print('has cat' in me_dict)\n",
    "print('brown' in me_dict)"
   ]
  },
  {
   "cell_type": "markdown",
   "id": "aeae3cb2-1944-4be9-bf2e-6d152a03e268",
   "metadata": {},
   "source": [
    "Searching for keys is important in dictionaries so that we don't accidentally try to retrieve a key-value pair that doesn't exist."
   ]
  },
  {
   "cell_type": "code",
   "execution_count": 39,
   "id": "1caef53a-60cc-4286-a257-d021b15cc7b3",
   "metadata": {},
   "outputs": [],
   "source": [
    "\n",
    "\n",
    "me_dict.update({'has cat':'ukra'})"
   ]
  },
  {
   "cell_type": "code",
   "execution_count": 40,
   "id": "83a277a8-df04-4e96-ab7c-cdbe387e4d8a",
   "metadata": {},
   "outputs": [
    {
     "name": "stdout",
     "output_type": "stream",
     "text": [
      "Has dog: True\n",
      "Has cat: ukra\n"
     ]
    }
   ],
   "source": [
    "if 'has dog' in me_dict:\n",
    "    print('Has dog: %s' % me_dict['has dog'])\n",
    "else:\n",
    "    print(None)\n",
    "\n",
    "if 'has cat' in me_dict:\n",
    "    print('Has cat: %s' % me_dict['has cat'])\n",
    "else:\n",
    "    print(None)"
   ]
  },
  {
   "cell_type": "code",
   "execution_count": null,
   "id": "155319c5-0502-45bf-9778-e7c7f48a2571",
   "metadata": {},
   "outputs": [],
   "source": [
    "# can use get method for same results\n",
    "\n",
    "print('Has dog: %s' % me_dict.get('has dog'))\n",
    "print('Has cat: %s' % me_dict.get('has cat'))"
   ]
  },
  {
   "cell_type": "markdown",
   "id": "a2b55f2e-b6fe-4a78-b838-02e81e2a745c",
   "metadata": {},
   "source": [
    "## Sorting\n",
    "\n",
    "Since a `tuple` is immutable, can we sort it? Or is that a mutation? What would it mean to sort a `set` or a `dict`, which has no order?\n",
    "\n",
    "Out of the data structures we've studied so far, only `list` has a `sort` method. However, Python also has a `sorted` function, which will create a sorted `list` out of other data structures. By default `sorted` applied to a `dict` makes a `list` of sorted keys. We must use the `items` method if we want our output to be key-value pairs."
   ]
  },
  {
   "cell_type": "code",
   "execution_count": 47,
   "id": "73744ed7-88f2-4955-ad30-3c0bdf9fb235",
   "metadata": {},
   "outputs": [
    {
     "name": "stdout",
     "output_type": "stream",
     "text": [
      "['10', '10', '23', 'True', 'a', 'a', 'b']\n",
      "['10', '23', 'True', 'a', 'b']\n",
      "[('age', 25), ('eyes', 'grey'), ('favorite color', 'orange'), ('hair', 'black'), ('has cat', 'ukra'), ('has dog', True), ('height', 175.6), ('name', 'chisom'), ('nieces/nephews', 75), ('siblings', 3), ('weight', 60.1)]\n",
      "['age', 'eyes', 'favorite color', 'hair', 'has cat', 'has dog', 'height', 'name', 'nieces/nephews', 'siblings', 'weight']\n"
     ]
    }
   ],
   "source": [
    "print(sorted(map(str, example_tuple)))\n",
    "print(sorted(map(str, example_set)))\n",
    "print(sorted(me_dict.items()))\n",
    "print(sorted(me_dict))"
   ]
  },
  {
   "cell_type": "markdown",
   "id": "8786f8d7-ec9b-47a7-aad6-c29d10f44149",
   "metadata": {},
   "source": [
    "## Iteration\n",
    "\n",
    "As we've seen in some examples already, it will often be useful to iterate through a data structure, whether to execute some task based on the information contained or to transform or analyze a data set. We will most often use `for` loops to iterate over data structures. With a `list`, `tuple`, or `set` the elements of the container are returned one after another. With a `dict` things are a little more complicated: do we want to iterate over keys, values, or key-value pairs?"
   ]
  },
  {
   "cell_type": "code",
   "execution_count": null,
   "id": "01ec5976-3487-4f87-80dd-ccfefdcc2066",
   "metadata": {},
   "outputs": [],
   "source": [
    "# by default we iterate over keys of a dict\n",
    "for f in me_dict:\n",
    "    print(f)"
   ]
  },
  {
   "cell_type": "code",
   "execution_count": null,
   "id": "f3163aa8-6935-4eba-8927-2cd182f8fedc",
   "metadata": {},
   "outputs": [],
   "source": [
    "# to iterate over values...\n",
    "for y in me_dict.values():\n",
    "    print(y)"
   ]
  },
  {
   "cell_type": "code",
   "execution_count": null,
   "id": "7376afb8-a2c0-4a8b-a772-8bd316d4411b",
   "metadata": {},
   "outputs": [],
   "source": [
    "# or to iterate over key-value pairs...\n",
    "for k, v in me_dict.items():\n",
    "    print('%s:%s' % (k, v))"
   ]
  },
  {
   "cell_type": "markdown",
   "id": "274ea583-c19d-4c2f-a55b-83200223e74e",
   "metadata": {},
   "source": [
    "Notice we used `tuple` unpacking in the `for` loop in the last example!"
   ]
  },
  {
   "cell_type": "markdown",
   "id": "93f3016e-975b-4a67-982b-2e6cd128680c",
   "metadata": {},
   "source": [
    "<div class=\"alert alert-block alert-info\" style=\"margin-top: 20px\">\n",
    "<a id='after-thoughts'></a>\n",
    "    \n",
    "### After Thoughts ??\n",
    "</div>"
   ]
  },
  {
   "cell_type": "markdown",
   "id": "a4e1a230-778d-473c-a3f3-51c234cdbf91",
   "metadata": {},
   "source": [
    "What do you make of this rather simplistic structures. They are the backbone of learning python."
   ]
  },
  {
   "cell_type": "markdown",
   "id": "8a3624dd-b7b5-4a36-b423-32fb3cf7184a",
   "metadata": {},
   "source": [
    "<div class=\"alert alert-block alert-info\" style=\"margin-top: 20px\">\n",
    "<a id='assignment-link'></a>\n",
    "\n",
    "### Assignment Link\n",
    "\n",
    "</div>"
   ]
  },
  {
   "cell_type": "markdown",
   "id": "903a74c8-9ef3-4530-9988-86fdfad9f1bf",
   "metadata": {},
   "source": [
    "Now we would try out some practical examples with what we have learnt so far ! Let us try out this [notebook](https://typei.com)"
   ]
  },
  {
   "cell_type": "markdown",
   "id": "92329691-cd7a-4e9b-86fd-c11b2af09414",
   "metadata": {},
   "source": [
    "<div class=\"alert alert-block alert-info\" style=\"margin-top: 20px\">\n",
    "<a id='about'></a>\n",
    "    \n",
    "### About this Instructor:\n",
    "</div>\n",
    "<p><a href=\"https://github.com/chisomloius/\" target= \"_blank\"> ChisomLoius</a> is very passionate about Data Analysis and Machine Learning and does lot of free lance teaching and learning. Holding a B.Eng. in Petroleum Engineering, my focused is leveraging the knowledge of Data Science and Machine Learning to help build solutions in Education and High Tech Security. I currently work as a Petrochemist.\n",
    "</p>"
   ]
  },
  {
   "cell_type": "markdown",
   "id": "0269bc4e-0084-4f54-9360-57d24deecbae",
   "metadata": {},
   "source": [
    "<div class=\"alert alert-block alert-info\" style=\"margin-top: 20px\">\n",
    "<a id='more-info'></a>\n",
    "    \n",
    "### More Info\n",
    "</div>"
   ]
  },
  {
   "cell_type": "markdown",
   "id": "b3e401f3-ed2a-47cc-9f23-5ccf7a0409e2",
   "metadata": {},
   "source": [
    "\n",
    "<p> Visit our <a href=\"https://techorigin.alisutechnology.com\" target= \"_blank\">website</a>, or further enquire more information via our <a href=\"info@techorigin.alisutechnology.com\" target= \"_blank\">email</a>. \n",
    "<hr>\n",
    "<p>Copyright &copy; 2022 TechOrigin. This notebook and its source code are released under the terms of the <a href=\"https://cognitiveclass.ai/mit-license/\">MIT License</a>.</p>"
   ]
  }
 ],
 "metadata": {
  "kernelspec": {
   "display_name": "Python 3 (ipykernel)",
   "language": "python",
   "name": "python3"
  },
  "language_info": {
   "codemirror_mode": {
    "name": "ipython",
    "version": 3
   },
   "file_extension": ".py",
   "mimetype": "text/x-python",
   "name": "python",
   "nbconvert_exporter": "python",
   "pygments_lexer": "ipython3",
   "version": "3.8.3"
  }
 },
 "nbformat": 4,
 "nbformat_minor": 5
}
