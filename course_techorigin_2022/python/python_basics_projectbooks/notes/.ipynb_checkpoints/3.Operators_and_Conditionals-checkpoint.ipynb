{
 "cells": [
  {
   "cell_type": "code",
   "execution_count": null,
   "id": "da954741-e5b1-4e59-bd2e-514033d392c0",
   "metadata": {},
   "outputs": [],
   "source": [
    "Image of Tech Origin at Top left\n",
    "Link to Github Link, link to Colab "
   ]
  },
  {
   "cell_type": "code",
   "execution_count": null,
   "id": "dc1f3aa8-aaf0-4403-abc7-34f294cd7f30",
   "metadata": {},
   "outputs": [],
   "source": [
    "Title:"
   ]
  },
  {
   "cell_type": "code",
   "execution_count": null,
   "id": "f495518a-dd49-49dd-93d1-9d2bfcb861f5",
   "metadata": {},
   "outputs": [],
   "source": [
    "Table of Contents"
   ]
  },
  {
   "cell_type": "code",
   "execution_count": null,
   "id": "c031f3cb-068c-4c12-8231-7722f2059d96",
   "metadata": {},
   "outputs": [],
   "source": [
    "Content"
   ]
  },
  {
   "cell_type": "code",
   "execution_count": null,
   "id": "e128a25e-33da-4989-804f-cbc029833897",
   "metadata": {},
   "outputs": [],
   "source": [
    "After Thoughts on Lessons ???"
   ]
  },
  {
   "cell_type": "code",
   "execution_count": null,
   "id": "c744fe01-8738-4106-a279-2885d599d854",
   "metadata": {},
   "outputs": [],
   "source": [
    "Assignment Link"
   ]
  },
  {
   "cell_type": "code",
   "execution_count": null,
   "id": "85b0c3ca-f45a-457b-8eec-7ebcc5347227",
   "metadata": {},
   "outputs": [],
   "source": [
    "Author's page"
   ]
  },
  {
   "cell_type": "code",
   "execution_count": null,
   "id": "ce3c8500-2951-4ce3-96da-e241bab44592",
   "metadata": {},
   "outputs": [],
   "source": [
    "Copyright message\n",
    "Website link, Message"
   ]
  }
 ],
 "metadata": {
  "kernelspec": {
   "display_name": "Python 3 (ipykernel)",
   "language": "python",
   "name": "python3"
  },
  "language_info": {
   "codemirror_mode": {
    "name": "ipython",
    "version": 3
   },
   "file_extension": ".py",
   "mimetype": "text/x-python",
   "name": "python",
   "nbconvert_exporter": "python",
   "pygments_lexer": "ipython3",
   "version": "3.8.3"
  }
 },
 "nbformat": 4,
 "nbformat_minor": 5
}
