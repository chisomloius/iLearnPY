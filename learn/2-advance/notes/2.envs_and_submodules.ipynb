{
 "cells": [
  {
   "cell_type": "code",
   "execution_count": null,
   "id": "ba421f61-58e7-472f-a5ac-9cb45c78bdc0",
   "metadata": {},
   "outputs": [],
   "source": [
    "Image of Tech Origin at Top left\n",
    "Link to Github Link, link to Colab "
   ]
  },
  {
   "cell_type": "code",
   "execution_count": null,
   "id": "b7d0e149-a4c6-4127-b1a8-959462e83e6e",
   "metadata": {},
   "outputs": [],
   "source": [
    "Title:"
   ]
  },
  {
   "cell_type": "code",
   "execution_count": null,
   "id": "5e237cf4-38e5-431e-947b-d5f73e1aac47",
   "metadata": {},
   "outputs": [],
   "source": [
    "Table of Contents"
   ]
  },
  {
   "cell_type": "code",
   "execution_count": null,
   "id": "362d0ec6-eb58-457d-95fa-f25516d268e9",
   "metadata": {},
   "outputs": [],
   "source": [
    "Content"
   ]
  },
  {
   "cell_type": "code",
   "execution_count": null,
   "id": "b4bd7c8c-0141-4638-9eab-3484d4b518f8",
   "metadata": {},
   "outputs": [],
   "source": [
    "After Thoughts on Lessons ???"
   ]
  },
  {
   "cell_type": "code",
   "execution_count": null,
   "id": "65483a6b-e6d4-4751-b3f2-65a93dbf440a",
   "metadata": {},
   "outputs": [],
   "source": [
    "Assignment Link"
   ]
  },
  {
   "cell_type": "code",
   "execution_count": null,
   "id": "6acd7e48-446a-4b08-b2ef-dcdd73262f77",
   "metadata": {},
   "outputs": [],
   "source": [
    "Author's page"
   ]
  },
  {
   "cell_type": "code",
   "execution_count": null,
   "id": "bbc19fcd-6990-4b52-a43f-c768d113b54a",
   "metadata": {},
   "outputs": [],
   "source": [
    "Copyright message\n",
    "Website link, Message"
   ]
  }
 ],
 "metadata": {
  "kernelspec": {
   "display_name": "Python 3 (ipykernel)",
   "language": "python",
   "name": "python3"
  },
  "language_info": {
   "codemirror_mode": {
    "name": "ipython",
    "version": 3
   },
   "file_extension": ".py",
   "mimetype": "text/x-python",
   "name": "python",
   "nbconvert_exporter": "python",
   "pygments_lexer": "ipython3",
   "version": "3.8.3"
  }
 },
 "nbformat": 4,
 "nbformat_minor": 5
}
