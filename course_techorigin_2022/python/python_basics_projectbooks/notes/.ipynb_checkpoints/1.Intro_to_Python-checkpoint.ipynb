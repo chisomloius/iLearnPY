{
 "cells": [
  {
   "cell_type": "code",
   "execution_count": null,
   "id": "6b2bbac0-df76-4f0e-ab32-267498db63dc",
   "metadata": {},
   "outputs": [],
   "source": [
    "Image of Tech Origin at Top left\n",
    "Link to Github Link, link to Colab "
   ]
  },
  {
   "cell_type": "code",
   "execution_count": null,
   "id": "b444bd32-5ec1-4386-908d-51ea488b07ce",
   "metadata": {},
   "outputs": [],
   "source": [
    "Title:"
   ]
  },
  {
   "cell_type": "code",
   "execution_count": null,
   "id": "f8930c44-a1c7-4c83-887c-192ab140d8b7",
   "metadata": {},
   "outputs": [],
   "source": [
    "Table of Contents"
   ]
  },
  {
   "cell_type": "code",
   "execution_count": null,
   "id": "422e0c83-1b55-4131-91a2-3813c8b89096",
   "metadata": {},
   "outputs": [],
   "source": [
    "Content"
   ]
  },
  {
   "cell_type": "code",
   "execution_count": null,
   "id": "b82e5220-cfc6-4149-8f48-da46296d3c9f",
   "metadata": {},
   "outputs": [],
   "source": [
    "After Thoughts on Lessons ???"
   ]
  },
  {
   "cell_type": "code",
   "execution_count": null,
   "id": "14aa4f4f-94dc-4cf3-8507-901259abdbbc",
   "metadata": {},
   "outputs": [],
   "source": [
    "Assignment Link"
   ]
  },
  {
   "cell_type": "code",
   "execution_count": null,
   "id": "85489f5e-bf7b-44db-b785-3d093a004b54",
   "metadata": {},
   "outputs": [],
   "source": [
    "Author's page"
   ]
  },
  {
   "cell_type": "code",
   "execution_count": null,
   "id": "b9ace7c9-64ff-4b24-85a1-093b031b1318",
   "metadata": {},
   "outputs": [],
   "source": [
    "Copyright message\n",
    "Website link, Message"
   ]
  }
 ],
 "metadata": {
  "kernelspec": {
   "display_name": "Python 3 (ipykernel)",
   "language": "python",
   "name": "python3"
  },
  "language_info": {
   "codemirror_mode": {
    "name": "ipython",
    "version": 3
   },
   "file_extension": ".py",
   "mimetype": "text/x-python",
   "name": "python",
   "nbconvert_exporter": "python",
   "pygments_lexer": "ipython3",
   "version": "3.8.3"
  }
 },
 "nbformat": 4,
 "nbformat_minor": 5
}
