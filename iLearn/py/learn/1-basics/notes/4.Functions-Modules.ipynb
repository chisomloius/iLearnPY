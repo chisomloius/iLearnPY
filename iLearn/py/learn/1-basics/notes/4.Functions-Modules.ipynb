{
 "cells": [
  {
   "cell_type": "markdown",
   "id": "e61b36ef-7050-45f5-85aa-ebaba0662bf3",
   "metadata": {},
   "source": [
    "![logo.png](image/logo.png)\n",
    "# Functions & Modules\n",
    "\n",
    "### You can access this notebook on: \n",
    "[colab](https://colab.com/py/), [github](https://github.com/chisomloius/iLearnPy/), [kaggle](https://kaggle.com/chisomloius/ilearnPy/), [medium](https://medium.com/@chisomloius/ilearnPy/), [web](https://chisomloius.github.io), [zindi](https://zindi.com/@chisomloius/ilearnPy/)"
   ]
  },
  {
   "cell_type": "markdown",
   "id": "02f42f6c-f57b-40c8-a771-0118ec2ab361",
   "metadata": {
    "tags": []
   },
   "source": [
    "# Table of Contents\n",
    "\n",
    "### Click on the links to go directly to specific sections on  the notebook.\n",
    "\n",
    "\n",
    "1. [Import Dependencies](#dependencies)\n",
    "<br>\n",
    "2. [File Handling: Read /Write/Delete Functions](#read-write)\n",
    "<br>\n",
    "3. [Functions: Definition, Arguments, Scopes](#functions)\n",
    "<br>\n",
    "4. [Functions: Concatenation, Lambdas, Iterators, Generators](#lambdas)\n",
    "<br>\n",
    "5. [Error Handling: Try and Except Handling, Error blocking and Error Tracing](#errors)\n",
    "<br>\n",
    "6. [Assignment Link](#assignment-link)\n",
    "<br>\n",
    "7. [After Thoughts](#after-thoughts)\n",
    "<br> \n",
    "8. [About Author](#about)\n",
    "<br> \n",
    "9. [More Info](#more-info)\n",
    "<br>\n",
    "<p>Estimated time needed: <strong>50 min</strong></p>\n",
    "\n",
    "----\n"
   ]
  },
  {
   "cell_type": "markdown",
   "id": "8e067e9b-006c-48b0-b349-5baeb340a9bb",
   "metadata": {},
   "source": [
    "### Python - Let's get you writing some Python Code now!</h1>\n",
    "<p><strong>Welcome!</strong> This notebook will teach you the basics of the Python programming language. Although the information presented here is quite basic, it is an important foundation that will help you read and write Python code. By the end of this notebook, you'll know the basics of Python, including how to write basic commands, understand some basic types, and how to perform simple operations on them.</p> "
   ]
  },
  {
   "cell_type": "markdown",
   "id": "cdd7ffe8-1ff3-4dcb-b18f-4169e67e3c1a",
   "metadata": {},
   "source": [
    "<div class=\"alert alert-block alert-info\" style=\"margin-top: 20px\">\n",
    "<a id='dependencies'></a>\n",
    "    \n",
    "### Import Dependencies \n",
    "</div>"
   ]
  },
  {
   "cell_type": "code",
   "execution_count": null,
   "id": "f4f47022-5791-48b4-a5f2-01abb254190e",
   "metadata": {},
   "outputs": [],
   "source": []
  },
  {
   "cell_type": "markdown",
   "id": "c007f03d-8832-43dc-b978-fd863dd9fd61",
   "metadata": {},
   "source": [
    "<div class=\"alert alert-block alert-info\" style=\"margin-top: 20px\">\n",
    "<a id='read-write'></a>\n",
    "    \n",
    "### File Handling: Read /Write/Delete Functions \n",
    "</div>"
   ]
  },
  {
   "cell_type": "markdown",
   "id": "fd50820b-202e-4220-bd30-7cf39e446f0e",
   "metadata": {},
   "source": [
    "<p><strong>Welcome!</strong> This notebook will teach you about read and write the text to file in the Python Programming Language. By the end of this lab, you'll know how to write to file and copy the file.</p>"
   ]
  },
  {
   "cell_type": "markdown",
   "id": "db8c8e98-0377-484a-8029-5a25706d1e5e",
   "metadata": {},
   "source": [
    "#### Reading Text Files"
   ]
  },
  {
   "cell_type": "markdown",
   "id": "a65643d5-d942-46a2-89db-66f5e555f39e",
   "metadata": {},
   "source": [
    "One way to read or write a file in Python is to use the built-in <code>open</code> function. The <code>open</code> function provides a <b>File object</b> that contains the methods and attributes you need in order to read, save, and manipulate the file. In this notebook, we will only cover <b>.txt</b> files. The first parameter you need is the file path and the file name. An example is shown as follow:"
   ]
  },
  {
   "cell_type": "markdown",
   "id": "2566058b-92bf-4cd8-b522-1192724c8c9d",
   "metadata": {},
   "source": [
    "<img src=\"https://s3-api.us-geo.objectstorage.softlayer.net/cf-courses-data/CognitiveClass/PY0101EN/Chapter%204/Images/ReadOpen.png\" width=\"500\" />"
   ]
  },
  {
   "cell_type": "markdown",
   "id": "2c341b6b-ce11-4526-be98-d08f4c7b45a3",
   "metadata": {},
   "source": [
    " The mode argument is optional and the default value is <b>r</b>. In this notebook we only cover two modes: \n",
    "<ul>\n",
    "    <li><b>r</b> Read mode for reading files </li>\n",
    "    <li><b>w</b> Write mode for writing files</li>\n",
    "</ul>"
   ]
  },
  {
   "cell_type": "markdown",
   "id": "8d774ea7-a699-42c5-a23c-40d5fe5426cd",
   "metadata": {},
   "source": [
    "For the next example, we will use the text file <b>Example1.txt</b>. The file is shown as follow:"
   ]
  },
  {
   "cell_type": "markdown",
   "id": "ba765a24-0847-4b26-92f3-970e8efe511b",
   "metadata": {},
   "source": [
    "<img src=\"https://s3-api.us-geo.objectstorage.softlayer.net/cf-courses-data/CognitiveClass/PY0101EN/Chapter%204/Images/ReadFile.png\" width=\"200\" />"
   ]
  },
  {
   "cell_type": "markdown",
   "id": "0b4bfa01-6af8-4ca6-99bc-9a1061b7a679",
   "metadata": {},
   "source": [
    " We read the file: "
   ]
  },
  {
   "cell_type": "code",
   "execution_count": null,
   "id": "801fa51d-bfab-4ae1-a4d0-569cfbe92f0f",
   "metadata": {},
   "outputs": [],
   "source": [
    "# assigned_name1 = \"filepath\"\n",
    "# assigned_name2 = open(assigned_name, 'r')"
   ]
  },
  {
   "cell_type": "code",
   "execution_count": 2,
   "id": "a2f31c1d-bb2b-4302-9b3c-ff067f883d34",
   "metadata": {},
   "outputs": [
    {
     "data": {
      "text/plain": [
       "<_io.TextIOWrapper name='..\\\\data\\\\Example_1.txt' mode='r' encoding='cp1252'>"
      ]
     },
     "execution_count": 2,
     "metadata": {},
     "output_type": "execute_result"
    }
   ],
   "source": [
    "# Read the Example1.txt\n",
    "example1 = r\"..\\data\\Example_1.txt\"\n",
    "\n",
    "file1 = open(example1, \"r\")\n",
    "file1"
   ]
  },
  {
   "cell_type": "markdown",
   "id": "d4571418-a58e-4458-af25-421f071d4404",
   "metadata": {},
   "source": [
    " We can view the attributes of the file."
   ]
  },
  {
   "cell_type": "markdown",
   "id": "ce9e762f-87fe-4b5c-b3b0-39b5004d7c9c",
   "metadata": {},
   "source": [
    "The name of the file:"
   ]
  },
  {
   "cell_type": "code",
   "execution_count": 3,
   "id": "d9c1d312-2ccf-49c9-baf6-3f9c9e666787",
   "metadata": {},
   "outputs": [
    {
     "data": {
      "text/plain": [
       "'..\\\\data\\\\Example_1.txt'"
      ]
     },
     "execution_count": 3,
     "metadata": {},
     "output_type": "execute_result"
    }
   ],
   "source": [
    "# Print the path of file\n",
    "file1.name"
   ]
  },
  {
   "cell_type": "markdown",
   "id": "a3e0c24f-311a-45bd-8c9a-c6ef26511862",
   "metadata": {},
   "source": [
    " The mode the file object is in:"
   ]
  },
  {
   "cell_type": "code",
   "execution_count": 4,
   "id": "6b2c9d19-9519-4249-b9de-f38fc0e1bcfd",
   "metadata": {},
   "outputs": [
    {
     "data": {
      "text/plain": [
       "'r'"
      ]
     },
     "execution_count": 4,
     "metadata": {},
     "output_type": "execute_result"
    }
   ],
   "source": [
    "# Print the mode of file, either 'r' or 'w'\n",
    "file1.mode"
   ]
  },
  {
   "cell_type": "markdown",
   "id": "cf6c63b7-ae40-40ec-8f59-34c22159743e",
   "metadata": {},
   "source": [
    "We can read the file and assign it to a variable :"
   ]
  },
  {
   "cell_type": "code",
   "execution_count": 5,
   "id": "8e461d97-5780-456d-8865-33879fb2e11c",
   "metadata": {},
   "outputs": [
    {
     "data": {
      "text/plain": [
       "'This is line A\\nThis is line B\\nThis is line C\\nThis is line D\\n'"
      ]
     },
     "execution_count": 5,
     "metadata": {},
     "output_type": "execute_result"
    }
   ],
   "source": [
    "# Read the file\n",
    "FileContent = file1.read()\n",
    "FileContent"
   ]
  },
  {
   "cell_type": "markdown",
   "id": "5f9b6f8d-3ff5-4862-8a95-a581f12b5188",
   "metadata": {},
   "source": [
    "The <b>/n</b> means that there is a new line. "
   ]
  },
  {
   "cell_type": "markdown",
   "id": "a67e3998-4b91-48db-9ad8-4042d6bd3462",
   "metadata": {},
   "source": [
    "We can print the file: "
   ]
  },
  {
   "cell_type": "code",
   "execution_count": 6,
   "id": "5ae4d6ee-ae23-46be-92d4-5ebc51b96557",
   "metadata": {},
   "outputs": [
    {
     "name": "stdout",
     "output_type": "stream",
     "text": [
      "This is line A\n",
      "This is line B\n",
      "This is line C\n",
      "This is line D\n",
      "\n"
     ]
    }
   ],
   "source": [
    "# Print the file with '\\n' as a new line\n",
    "print(FileContent)"
   ]
  },
  {
   "cell_type": "markdown",
   "id": "814e4b93-bbb4-45a6-bf8e-2886f5f0f329",
   "metadata": {},
   "source": [
    "The file is of type string:"
   ]
  },
  {
   "cell_type": "code",
   "execution_count": 7,
   "id": "25ffd3d7-3688-4baa-bb48-aaf4a11833bc",
   "metadata": {},
   "outputs": [
    {
     "data": {
      "text/plain": [
       "str"
      ]
     },
     "execution_count": 7,
     "metadata": {},
     "output_type": "execute_result"
    }
   ],
   "source": [
    "# Type of file content\n",
    "type(FileContent)"
   ]
  },
  {
   "cell_type": "markdown",
   "id": "c5d79e9a-c260-4c38-8709-7738fe79d4b4",
   "metadata": {},
   "source": [
    " We must close the file object:"
   ]
  },
  {
   "cell_type": "code",
   "execution_count": 8,
   "id": "a1a6c451-31d4-4d85-8345-368b8147a6a5",
   "metadata": {},
   "outputs": [],
   "source": [
    "# Close file after finish\n",
    "file1.close()"
   ]
  },
  {
   "cell_type": "markdown",
   "id": "9a17c26a-266b-4360-a274-633e3812d466",
   "metadata": {},
   "source": [
    "##### A Better Way to Open a File"
   ]
  },
  {
   "cell_type": "markdown",
   "id": "9c3e9bca-292a-4aaa-bb2c-59888fb5b0e6",
   "metadata": {},
   "source": [
    "Using the <code>with</code> statement is better practice, it automatically closes the file even if the code encounters an exception. The code will run everything in the indent block then close the file object. "
   ]
  },
  {
   "cell_type": "code",
   "execution_count": 9,
   "id": "5ca21f77-0d26-47fc-a7d6-a950358f9abf",
   "metadata": {},
   "outputs": [
    {
     "name": "stdout",
     "output_type": "stream",
     "text": [
      "This is line A\n",
      "This is line B\n",
      "This is line C\n",
      "This is line D\n",
      "\n"
     ]
    }
   ],
   "source": [
    "# Open file using with\n",
    "with open(example1, \"r\") as f:\n",
    "    Content = f.read()\n",
    "    print(Content)"
   ]
  },
  {
   "cell_type": "markdown",
   "id": "fdcb7a07-e1c0-4fe0-ad29-ec98203e1bab",
   "metadata": {},
   "source": [
    "The file object is closed, you can verify it by running the following cell:  "
   ]
  },
  {
   "cell_type": "code",
   "execution_count": 11,
   "id": "4db2ccbf-387d-45ae-a09c-90d9ee7ad8c8",
   "metadata": {},
   "outputs": [
    {
     "data": {
      "text/plain": [
       "True"
      ]
     },
     "execution_count": 11,
     "metadata": {},
     "output_type": "execute_result"
    }
   ],
   "source": [
    "# Verify if the file is closed\n",
    "f.closed"
   ]
  },
  {
   "cell_type": "markdown",
   "id": "560804fe-b86f-45b7-a614-f466c0e9e0b1",
   "metadata": {},
   "source": [
    " We can see the info in the file:"
   ]
  },
  {
   "cell_type": "code",
   "execution_count": 12,
   "id": "ee95bdd1-8d7e-4fe6-8522-9da38da0a73a",
   "metadata": {},
   "outputs": [
    {
     "name": "stdout",
     "output_type": "stream",
     "text": [
      "This is line A\n",
      "This is line B\n",
      "This is line C\n",
      "This is line D\n",
      "\n"
     ]
    }
   ],
   "source": [
    "# See the content of file\n",
    "print(Content)"
   ]
  },
  {
   "cell_type": "markdown",
   "id": "6d2929ac-afca-4d77-86e8-17669ee9b111",
   "metadata": {},
   "source": [
    "The syntax is a little confusing as the file object is after the <code>as</code> statement. We also don’t explicitly close the file. Therefore we summarize the steps in a figure:"
   ]
  },
  {
   "cell_type": "markdown",
   "id": "c69aa9e4-d42d-46eb-b206-af15e62fc05f",
   "metadata": {},
   "source": [
    "<img src=\"https://s3-api.us-geo.objectstorage.softlayer.net/cf-courses-data/CognitiveClass/PY0101EN/Chapter%204/Images/ReadWith.png\" width=\"500\" />"
   ]
  },
  {
   "cell_type": "markdown",
   "id": "21d0b1ac-b10c-4fc0-b957-0978b3def170",
   "metadata": {},
   "source": [
    "We don’t have to read the entire file, for example, we can read the first 4 characters by entering three as a parameter to the method **.read()**:\n"
   ]
  },
  {
   "cell_type": "code",
   "execution_count": 13,
   "id": "3001d55f-5508-4662-8a6c-97336ae819ea",
   "metadata": {},
   "outputs": [
    {
     "name": "stdout",
     "output_type": "stream",
     "text": [
      "This\n"
     ]
    }
   ],
   "source": [
    "# Read first four characters\n",
    "with open(example1, \"r\") as f:\n",
    "    print(f.read(4))"
   ]
  },
  {
   "cell_type": "markdown",
   "id": "255594ba-cb27-4414-bb8f-8bc400b52ac0",
   "metadata": {},
   "source": [
    "Once the method <code>.read(4)</code> is called the first 4 characters are called. If we call the method again, the next 4 characters are called. The output for the following cell will demonstrate the process for different inputs to the method <code>read()</code>:"
   ]
  },
  {
   "cell_type": "code",
   "execution_count": 14,
   "id": "4b8a3e82-a85e-46bd-afb1-2ff52833a3b4",
   "metadata": {},
   "outputs": [
    {
     "name": "stdout",
     "output_type": "stream",
     "text": [
      "Th\n",
      "is i\n",
      "s line \n",
      "A\n",
      "This is line \n"
     ]
    }
   ],
   "source": [
    "# Read certain amount of characters\n",
    "with open(example1, \"r\") as f:\n",
    "    print(f.read(2))\n",
    "    print(f.read(4))\n",
    "    print(f.read(7))\n",
    "    print(f.read(15))"
   ]
  },
  {
   "cell_type": "markdown",
   "id": "e00b344b-fd2b-4f76-b016-d0da246d41d9",
   "metadata": {},
   "source": [
    "The process is illustrated in the below figure, and each color represents the part of the file read after the method <code>read()</code> is called:"
   ]
  },
  {
   "cell_type": "markdown",
   "id": "1c826895-a94f-402d-94ae-178de363c877",
   "metadata": {},
   "source": [
    "<img src=\"https://s3-api.us-geo.objectstorage.softlayer.net/cf-courses-data/CognitiveClass/PY0101EN/Chapter%204/Images/ReadChar.png\" width=\"500\" />"
   ]
  },
  {
   "cell_type": "markdown",
   "id": "829363b5-55ac-4b5c-a99f-a18892b8c2d2",
   "metadata": {},
   "source": [
    " Here is an example using the same file, but instead we read 16, 5, and then 9 characters at a time: "
   ]
  },
  {
   "cell_type": "code",
   "execution_count": 15,
   "id": "58797cd0-ec84-4141-9098-6dd20b693181",
   "metadata": {},
   "outputs": [
    {
     "name": "stdout",
     "output_type": "stream",
     "text": [
      "This is line A\n",
      "T\n",
      "his i\n",
      "s line B\n",
      "\n"
     ]
    }
   ],
   "source": [
    "# Read certain amount of characters\n",
    "with open(example1, \"r\") as f:\n",
    "    print(f.read(16))\n",
    "    print(f.read(5))\n",
    "    print(f.read(9))"
   ]
  },
  {
   "cell_type": "markdown",
   "id": "61a24d06-a15b-4286-9e7e-2474469ecd11",
   "metadata": {},
   "source": [
    "We can also read one line of the file at a time using the method <code>readline()</code>: "
   ]
  },
  {
   "cell_type": "code",
   "execution_count": 18,
   "id": "f1fdbe5b-e13e-4199-bfaa-93211361e271",
   "metadata": {},
   "outputs": [
    {
     "name": "stdout",
     "output_type": "stream",
     "text": [
      "first line: This is line A\n",
      "\n"
     ]
    }
   ],
   "source": [
    "# Read one line\n",
    "with open(example1, \"r\") as f:\n",
    "    print(\"first line: \" + f.readline())"
   ]
  },
  {
   "cell_type": "markdown",
   "id": "7eae6602-26d4-426d-9c5e-27901db3a4d2",
   "metadata": {},
   "source": [
    " We can use a loop to iterate through each line: \n"
   ]
  },
  {
   "cell_type": "code",
   "execution_count": 19,
   "id": "1eeccdc5-5360-41bb-999b-4f9f2ffd9ac9",
   "metadata": {},
   "outputs": [
    {
     "name": "stdout",
     "output_type": "stream",
     "text": [
      "Iteration 0 :  This is line A\n",
      "\n",
      "Iteration 1 :  This is line B\n",
      "\n",
      "Iteration 2 :  This is line C\n",
      "\n",
      "Iteration 3 :  This is line D\n",
      "\n"
     ]
    }
   ],
   "source": [
    "# Iterate through the lines\n",
    "with open(example1,\"r\") as f:\n",
    "        i = 0;\n",
    "        for line in f:\n",
    "            print(\"Iteration\", str(i), \": \", line)\n",
    "            i = i + 1;"
   ]
  },
  {
   "cell_type": "markdown",
   "id": "7c732646-46c8-483a-aff2-fa4a86e8abe3",
   "metadata": {},
   "source": [
    "We can use the method <code>readlines()</code> to save the text file to a list: "
   ]
  },
  {
   "cell_type": "code",
   "execution_count": 20,
   "id": "b9f111b8-a707-42a8-9433-6e3af65247c9",
   "metadata": {},
   "outputs": [],
   "source": [
    "# Read all lines and save as a list\n",
    "with open(example1, \"r\") as f:\n",
    "    FileasList = f.readlines()"
   ]
  },
  {
   "cell_type": "markdown",
   "id": "5b43509f-6897-49ff-b2ec-aa69d8a87f3d",
   "metadata": {},
   "source": [
    " Each element of the list corresponds to a line of text:"
   ]
  },
  {
   "cell_type": "code",
   "execution_count": 21,
   "id": "594d1ef9-bc73-455e-b7e5-321e545e21b2",
   "metadata": {},
   "outputs": [
    {
     "data": {
      "text/plain": [
       "'This is line A\\n'"
      ]
     },
     "execution_count": 21,
     "metadata": {},
     "output_type": "execute_result"
    }
   ],
   "source": [
    "# Print the first line\n",
    "FileasList[0]"
   ]
  },
  {
   "cell_type": "code",
   "execution_count": 22,
   "id": "8009bd18-61da-45da-b894-b2e5ebfaabc8",
   "metadata": {},
   "outputs": [
    {
     "data": {
      "text/plain": [
       "'This is line B\\n'"
      ]
     },
     "execution_count": 22,
     "metadata": {},
     "output_type": "execute_result"
    }
   ],
   "source": [
    "# Print the second line\n",
    "\n",
    "FileasList[1]"
   ]
  },
  {
   "cell_type": "code",
   "execution_count": 23,
   "id": "a832d483-3872-434e-808f-6f124fc433d4",
   "metadata": {},
   "outputs": [
    {
     "data": {
      "text/plain": [
       "'This is line C\\n'"
      ]
     },
     "execution_count": 23,
     "metadata": {},
     "output_type": "execute_result"
    }
   ],
   "source": [
    "# Print the third line\n",
    "\n",
    "FileasList[2]"
   ]
  },
  {
   "cell_type": "markdown",
   "id": "b4ef6572-2599-4ea0-b7c8-0850ba505482",
   "metadata": {},
   "source": [
    "#### Writing Files"
   ]
  },
  {
   "cell_type": "markdown",
   "id": "c28a34f0-9b26-4ff7-87a1-9e2e3e17d016",
   "metadata": {},
   "source": [
    " We can open a file object using the method <code>write()</code> to save the text file to a list. To write the mode, argument must be set to write <b>w</b>. Let’s write a file <b>Example2.txt</b> with the line: <b>“This is line A”</b>"
   ]
  },
  {
   "cell_type": "code",
   "execution_count": 27,
   "id": "0e6d0145-d308-4bcc-94fb-15c5c3af59f4",
   "metadata": {},
   "outputs": [],
   "source": [
    "# Write line to file\n",
    "path = r'..\\data\\Example_2.txt'\n",
    "\n",
    "with open(path, 'w') as w:\n",
    "    w.write(\"This is line A\")"
   ]
  },
  {
   "cell_type": "markdown",
   "id": "dfad836f-66c3-4e07-9386-0f93b3de3d61",
   "metadata": {},
   "source": [
    " We can read the file to see if it worked:"
   ]
  },
  {
   "cell_type": "code",
   "execution_count": 28,
   "id": "dd3461f7-b8ee-4f7a-84ba-3fa43f65926f",
   "metadata": {},
   "outputs": [
    {
     "name": "stdout",
     "output_type": "stream",
     "text": [
      "This is line A\n"
     ]
    }
   ],
   "source": [
    "# Read file\n",
    "with open(path, 'r') as t:\n",
    "    print(t.read())"
   ]
  },
  {
   "cell_type": "markdown",
   "id": "e05cb4df-f34c-4fbf-82e3-eed706df9aa7",
   "metadata": {},
   "source": [
    "We can write multiple lines:"
   ]
  },
  {
   "cell_type": "code",
   "execution_count": 29,
   "id": "8816b95a-a6d3-4cfa-b506-a6f6d464dedc",
   "metadata": {},
   "outputs": [],
   "source": [
    "# Write lines to file\n",
    "\n",
    "with open(r'..\\data\\Example2.txt', 'w') as w:\n",
    "    w.write(\"This is line A\\n\")\n",
    "    w.write(\"This is line B\\n\")"
   ]
  },
  {
   "cell_type": "markdown",
   "id": "620fce29-c699-4313-8c8f-2bf95e84494d",
   "metadata": {},
   "source": [
    "The method <code>.write()</code> works similar to the method <code>.readline()</code>, except instead of reading a new line it writes a new line. The process is illustrated in the figure , the different colour coding of the grid represents a new line added to the file after each method call."
   ]
  },
  {
   "cell_type": "markdown",
   "id": "74a7a833-a63e-4f98-9943-a3f5b6149e32",
   "metadata": {},
   "source": [
    "<img src=\"https://s3-api.us-geo.objectstorage.softlayer.net/cf-courses-data/CognitiveClass/PY0101EN/Chapter%204/Images/WriteLine.png\" width=\"500\" />"
   ]
  },
  {
   "cell_type": "markdown",
   "id": "fad70a3d-cb3a-445d-bbd1-b936b94e3010",
   "metadata": {},
   "source": [
    "You can check the file to see if your results are correct "
   ]
  },
  {
   "cell_type": "code",
   "execution_count": 30,
   "id": "b5482b84-b453-4e26-b306-d5343bf1a044",
   "metadata": {},
   "outputs": [
    {
     "name": "stdout",
     "output_type": "stream",
     "text": [
      "This is line A\n"
     ]
    }
   ],
   "source": [
    "# Check whether write to file\n",
    "\n",
    "with open(r'..\\data\\Example_2.txt', 'r') as t:\n",
    "    print(t.read())"
   ]
  },
  {
   "cell_type": "markdown",
   "id": "bd5489aa-22ba-423a-86ec-e237402ed70f",
   "metadata": {},
   "source": [
    " By setting the mode argument to append **a**  you can append a new line as follows:"
   ]
  },
  {
   "cell_type": "code",
   "execution_count": null,
   "id": "4ae672f4-4f3b-4edf-b277-d8f46fd7fb68",
   "metadata": {},
   "outputs": [],
   "source": [
    "# Write a new line to text file\n",
    "\n",
    "with open(r'..\\data\\Example_2.txt', 'a') as t:\n",
    "    t.write(\"This is line C\\n\")\n",
    "    t.write(\"This is line D\\n\")"
   ]
  },
  {
   "cell_type": "markdown",
   "id": "3b131b6a-c73f-48ea-b591-6be9c88cfa5d",
   "metadata": {},
   "source": [
    " You can verify the file has changed by running the following cell:"
   ]
  },
  {
   "cell_type": "code",
   "execution_count": null,
   "id": "c68b4b71-4af5-4ce5-9a7a-4b9d0c726b93",
   "metadata": {},
   "outputs": [],
   "source": [
    "# Verify if the new line is in the text file\n",
    "\n",
    "with open(r'..\\data\\Example_2.txt', 'r') as f:\n",
    "    print(f.read())"
   ]
  },
  {
   "cell_type": "markdown",
   "id": "bd128920-06d7-4177-b2bb-4c929e4ddb49",
   "metadata": {},
   "source": [
    " We write a list to a <b>.txt</b> file  as follows:"
   ]
  },
  {
   "cell_type": "code",
   "execution_count": null,
   "id": "65a6adbe-c14f-421f-b3f8-48ca78c39ecd",
   "metadata": {},
   "outputs": [],
   "source": [
    "# Sample list of text\n",
    "Lines = [\"This is line A\\n\", \"This is line B\\n\", \"This is line C\\n\"]\n",
    "Lines"
   ]
  },
  {
   "cell_type": "code",
   "execution_count": null,
   "id": "b5e6cfc7-215e-4d32-8a8e-8da30fd30e08",
   "metadata": {},
   "outputs": [],
   "source": [
    "# Write the strings in the list to text file\n",
    "\n",
    "with open('Example2.txt', 'w') as f:\n",
    "    for line in Lines:\n",
    "        print(line)\n",
    "        f.write(line)"
   ]
  },
  {
   "cell_type": "markdown",
   "id": "c568af1f-9853-4901-8fb4-c39d4df13a36",
   "metadata": {},
   "source": [
    " We can verify the file is written by reading it and printing out the values:  "
   ]
  },
  {
   "cell_type": "code",
   "execution_count": null,
   "id": "a7e26086-9f08-4b82-802c-924c54da6109",
   "metadata": {},
   "outputs": [],
   "source": [
    "# Verify if writing to file is successfully executed\n",
    "\n",
    "with open('Example_2.txt', 'r') as f:\n",
    "    print(f.read())"
   ]
  },
  {
   "cell_type": "markdown",
   "id": "8116a7f0-8202-4e42-9546-5ddecc5fbf71",
   "metadata": {},
   "source": [
    "We can again append to the file by changing the second parameter to <b>a</b>. This adds the code:"
   ]
  },
  {
   "cell_type": "code",
   "execution_count": null,
   "id": "c282cfb0-beb3-4a17-b338-7e6448dc77e0",
   "metadata": {},
   "outputs": [],
   "source": [
    "# Append the line to the file\n",
    "\n",
    "with open('Example_2.txt', 'a') as t:\n",
    "    t.write(\"This is line D\\n\")"
   ]
  },
  {
   "cell_type": "markdown",
   "id": "585a7242-be8f-490e-a86e-3019f6f90a74",
   "metadata": {},
   "source": [
    "We can see the results of appending the file: "
   ]
  },
  {
   "cell_type": "code",
   "execution_count": null,
   "id": "b8bc0527-f76a-4614-9a9e-f13bd3261775",
   "metadata": {},
   "outputs": [],
   "source": [
    "# Verify if the appending is successfully executed\n",
    "\n",
    "with open('Example2.txt', 'r') as t:\n",
    "    print(t.read())"
   ]
  },
  {
   "cell_type": "markdown",
   "id": "ea15856b-d1dd-49d2-8e9c-2cd17efcb9a7",
   "metadata": {},
   "source": [
    "#### Copy a File"
   ]
  },
  {
   "cell_type": "markdown",
   "id": "ec81ef80-eec1-4f5c-9876-27e341913e32",
   "metadata": {},
   "source": [
    "Let's copy the file <b>Example2.txt</b> to the file <b>Example3.txt</b>:"
   ]
  },
  {
   "cell_type": "code",
   "execution_count": null,
   "id": "7fd579e4-c89d-41dd-839e-bb7b29e15f8b",
   "metadata": {},
   "outputs": [],
   "source": [
    "# Copy file to another\n",
    "with open('Example2.txt','r') as r:\n",
    "    with open('Example3.txt','w') as w:\n",
    "          for line in r:\n",
    "                w.write(line)"
   ]
  },
  {
   "cell_type": "markdown",
   "id": "83ad4d6b-1d89-4af7-b3a3-84f2b6820be1",
   "metadata": {},
   "source": [
    "We can read the file to see if everything works:"
   ]
  },
  {
   "cell_type": "code",
   "execution_count": null,
   "id": "9f477c4d-98ea-46b9-8049-81febe9fa75f",
   "metadata": {},
   "outputs": [],
   "source": [
    "# Verify if the copy is successfully executed\n",
    "\n",
    "with open('Example3.txt','r') as t:\n",
    "    print(t.read())"
   ]
  },
  {
   "cell_type": "code",
   "execution_count": null,
   "id": "e296ba8b-6069-47ea-b306-cb954a0b4f12",
   "metadata": {},
   "outputs": [],
   "source": [
    "# add an extra line to example3.txt\n",
    "with open('Example3.txt', 'a') as t:\n",
    "    t.write('This is line E \\n')"
   ]
  },
  {
   "cell_type": "code",
   "execution_count": null,
   "id": "88df5cac-2780-4730-8b28-8a2383ea6ea8",
   "metadata": {},
   "outputs": [],
   "source": [
    "# confirm that the extra line has been added\n",
    "with open('Example3.txt', 'r') as t:\n",
    "    print(t.read())"
   ]
  },
  {
   "cell_type": "markdown",
   "id": "98ee5abe-01b3-4db4-be27-f8dbbc1343f6",
   "metadata": {},
   "source": [
    " After reading files, we can also write data into files and save them in different file formats like **.txt, .csv, .xls (for excel files) etc**. Let's take a look at some examples."
   ]
  },
  {
   "cell_type": "markdown",
   "id": "18c519a9-8ce6-47c1-af4e-16d4f3fe6547",
   "metadata": {},
   "source": [
    "Now go to the directory to ensure the <b>.txt</b> file exists and contains the summary data that we wrote."
   ]
  },
  {
   "cell_type": "markdown",
   "id": "dd4e753d-622f-4fcf-ac01-c0c0bdd310f2",
   "metadata": {},
   "source": [
    "<div class=\"alert alert-block alert-info\" style=\"margin-top: 20px\">\n",
    "<a id='functions'></a>\n",
    "    \n",
    "### Functions: Definition, Arguments, Scopes\n",
    "</div>"
   ]
  },
  {
   "cell_type": "markdown",
   "id": "694b308a-015c-4348-914b-85eb366ed126",
   "metadata": {},
   "source": [
    "#### Functions in Python"
   ]
  },
  {
   "cell_type": "markdown",
   "id": "4e3e4e23-7249-4bc1-8be4-e5fc858bbd65",
   "metadata": {},
   "source": [
    "<p><strong>Welcome!</strong> This notebook will teach you about the functions in the Python Programming Language. By the end of this lab, you'll know the basic concepts about function, variables, and how to use functions.</p>"
   ]
  },
  {
   "cell_type": "markdown",
   "id": "f445dd41-3d80-403d-8e3f-13f8c1d0b6b0",
   "metadata": {},
   "source": [
    "A function is a reusable block of code which performs operations specified in the function.  They let you break down tasks and allow you to reuse your code in different programs.\n",
    "\n",
    "There are two types of functions :\n",
    "\n",
    "- <b>Pre-defined functions</b>\n",
    "- <b>User defined functions</b>"
   ]
  },
  {
   "cell_type": "markdown",
   "id": "bfb3aac3-f741-4be0-a6d2-18a7a7b1e087",
   "metadata": {},
   "source": [
    "<h3 id=\"content\">What is a Function?</h3>"
   ]
  },
  {
   "cell_type": "markdown",
   "id": "cf83d1c8-6319-481f-948a-16201a793632",
   "metadata": {},
   "source": [
    "You can define functions to provide the required functionality. Here are simple rules to define a function in Python:\n",
    "-  Functions blocks begin <code>def</code> followed by the function <code>name</code> and parentheses <code>()</code>.\n",
    "-  There are input parameters or arguments that should be placed within these parentheses. \n",
    "-  You can also define parameters inside these parentheses.\n",
    "-  There is a body within every function that starts with a colon (<code>:</code>) and is indented.\n",
    "-  You can also place documentation before the body \n",
    "-  The statement <code>return</code> exits a function, optionally passing back a value \n",
    "\n",
    "An example of a function that adds on to the parameter <code>a</code> prints and returns the output as <code>b</code>:"
   ]
  },
  {
   "cell_type": "code",
   "execution_count": 32,
   "id": "94cad700-01f5-4caf-9c47-939575589725",
   "metadata": {},
   "outputs": [],
   "source": [
    "# First function example: Add 1 to a and store as b\n",
    "\n",
    "def add(a):\n",
    "    \"\"\"\n",
    "    this function add a value \n",
    "    to argument a\n",
    "    \"\"\"\n",
    "    b = a + 1\n",
    "    print(a, \"if you add one\", b)\n",
    "    return b"
   ]
  },
  {
   "cell_type": "markdown",
   "id": "039c9d59-fa15-4f2e-b44c-1bb570ccd5b2",
   "metadata": {},
   "source": [
    "The figure below illustrates the terminology: "
   ]
  },
  {
   "cell_type": "markdown",
   "id": "abcd2a4c-2aba-4a26-a54c-09d88a59b18b",
   "metadata": {},
   "source": [
    "<img src=\"https://s3-api.us-geo.objectstorage.softlayer.net/cf-courses-data/CognitiveClass/PY0101EN/Chapter%203/Images/FuncsDefinition.png\" width=\"500\" /> "
   ]
  },
  {
   "cell_type": "markdown",
   "id": "1ce82cbc-a4ad-41e2-8035-fe661a1340cf",
   "metadata": {},
   "source": [
    "We can obtain help about a function :"
   ]
  },
  {
   "cell_type": "code",
   "execution_count": 33,
   "id": "38f8e49c-d5bd-4af6-b46b-a723009e5f0b",
   "metadata": {},
   "outputs": [
    {
     "name": "stdout",
     "output_type": "stream",
     "text": [
      "Help on function add in module __main__:\n",
      "\n",
      "add(a)\n",
      "    this function add a value to argument a\n",
      "\n"
     ]
    }
   ],
   "source": [
    "# Get a help on add function\n",
    "\n",
    "help(add)"
   ]
  },
  {
   "cell_type": "markdown",
   "id": "2a5c3c17-850d-4c52-a07d-b9a32d71555b",
   "metadata": {},
   "source": [
    "We can call the function:"
   ]
  },
  {
   "cell_type": "code",
   "execution_count": 35,
   "id": "8e08b57e-998d-4d79-9e59-d9d4cbb4154e",
   "metadata": {},
   "outputs": [
    {
     "name": "stdout",
     "output_type": "stream",
     "text": [
      "16 if you add one 17\n"
     ]
    },
    {
     "data": {
      "text/plain": [
       "17"
      ]
     },
     "execution_count": 35,
     "metadata": {},
     "output_type": "execute_result"
    }
   ],
   "source": [
    "# Call the function add()\n",
    "\n",
    "add(16)"
   ]
  },
  {
   "cell_type": "markdown",
   "id": "64cda0d2-9abb-43f2-a961-ee1c3274bb57",
   "metadata": {},
   "source": [
    "If we call the function with a new input we get a new result:"
   ]
  },
  {
   "cell_type": "code",
   "execution_count": 36,
   "id": "5a4a59f9-5b59-4c89-a4ae-65c383b5db82",
   "metadata": {},
   "outputs": [
    {
     "name": "stdout",
     "output_type": "stream",
     "text": [
      "2 if you add one 3\n"
     ]
    },
    {
     "data": {
      "text/plain": [
       "3"
      ]
     },
     "execution_count": 36,
     "metadata": {},
     "output_type": "execute_result"
    }
   ],
   "source": [
    "# Call the function add()\n",
    "\n",
    "add(2)"
   ]
  },
  {
   "cell_type": "markdown",
   "id": "00cc6793-e8e7-4cda-ad83-b4cef496fd81",
   "metadata": {},
   "source": [
    "We can create different functions. For example, we can create a function that multiplies two numbers. The numbers will be represented by the variables <code>a</code> and <code>b</code>:"
   ]
  },
  {
   "cell_type": "code",
   "execution_count": 37,
   "id": "7dc39f9e-97f9-43a2-b81b-f870d7cf0aac",
   "metadata": {},
   "outputs": [],
   "source": [
    "# Define a function for multiple two numbers\n",
    "\n",
    "def Mult(a, b):\n",
    "    c = a * b\n",
    "    return(c)"
   ]
  },
  {
   "cell_type": "markdown",
   "id": "2c469e11-8b0c-486d-a720-c9ed801b1719",
   "metadata": {},
   "source": [
    "The same function can be used for different data types. For example, we can multiply two integers:\n"
   ]
  },
  {
   "cell_type": "code",
   "execution_count": 38,
   "id": "ea53776d-b74f-4d21-9172-b7aaa1fe42c4",
   "metadata": {},
   "outputs": [
    {
     "data": {
      "text/plain": [
       "6"
      ]
     },
     "execution_count": 38,
     "metadata": {},
     "output_type": "execute_result"
    }
   ],
   "source": [
    "# Use mult() multiply two integers\n",
    "\n",
    "Mult(2, 3)"
   ]
  },
  {
   "cell_type": "markdown",
   "id": "c91172bb-5138-4064-9fb7-0bf2e8b3e3b7",
   "metadata": {},
   "source": [
    " Two Floats: "
   ]
  },
  {
   "cell_type": "code",
   "execution_count": 39,
   "id": "5b4e0f25-2d30-4f72-8031-8288acdacb7a",
   "metadata": {},
   "outputs": [
    {
     "data": {
      "text/plain": [
       "31.400000000000002"
      ]
     },
     "execution_count": 39,
     "metadata": {},
     "output_type": "execute_result"
    }
   ],
   "source": [
    "# Use mult() multiply two floats\n",
    "\n",
    "Mult(10.0, 3.14)"
   ]
  },
  {
   "cell_type": "markdown",
   "id": "5ffe5a4c-f581-41c5-84ea-73e4f482d445",
   "metadata": {},
   "source": [
    "We can even replicate a string by multiplying with an integer: "
   ]
  },
  {
   "cell_type": "code",
   "execution_count": 40,
   "id": "a639a794-ce76-437f-aaa8-5692650bf95a",
   "metadata": {},
   "outputs": [
    {
     "data": {
      "text/plain": [
       "'Michael Jackson Michael Jackson '"
      ]
     },
     "execution_count": 40,
     "metadata": {},
     "output_type": "execute_result"
    }
   ],
   "source": [
    "# Use mult() multiply two different type values together\n",
    "\n",
    "Mult(2, \"Michael Jackson \")"
   ]
  },
  {
   "cell_type": "markdown",
   "id": "80250895-f466-4ef7-a850-2756909f7e2b",
   "metadata": {},
   "source": [
    "#### Variables"
   ]
  },
  {
   "cell_type": "markdown",
   "id": "8fb1b583-b9af-44eb-9539-553271f88d4e",
   "metadata": {},
   "source": [
    "The input to a function is called a formal parameter.\n",
    "\n",
    "A variable that is declared inside a function is called a  local variable. The parameter only exists within the function (i.e. the point where the function starts and stops).  \n",
    "\n",
    "A variable that is declared outside a function definition is a global variable, and its value is accessible and modifiable throughout the program. We will discuss more about global variables at the end of the lab.\n"
   ]
  },
  {
   "cell_type": "code",
   "execution_count": 41,
   "id": "e1dd94fa-4a6b-4fd4-8c92-aa7899a7b7c1",
   "metadata": {},
   "outputs": [
    {
     "name": "stdout",
     "output_type": "stream",
     "text": [
      "3 if you square a + 1 10\n"
     ]
    },
    {
     "data": {
      "text/plain": [
       "10"
      ]
     },
     "execution_count": 41,
     "metadata": {},
     "output_type": "execute_result"
    }
   ],
   "source": [
    "# Function Definition\n",
    "\n",
    "def square(a):\n",
    "    \n",
    "    # Local variable b\n",
    "    b = 1\n",
    "    c = a * a + b\n",
    "    print(a, \"if you square a + 1\", c) \n",
    "    return(c)\n",
    "\n",
    "\n",
    "square(3)"
   ]
  },
  {
   "cell_type": "markdown",
   "id": "0b0ea220-5ab6-41c8-91ff-21396ac3430f",
   "metadata": {},
   "source": [
    "The labels are displayed in the figure:  "
   ]
  },
  {
   "cell_type": "markdown",
   "id": "1e76ecfd-7653-4a90-9fbd-806f611f801a",
   "metadata": {},
   "source": [
    "<img src=\"https://s3-api.us-geo.objectstorage.softlayer.net/cf-courses-data/CognitiveClass/PY0101EN/Chapter%203/Images/FuncsVar.png\" width=\"500\" />"
   ]
  },
  {
   "cell_type": "markdown",
   "id": "ad80de01-0933-43a4-967e-f1ac964ed9ff",
   "metadata": {},
   "source": [
    "We can call the function  with an input of <b>3</b>:"
   ]
  },
  {
   "cell_type": "code",
   "execution_count": 42,
   "id": "fecf2af7-df17-4259-8ad1-dd124cf7959a",
   "metadata": {},
   "outputs": [
    {
     "name": "stdout",
     "output_type": "stream",
     "text": [
      "3 if you square a + 1 10\n"
     ]
    },
    {
     "data": {
      "text/plain": [
       "10"
      ]
     },
     "execution_count": 42,
     "metadata": {},
     "output_type": "execute_result"
    }
   ],
   "source": [
    "# Initializes Global variable  \n",
    "x = 3\n",
    "# Makes function call and return function a y\n",
    "y = square(x)\n",
    "y"
   ]
  },
  {
   "cell_type": "markdown",
   "id": "c369411d-9c5c-4a8d-b0f8-3b0c263c584a",
   "metadata": {},
   "source": [
    " We can call the function  with an input of <b>2</b> in a different manner:"
   ]
  },
  {
   "cell_type": "code",
   "execution_count": 43,
   "id": "0f4af375-df0b-46f7-8eb9-ac7251b2ea30",
   "metadata": {},
   "outputs": [
    {
     "name": "stdout",
     "output_type": "stream",
     "text": [
      "2 if you square a + 1 5\n"
     ]
    },
    {
     "data": {
      "text/plain": [
       "5"
      ]
     },
     "execution_count": 43,
     "metadata": {},
     "output_type": "execute_result"
    }
   ],
   "source": [
    "# Directly enter a number as parameter\n",
    "\n",
    "square(2)"
   ]
  },
  {
   "cell_type": "markdown",
   "id": "a30239d9-186f-43f6-9420-a77c56e3d921",
   "metadata": {},
   "source": [
    "If there is no <code>return</code> statement, the function returns <code>None</code>. The following two functions are equivalent:"
   ]
  },
  {
   "cell_type": "code",
   "execution_count": 44,
   "id": "bf59f5d5-822a-4e01-9027-71db2c4d2b69",
   "metadata": {},
   "outputs": [],
   "source": [
    "# Define functions, one with return value None and other without return value\n",
    "\n",
    "def MJ():\n",
    "    print('Michael Jackson')\n",
    "    \n",
    "def MJ1():\n",
    "    print('Michael Jackson')\n",
    "    return(None)"
   ]
  },
  {
   "cell_type": "code",
   "execution_count": 45,
   "id": "30e1fe63-184b-4a47-9308-2bfc0d1743d8",
   "metadata": {},
   "outputs": [
    {
     "name": "stdout",
     "output_type": "stream",
     "text": [
      "Michael Jackson\n"
     ]
    }
   ],
   "source": [
    "# See the output\n",
    "\n",
    "MJ()"
   ]
  },
  {
   "cell_type": "code",
   "execution_count": 46,
   "id": "a3e0c1ba-1409-4a6d-8505-3fe6ff9a335f",
   "metadata": {},
   "outputs": [
    {
     "name": "stdout",
     "output_type": "stream",
     "text": [
      "Michael Jackson\n"
     ]
    }
   ],
   "source": [
    "# See the output\n",
    "\n",
    "MJ1()"
   ]
  },
  {
   "cell_type": "markdown",
   "id": "e1400380-9c47-490c-90eb-1ea6510e3f8d",
   "metadata": {},
   "source": [
    "Printing the function after a call reveals a **None** is the default return statement:"
   ]
  },
  {
   "cell_type": "code",
   "execution_count": 47,
   "id": "4b42528f-8f32-4e32-a2c3-279af0976ed1",
   "metadata": {},
   "outputs": [
    {
     "name": "stdout",
     "output_type": "stream",
     "text": [
      "Michael Jackson\n",
      "None\n",
      "Michael Jackson\n",
      "None\n"
     ]
    }
   ],
   "source": [
    "# See what functions returns are\n",
    "\n",
    "print(MJ())\n",
    "print(MJ1())"
   ]
  },
  {
   "cell_type": "markdown",
   "id": "7dd5ffb6-58ae-4800-a78b-1e1027211875",
   "metadata": {},
   "source": [
    "Create a function <code>con</code> that  concatenates two strings using the addition operation:"
   ]
  },
  {
   "cell_type": "code",
   "execution_count": 54,
   "id": "b718dcd9-0e0f-4123-92d1-13418a241a26",
   "metadata": {},
   "outputs": [],
   "source": [
    "# Define the function for combining strings\n",
    "\n",
    "def con(a, b):\n",
    "    return(a + b)"
   ]
  },
  {
   "cell_type": "code",
   "execution_count": 56,
   "id": "5e0bf8d6-8fbd-4cbb-ad06-720cb5e97220",
   "metadata": {},
   "outputs": [
    {
     "data": {
      "text/plain": [
       "'This is '"
      ]
     },
     "execution_count": 56,
     "metadata": {},
     "output_type": "execute_result"
    }
   ],
   "source": [
    "# Test on the con() function\n",
    "\n",
    "con(\"This \", \"is \")"
   ]
  },
  {
   "cell_type": "markdown",
   "id": "5e0a1f51-5390-47e7-84f1-06075bb25173",
   "metadata": {},
   "source": [
    "<hr/>\n",
    "    <div class=\"alert alert-success alertsuccess\" style=\"margin-top: 20px\">\n",
    "        <h4> [Tip] How do I learn more about the pre-defined functions in Python? </h4>\n",
    "        <p>We will be introducing a variety of pre-defined functions to you as you learn more about Python. There are just too many functions, so there's no way we can teach them all in one sitting. But if you'd like to take a quick peek, here's a short reference card for some of the commonly-used pre-defined functions: <a href=\"http://www.astro.up.pt/~sousasag/Python_For_Astronomers/Python_qr.pdf\">Reference</a></p>\n",
    "    </div>\n",
    "<hr/>"
   ]
  },
  {
   "cell_type": "markdown",
   "id": "93b8d71b-e8a0-4fcf-826a-566459977cec",
   "metadata": {},
   "source": [
    "#### Functions Make Things Simple"
   ]
  },
  {
   "cell_type": "markdown",
   "id": "808c950f-2dd2-4ac1-9353-318e1ec2c32a",
   "metadata": {},
   "source": [
    "Consider the two lines of code in <b>Block 1</b> and <b>Block 2</b>: the procedure for each block is identical. The only thing that is different is the variable names and values."
   ]
  },
  {
   "cell_type": "markdown",
   "id": "e5cbec22-a78c-4311-9dde-055ea2f5d31e",
   "metadata": {},
   "source": [
    "<h4>Block 1:</h4>"
   ]
  },
  {
   "cell_type": "code",
   "execution_count": 57,
   "id": "52f283ec-2695-4eb1-8595-d22e027845da",
   "metadata": {},
   "outputs": [
    {
     "data": {
      "text/plain": [
       "5"
      ]
     },
     "execution_count": 57,
     "metadata": {},
     "output_type": "execute_result"
    }
   ],
   "source": [
    "# a and b calculation block1\n",
    "\n",
    "a1 = 4\n",
    "b1 = 5\n",
    "c1 = a1 + b1 + 2 * a1 * b1 - 1\n",
    "if(c1 < 0):\n",
    "    c1 = 0 \n",
    "else:\n",
    "    c1 = 5\n",
    "c1   "
   ]
  },
  {
   "cell_type": "markdown",
   "id": "0b165e93-099c-4db0-82e3-38b3e8ad8577",
   "metadata": {},
   "source": [
    "<h4>Block 2:</h4>"
   ]
  },
  {
   "cell_type": "code",
   "execution_count": 58,
   "id": "bf40632a-8b5f-42b7-931c-7478e5d875bc",
   "metadata": {},
   "outputs": [
    {
     "data": {
      "text/plain": [
       "0"
      ]
     },
     "execution_count": 58,
     "metadata": {},
     "output_type": "execute_result"
    }
   ],
   "source": [
    "# a and b calculation block2\n",
    "\n",
    "a2 = 0\n",
    "b2 = 0\n",
    "c2 = a2 + b2 + 2 * a2 * b2 - 1\n",
    "if(c2 < 0):\n",
    "    c2 = 0 \n",
    "else:\n",
    "    c2 = 5\n",
    "c2   "
   ]
  },
  {
   "cell_type": "markdown",
   "id": "f472edbd-0a67-41a6-ad51-dea9a358318c",
   "metadata": {},
   "source": [
    "We can replace the lines of code with a function. A function combines many instructions into a single line of code. Once a function is defined, it can be used repeatedly. You can invoke the same function many times in your program. You can save your function and use it in another program or use someone else’s function. The lines of code in code <b>Block 1</b> and code <b>Block 2</b> can be replaced by the following function:  "
   ]
  },
  {
   "cell_type": "code",
   "execution_count": 59,
   "id": "e025fdc3-6a34-42a7-88fa-1b0eb14b4087",
   "metadata": {},
   "outputs": [],
   "source": [
    "# Make a Function for the calculation above\n",
    "\n",
    "def Equation(a,b):\n",
    "    c = a + b + 2 * a * b - 1\n",
    "    if(c < 0):\n",
    "        c = 0 \n",
    "    else:\n",
    "        c = 5\n",
    "    return(c) "
   ]
  },
  {
   "cell_type": "markdown",
   "id": "b654500d-19cc-4b08-8353-8bdea8dabfc1",
   "metadata": {},
   "source": [
    "This function takes two inputs, a and b, then applies several operations to return c. \n",
    "We simply define the function, replace the instructions with the function, and input the new values of <code>a1</code>, <code>b1</code> and <code>a2</code>, <code>b2</code> as inputs. The entire process is demonstrated in the figure: "
   ]
  },
  {
   "cell_type": "markdown",
   "id": "e8d1fb10-07e2-46bd-9d88-285a6e75a03d",
   "metadata": {},
   "source": [
    "<img src=\"https://s3-api.us-geo.objectstorage.softlayer.net/cf-courses-data/CognitiveClass/PY0101EN/Chapter%203/Images/FuncsPros.gif\" width=\"850\" />"
   ]
  },
  {
   "cell_type": "markdown",
   "id": "b13ce043-cbcd-46d8-8b01-7a275005d2d1",
   "metadata": {},
   "source": [
    "Code **Blocks 1** and **Block 2** can now be replaced with code **Block 3** and code **Block 4**."
   ]
  },
  {
   "cell_type": "markdown",
   "id": "54d9ca8d-d5f1-4704-b263-f5aed77ee106",
   "metadata": {},
   "source": [
    "<h4>Block 3:</h4>"
   ]
  },
  {
   "cell_type": "code",
   "execution_count": 60,
   "id": "71f5a9e7-6892-4a01-839f-49a2c65aca05",
   "metadata": {},
   "outputs": [
    {
     "data": {
      "text/plain": [
       "5"
      ]
     },
     "execution_count": 60,
     "metadata": {},
     "output_type": "execute_result"
    }
   ],
   "source": [
    "a1 = 4\n",
    "b1 = 5\n",
    "c1 = Equation(a1, b1)\n",
    "c1"
   ]
  },
  {
   "cell_type": "markdown",
   "id": "ff3a72ff-c958-4521-8e90-bfade7e2d550",
   "metadata": {},
   "source": [
    "<h4>Block 4:</h4>"
   ]
  },
  {
   "cell_type": "code",
   "execution_count": 61,
   "id": "d797d705-d568-42e0-93d8-9f9808873622",
   "metadata": {},
   "outputs": [
    {
     "data": {
      "text/plain": [
       "0"
      ]
     },
     "execution_count": 61,
     "metadata": {},
     "output_type": "execute_result"
    }
   ],
   "source": [
    "a2 = 0\n",
    "b2 = 0\n",
    "c2 = Equation(a2, b2)\n",
    "c2"
   ]
  },
  {
   "cell_type": "markdown",
   "id": "5d287e46-45ad-4cde-883f-82fd56c1c623",
   "metadata": {},
   "source": [
    "<hr>"
   ]
  },
  {
   "cell_type": "markdown",
   "id": "7626cf9e-38ec-4f7a-a20d-8ac7fb20264b",
   "metadata": {},
   "source": [
    "#### Pre-defined functions"
   ]
  },
  {
   "cell_type": "markdown",
   "id": "a4e3bf69-2097-475a-b16a-b10c586c8c2c",
   "metadata": {},
   "source": [
    "There are many pre-defined functions in Python, so let's start with the simple ones."
   ]
  },
  {
   "cell_type": "markdown",
   "id": "bff1b169-fc7c-4d65-9061-bc0e21ac804d",
   "metadata": {},
   "source": [
    "The <code>print()</code> function:"
   ]
  },
  {
   "cell_type": "code",
   "execution_count": 62,
   "id": "048d1faa-9573-431f-8990-699a7c0cacf3",
   "metadata": {},
   "outputs": [
    {
     "name": "stdout",
     "output_type": "stream",
     "text": [
      "[10.0, 8.5, 9.5, 7.0, 7.0, 9.5, 9.0, 9.5]\n"
     ]
    }
   ],
   "source": [
    "# Build-in function print()\n",
    "\n",
    "album_ratings = [10.0, 8.5, 9.5, 7.0, 7.0, 9.5, 9.0, 9.5]\n",
    "\n",
    "print(album_ratings)"
   ]
  },
  {
   "cell_type": "markdown",
   "id": "65ef6129-3459-4b93-a49a-456caedd925e",
   "metadata": {},
   "source": [
    "The <code>sum()</code> function adds all the  elements in a list or tuple:"
   ]
  },
  {
   "cell_type": "code",
   "execution_count": 63,
   "id": "ed113678-326e-43b3-8623-176aa0f0994f",
   "metadata": {},
   "outputs": [
    {
     "data": {
      "text/plain": [
       "70.0"
      ]
     },
     "execution_count": 63,
     "metadata": {},
     "output_type": "execute_result"
    }
   ],
   "source": [
    "# Use sum() to add every element in a list or tuple together\n",
    "\n",
    "sum(album_ratings)"
   ]
  },
  {
   "cell_type": "markdown",
   "id": "131e6415-b0f3-4205-9aed-cda9aeb707c6",
   "metadata": {},
   "source": [
    "The <code>len()</code> function returns the length of a list or tuple: "
   ]
  },
  {
   "cell_type": "code",
   "execution_count": 64,
   "id": "c3026697-69b9-470e-b7dd-c8d2a9f570f7",
   "metadata": {},
   "outputs": [
    {
     "data": {
      "text/plain": [
       "8"
      ]
     },
     "execution_count": 64,
     "metadata": {},
     "output_type": "execute_result"
    }
   ],
   "source": [
    "# Show the length of the list or tuple\n",
    "\n",
    "len(album_ratings)"
   ]
  },
  {
   "cell_type": "markdown",
   "id": "3b6a51e7-33f3-495d-868e-5ecfebf5db59",
   "metadata": {},
   "source": [
    "#### Using <code>if</code>/<code>else</code> Statements and Loops in Functions"
   ]
  },
  {
   "cell_type": "markdown",
   "id": "193a57f8-55cc-4727-a14a-31e9c6153412",
   "metadata": {},
   "source": [
    "The <code>return()</code> function is particularly useful if you have any IF statements in the function, when you want your output to be dependent on some condition: "
   ]
  },
  {
   "cell_type": "code",
   "execution_count": 65,
   "id": "bebf15cf-991e-46f3-80d4-89ba04d8b516",
   "metadata": {},
   "outputs": [
    {
     "name": "stdout",
     "output_type": "stream",
     "text": [
      "Michael Jackson Thriller 1980\n",
      "Oldie\n"
     ]
    }
   ],
   "source": [
    "# Function example\n",
    "\n",
    "def type_of_album(artist, album, year_released):\n",
    "    \n",
    "    print(artist, album, year_released)\n",
    "    if year_released > 1980:\n",
    "        return \"Modern\"\n",
    "    else:\n",
    "        return \"Oldie\"\n",
    "    \n",
    "x = type_of_album(\"Michael Jackson\", \"Thriller\", 1980)\n",
    "print(x)"
   ]
  },
  {
   "cell_type": "code",
   "execution_count": 66,
   "id": "282d88d6-a5b0-45b1-a607-ef4f469ede4e",
   "metadata": {},
   "outputs": [
    {
     "name": "stdout",
     "output_type": "stream",
     "text": [
      "Michael Jackson Thriller 1990\n",
      "Modern\n"
     ]
    }
   ],
   "source": [
    "y = type_of_album(\"Michael Jackson\", \"Thriller\", 1990)\n",
    "print(y)"
   ]
  },
  {
   "cell_type": "markdown",
   "id": "9aaf3e0f-1b69-4f92-a20a-28d72dd48a61",
   "metadata": {},
   "source": [
    "We can use a loop in a function. For example, we can <code>print</code> out each element in a list:"
   ]
  },
  {
   "cell_type": "code",
   "execution_count": 70,
   "id": "3a9f340f-9994-4f0e-9754-2c157cc5f538",
   "metadata": {},
   "outputs": [],
   "source": [
    "# Print the list using for loop\n",
    "\n",
    "def PrintList(the_list):\n",
    "    for element in the_list:\n",
    "        print(element[i])"
   ]
  },
  {
   "cell_type": "code",
   "execution_count": 72,
   "id": "16b96d9f-0175-46aa-9865-b5932a8ec857",
   "metadata": {},
   "outputs": [],
   "source": [
    "# Implement the printlist function\n",
    "#PrintList(['1', 1, 'the man', \"abc\"])"
   ]
  },
  {
   "cell_type": "markdown",
   "id": "739361d0-0614-457c-a1ac-20fee667746c",
   "metadata": {},
   "source": [
    "<hr>"
   ]
  },
  {
   "cell_type": "markdown",
   "id": "3fc77c50-7afc-4ec9-9b46-066b8b3f68cc",
   "metadata": {},
   "source": [
    "##### Setting default argument values in your custom functions"
   ]
  },
  {
   "cell_type": "markdown",
   "id": "3a8751e1-9c8c-4420-9b2a-0d0c8fdccb76",
   "metadata": {},
   "source": [
    "You can set a default value for arguments in your function. For example, in the <code>isGoodRating()</code> function, what if we wanted to create a threshold for what we consider to be a good rating? Perhaps by default, we should have a default rating of 4:"
   ]
  },
  {
   "cell_type": "code",
   "execution_count": 73,
   "id": "6a19a9f0-8fb8-4e07-bf0a-9f2f4b90d238",
   "metadata": {},
   "outputs": [],
   "source": [
    "# Example for setting param with default value\n",
    "\n",
    "def isGoodRating(rating=4): \n",
    "    \n",
    "    if(rating < 7):\n",
    "        print(\"this album sucks it's rating is\",rating)\n",
    "        \n",
    "    else:\n",
    "        print(\"this album is good its rating is\",rating)\n"
   ]
  },
  {
   "cell_type": "code",
   "execution_count": 74,
   "id": "2f38cbe3-6021-419b-a5f6-fb60f81d32a0",
   "metadata": {},
   "outputs": [
    {
     "name": "stdout",
     "output_type": "stream",
     "text": [
      "this album sucks it's rating is 4\n",
      "this album is good its rating is 10\n"
     ]
    }
   ],
   "source": [
    "# Test the value with default value and with input\n",
    "\n",
    "isGoodRating(4)\n",
    "isGoodRating(10)"
   ]
  },
  {
   "cell_type": "markdown",
   "id": "50b6540d-440d-4deb-9d57-6bd23214f97f",
   "metadata": {},
   "source": [
    "<hr>"
   ]
  },
  {
   "cell_type": "markdown",
   "id": "338cc2ac-198b-4939-bbc6-6c3b8b07aef4",
   "metadata": {},
   "source": [
    "#### Global variables"
   ]
  },
  {
   "cell_type": "markdown",
   "id": "530d88c7-f7f0-4c0d-894d-1ce8df96a9f2",
   "metadata": {},
   "source": [
    "So far, we've been creating variables within functions, but we have not discussed variables outside the function.  These are called global variables. \n",
    "<br>\n",
    "Let's try to see what <code>printer1</code> returns:"
   ]
  },
  {
   "cell_type": "code",
   "execution_count": 90,
   "id": "2e28a89f-5ff3-4e30-a82b-c9ffe0a938a7",
   "metadata": {},
   "outputs": [
    {
     "name": "stdout",
     "output_type": "stream",
     "text": [
      "Whitney Houston is an artist\n"
     ]
    }
   ],
   "source": [
    "# Example of global variable\n",
    "\n",
    "artist = \"Michael Jackson\"\n",
    "\n",
    "def printer1(artist):\n",
    "    internal_var = artist\n",
    "    print(artist, \"is an artist\")\n",
    "    \n",
    "printer1(internal_var)"
   ]
  },
  {
   "cell_type": "markdown",
   "id": "e89031ad-aad3-4c38-93a1-369f84de94de",
   "metadata": {},
   "source": [
    "If we print <code>internal_var</code> we get an error. "
   ]
  },
  {
   "cell_type": "markdown",
   "id": "cf90c4e5-9c10-416d-ae25-2eaf480ae0bb",
   "metadata": {},
   "source": [
    "<b>We got a Name Error:  <code>name 'internal_var' is not defined</code>. Why?</b>  \n",
    "\n",
    "It's because all the variables we create in the function is a <b>local variable</b>, meaning that the variable assignment does not persist outside the function.  \n",
    "\n",
    "But there is a way to create <b>global variables</b> from within a function as follows:"
   ]
  },
  {
   "cell_type": "code",
   "execution_count": 84,
   "id": "ad892868-68c6-4202-8e4a-4352cfb77935",
   "metadata": {},
   "outputs": [
    {
     "name": "stdout",
     "output_type": "stream",
     "text": [
      "Michael Jackson is an artist\n",
      "Whitney Houston is an artist\n"
     ]
    }
   ],
   "source": [
    "artist = \"Michael Jackson\"\n",
    "\n",
    "def printer(artist):\n",
    "    global internal_var \n",
    "    internal_var= \"Whitney Houston\"\n",
    "    print(artist,\"is an artist\")\n",
    "\n",
    "printer(artist)\n",
    "printer(internal_var)"
   ]
  },
  {
   "cell_type": "markdown",
   "id": "da0c565d-f591-4608-b7a0-970fda183be7",
   "metadata": {},
   "source": [
    "#### Scope of a Variable"
   ]
  },
  {
   "cell_type": "markdown",
   "id": "5dc1ccdb-7574-43c5-98cf-0bbc5cca29c6",
   "metadata": {},
   "source": [
    " The scope of a variable is the part of that program where that variable is accessible. Variables that are declared outside of all function definitions, such as the <code>myFavouriteBand</code> variable in the code shown here, are accessible from anywhere within the program. As a result, such variables are said to have global scope, and are known as global variables. \n",
    "    <code>myFavouriteBand</code> is a global variable, so it is accessible from within the <code>getBandRating</code> function, and we can use it to determine a band's rating. We can also use it outside of the function, such as when we pass it to the print function to display it:"
   ]
  },
  {
   "cell_type": "code",
   "execution_count": 85,
   "id": "5b8b548a-deae-450d-9b84-5bfc2f8d6661",
   "metadata": {},
   "outputs": [
    {
     "name": "stdout",
     "output_type": "stream",
     "text": [
      "AC/DC's rating is: 10.0\n",
      "Deep Purple's rating is: 0.0\n",
      "My favourite band is: AC/DC\n"
     ]
    }
   ],
   "source": [
    "# Example of global variable\n",
    "\n",
    "myFavouriteBand = \"AC/DC\"\n",
    "\n",
    "def getBandRating(bandname):\n",
    "    if bandname == myFavouriteBand:\n",
    "        return 10.0\n",
    "    else:\n",
    "        return 0.0\n",
    "\n",
    "print(\"AC/DC's rating is:\", getBandRating(\"AC/DC\"))\n",
    "print(\"Deep Purple's rating is:\",getBandRating(\"Deep Purple\"))\n",
    "print(\"My favourite band is:\", myFavouriteBand)"
   ]
  },
  {
   "cell_type": "markdown",
   "id": "2caf2d1f-b154-4906-82fa-0569111a3097",
   "metadata": {},
   "source": [
    " Take a look at this modified version of our code. Now the <code>myFavouriteBand</code> variable is defined within the <code>getBandRating</code> function. A variable that is defined within a function is said to be a local variable of that function. That means that it is only accessible from within the function in which it is defined. Our `getBandRating` function will still work, because <code>myFavouriteBand</code> is still defined within the function. However, we can no longer print <code>myFavouriteBand</code> outside our function, because it is a local variable of our <code>getBandRating</code> function; it is only defined within the <code>getBandRating</code> function:"
   ]
  },
  {
   "cell_type": "code",
   "execution_count": 86,
   "id": "caa17e88-2c5f-448a-bf34-846c94dfb127",
   "metadata": {},
   "outputs": [
    {
     "name": "stdout",
     "output_type": "stream",
     "text": [
      "AC/DC's rating is:  10.0\n",
      "Deep Purple's rating is:  0.0\n",
      "My favourite band is AC/DC\n"
     ]
    }
   ],
   "source": [
    "# Example of local variable\n",
    "\n",
    "def getBandRating(bandname):\n",
    "    myFavouriteBand = \"AC/DC\"\n",
    "    if bandname == myFavouriteBand:\n",
    "        return 10.0\n",
    "    else:\n",
    "        return 0.0\n",
    "\n",
    "print(\"AC/DC's rating is: \", getBandRating(\"AC/DC\"))\n",
    "print(\"Deep Purple's rating is: \", getBandRating(\"Deep Purple\"))\n",
    "print(\"My favourite band is\", myFavouriteBand)"
   ]
  },
  {
   "cell_type": "markdown",
   "id": "ef0d6cad-8968-467a-bf3f-780fb93b0998",
   "metadata": {},
   "source": [
    " Finally, take a look at this example. We now have two <code>myFavouriteBand</code> variable definitions. The first one of these has a global scope, and the second of them is a local variable within the <code>getBandRating</code> function. Within the <code>getBandRating</code> function, the local variable takes precedence. **Deep Purple** will receive a rating of 10.0 when passed to the <code>getBandRating</code> function. However, outside of the <code>getBandRating</code> function, the <code>getBandRating</code> s local variable is not defined, so the <code>myFavouriteBand</code> variable we print is the global variable, which has a value of **AC/DC**:"
   ]
  },
  {
   "cell_type": "code",
   "execution_count": 89,
   "id": "f29fea10-ab72-40f7-a072-31255c87b31d",
   "metadata": {},
   "outputs": [
    {
     "name": "stdout",
     "output_type": "stream",
     "text": [
      "AC/DC's rating is: 0.0\n",
      "Deep Purple's rating is:  10.0\n",
      "My favourite band is: AC/DC\n"
     ]
    }
   ],
   "source": [
    "# Example of global variable and local variable with the same name\n",
    "\n",
    "myFavouriteBand = \"AC/DC\"\n",
    "\n",
    "def getBandRating(bandname):\n",
    "    myFavouriteBand = \"Deep Purple\"\n",
    "    if bandname == myFavouriteBand:\n",
    "        return 10.0\n",
    "    else:\n",
    "        return 0.0\n",
    "\n",
    "print(\"AC/DC's rating is:\",getBandRating(\"AC/DC\"))\n",
    "print(\"Deep Purple's rating is: \",getBandRating(\"Deep Purple\"))\n",
    "print(\"My favourite band is:\", myFavouriteBand)"
   ]
  },
  {
   "cell_type": "markdown",
   "id": "8950348e-c8f3-4be0-b98c-0944db0b0e55",
   "metadata": {},
   "source": [
    "<div class=\"alert alert-block alert-info\" style=\"margin-top: 20px\">\n",
    "<a id='lambdas'></a>\n",
    "    \n",
    "### Functions: String Formats, Concatenation, Lambdas, Iterators, Generators\n",
    "</div>"
   ]
  },
  {
   "cell_type": "markdown",
   "id": "233c7670-3789-40fc-8ba1-d2e6a40a7bd9",
   "metadata": {},
   "source": [
    "#### String Format function"
   ]
  },
  {
   "cell_type": "code",
   "execution_count": 1,
   "id": "9a28ffe5-df95-4fee-b6f7-92f91a02c14c",
   "metadata": {},
   "outputs": [],
   "source": [
    "name = \"okocha\"\n",
    "age =  20 \n",
    "jersey = 20"
   ]
  },
  {
   "cell_type": "code",
   "execution_count": 3,
   "id": "96268172-2d40-4b7f-961e-fb7fcef8f8be",
   "metadata": {},
   "outputs": [
    {
     "name": "stdout",
     "output_type": "stream",
     "text": [
      "okocha is 20 years old. His jersey number is 20\n"
     ]
    }
   ],
   "source": [
    "#using the f string format will help you format the print statement\n",
    "print(f\"{name} is {age} years old. His jersey number is {jersey}\")"
   ]
  },
  {
   "cell_type": "code",
   "execution_count": 4,
   "id": "5aacfdc0-2636-4c64-902d-45fb9e5d1ac9",
   "metadata": {},
   "outputs": [
    {
     "name": "stdout",
     "output_type": "stream",
     "text": [
      "okocha is 20 is 20 years old. His jersey number is 20\n"
     ]
    }
   ],
   "source": [
    "#the above code can be replaicated as this:\n",
    "\n",
    "print(\"{} is {} is 20 years old. His jersey number is {}\".format(name, age, jersey))"
   ]
  },
  {
   "cell_type": "code",
   "execution_count": 5,
   "id": "f68ba150-1b8c-4000-bd75-b28e134f39be",
   "metadata": {
    "scrolled": true
   },
   "outputs": [
    {
     "name": "stdout",
     "output_type": "stream",
     "text": [
      "I like curly brackets {}\n"
     ]
    }
   ],
   "source": [
    "print(f\"I like curly brackets {{}}\")"
   ]
  },
  {
   "cell_type": "code",
   "execution_count": 6,
   "id": "d758ac2c-d3c4-4384-9352-d2b766cacc3c",
   "metadata": {},
   "outputs": [
    {
     "name": "stdout",
     "output_type": "stream",
     "text": [
      "Neuer is the 'best' goalkeeper in the \n",
      " world\n"
     ]
    }
   ],
   "source": [
    "print(f\"Neuer is the 'best' goalkeeper in the \\n world\")"
   ]
  },
  {
   "cell_type": "markdown",
   "id": "519f81d5-8a8a-4810-9e1b-de8802e1aac7",
   "metadata": {},
   "source": [
    "#### Concatenation"
   ]
  },
  {
   "cell_type": "code",
   "execution_count": null,
   "id": "6d253c81-4fd7-4ce4-814a-92487ed18744",
   "metadata": {},
   "outputs": [],
   "source": []
  },
  {
   "cell_type": "markdown",
   "id": "99f84397-9267-485e-bb4b-5dddd8c2aa60",
   "metadata": {},
   "source": [
    "#### Lambda "
   ]
  },
  {
   "cell_type": "code",
   "execution_count": null,
   "id": "4320db4b-7585-4cf1-bfdd-5861247edb75",
   "metadata": {},
   "outputs": [],
   "source": []
  },
  {
   "cell_type": "markdown",
   "id": "4cc547db-0e69-4c37-bbe0-32da8f1e3ecd",
   "metadata": {},
   "source": [
    "#### Iterators"
   ]
  },
  {
   "cell_type": "code",
   "execution_count": null,
   "id": "cd02f505-4afc-4245-9b2f-b515f5e7e83d",
   "metadata": {},
   "outputs": [],
   "source": []
  },
  {
   "cell_type": "markdown",
   "id": "79b45ec3-36c5-45ab-8695-0b45ca3240e1",
   "metadata": {},
   "source": [
    "#### Generators"
   ]
  },
  {
   "cell_type": "code",
   "execution_count": null,
   "id": "1a297965-88e3-429f-8196-a61a65d1505b",
   "metadata": {},
   "outputs": [],
   "source": []
  },
  {
   "cell_type": "markdown",
   "id": "d2fde6da-cc81-498f-a1c8-51199fda6da2",
   "metadata": {},
   "source": [
    "#### Time it Magic"
   ]
  },
  {
   "cell_type": "code",
   "execution_count": null,
   "id": "451afe76-2b5f-460e-abbd-60c0567c608a",
   "metadata": {},
   "outputs": [],
   "source": [
    "%%timeit\n",
    "sum([1, 2, 3])"
   ]
  },
  {
   "cell_type": "markdown",
   "id": "4897cdfc-ce4d-46a5-a2cb-e63a4faeeb95",
   "metadata": {},
   "source": [
    "<div class=\"alert alert-block alert-info\" style=\"margin-top: 20px\">\n",
    "<a id='errors'></a>\n",
    "    \n",
    "### Errors: Try and Except Handling, Error blocking and Error Tracing\n",
    "</div>"
   ]
  },
  {
   "cell_type": "markdown",
   "id": "457ec399-6ad9-4c7c-9cba-1beb59ee7325",
   "metadata": {},
   "source": [
    "This is how to simply handle error and move your program cells."
   ]
  },
  {
   "cell_type": "code",
   "execution_count": 10,
   "id": "7f8dca7e-44d0-4fda-a9f0-c126cc28df02",
   "metadata": {},
   "outputs": [],
   "source": [
    "my_tuple = (1, 2, 3)"
   ]
  },
  {
   "cell_type": "code",
   "execution_count": 11,
   "id": "3d0f16b2-50be-4b8c-a2a7-0cfe3d683cb5",
   "metadata": {},
   "outputs": [
    {
     "ename": "TypeError",
     "evalue": "'tuple' object does not support item assignment",
     "output_type": "error",
     "traceback": [
      "\u001b[1;31m---------------------------------------------------------------------------\u001b[0m",
      "\u001b[1;31mTypeError\u001b[0m                                 Traceback (most recent call last)",
      "\u001b[1;32mC:\\Users\\DIMARI~1\\AppData\\Local\\Temp/ipykernel_15400/364743407.py\u001b[0m in \u001b[0;36m<module>\u001b[1;34m\u001b[0m\n\u001b[1;32m----> 1\u001b[1;33m \u001b[0mmy_tuple\u001b[0m\u001b[1;33m[\u001b[0m\u001b[1;36m0\u001b[0m\u001b[1;33m]\u001b[0m \u001b[1;33m=\u001b[0m \u001b[1;33m-\u001b[0m\u001b[1;36m1\u001b[0m\u001b[1;33m\u001b[0m\u001b[1;33m\u001b[0m\u001b[0m\n\u001b[0m",
      "\u001b[1;31mTypeError\u001b[0m: 'tuple' object does not support item assignment"
     ]
    }
   ],
   "source": [
    "my_tuple[0] = -1"
   ]
  },
  {
   "cell_type": "code",
   "execution_count": 12,
   "id": "25dd3a51-9006-4cf9-b5db-44791e3e4260",
   "metadata": {},
   "outputs": [
    {
     "name": "stdout",
     "output_type": "stream",
     "text": [
      "This can't be done\n",
      "program will not be stopped\n"
     ]
    }
   ],
   "source": [
    "try:\n",
    "    my_tuple[0] = -1\n",
    "except TypeError:\n",
    "    print(\"This can't be done\")\n",
    "    \n",
    "print(\"program will not be stopped\")"
   ]
  },
  {
   "cell_type": "code",
   "execution_count": 15,
   "id": "07ebe02d-5134-4d48-8f89-c32ebbc2e6fb",
   "metadata": {},
   "outputs": [
    {
     "name": "stdout",
     "output_type": "stream",
     "text": [
      "out of range selection\n"
     ]
    }
   ],
   "source": [
    "my_list3 = [1, 3, 5, 7]\n",
    "\n",
    "try:\n",
    "    print(my_list3[4])\n",
    "except IndexError:\n",
    "    print(\"out of range selection\")"
   ]
  },
  {
   "cell_type": "code",
   "execution_count": 19,
   "id": "4c3028fd-292f-4790-9481-393ad73d4a43",
   "metadata": {},
   "outputs": [
    {
     "name": "stdout",
     "output_type": "stream",
     "text": [
      "stopped\n"
     ]
    }
   ],
   "source": [
    "a = 1\n",
    "b = 0\n",
    "\n",
    "try:\n",
    "    print(c = a / b)\n",
    "except ZeroDivisionError:\n",
    "    print(\"stopped\")"
   ]
  },
  {
   "cell_type": "code",
   "execution_count": null,
   "id": "d64567ad-4143-4f88-8f68-17426a92d4af",
   "metadata": {},
   "outputs": [],
   "source": [
    "def division(a, b):\n",
    "    try:\n",
    "        return a/b\n",
    "    except Exception:\n",
    "        return -1"
   ]
  },
  {
   "cell_type": "markdown",
   "id": "246c2378-dfca-4a9a-86f2-8ebb7081febd",
   "metadata": {},
   "source": [
    "it is good practice to state the particular error type to get"
   ]
  },
  {
   "cell_type": "markdown",
   "id": "9093f20c-fce4-4278-923a-53c53058c217",
   "metadata": {},
   "source": [
    "*Copyright &copy; 2020 The Data Incubator.  All rights reserved.*\n",
    "**Edited by Chisiomloius**"
   ]
  },
  {
   "cell_type": "markdown",
   "id": "07b5dddd-ff5d-4951-8939-1ca91b1025ea",
   "metadata": {},
   "source": [
    "<div class=\"alert alert-block alert-info\" style=\"margin-top: 20px\">\n",
    "<a id='assignment-link'></a>\n",
    "\n",
    "### Assignment Link\n",
    "\n",
    "</div>"
   ]
  },
  {
   "cell_type": "markdown",
   "id": "3898cb10-2bce-42e6-8dad-aacde73dfe56",
   "metadata": {},
   "source": [
    "Now we would try out some practical examples with what we have learnt so far ! Let us try out this [notebook](https://typei.com)"
   ]
  },
  {
   "cell_type": "markdown",
   "id": "f1d53347-19a8-4c7c-bf1d-bc7de2b59d3a",
   "metadata": {},
   "source": [
    "<div class=\"alert alert-block alert-info\" style=\"margin-top: 20px\">\n",
    "<a id='after-thoughts'></a>\n",
    "    \n",
    "### After Thoughts ??\n",
    "</div>"
   ]
  },
  {
   "cell_type": "markdown",
   "id": "47443634-0787-4797-ae06-1ba9f33292f2",
   "metadata": {},
   "source": [
    "What do you think so far ?"
   ]
  },
  {
   "cell_type": "markdown",
   "id": "20e93da7-a46c-4d4a-956f-21db91a5e545",
   "metadata": {},
   "source": [
    "<div class=\"alert alert-block alert-info\" style=\"margin-top: 20px\">\n",
    "<a id='about'></a>\n",
    "    \n",
    "### About this Instructor:\n",
    "</div>\n",
    "<p><a href=\"https://github.com/chisomloius/\" target= \"_blank\"> ChisomLoius</a> is very passionate about Data Analysis and Machine Learning and does lot of free lance teaching and learning. Holding a B.Eng. in Petroleum Engineering, my focused is leveraging the knowledge of Data Science and Machine Learning to help build solutions in Education and High Tech Security. I currently work as a Petrochemist.\n",
    "</p>"
   ]
  },
  {
   "cell_type": "markdown",
   "id": "d36b24c3-d719-4bde-9e86-e845f53d4a2c",
   "metadata": {},
   "source": [
    "<div class=\"alert alert-block alert-info\" style=\"margin-top: 20px\">\n",
    "<a id='more-info'></a>\n",
    "    \n",
    "### More Info\n",
    "</div>"
   ]
  },
  {
   "cell_type": "markdown",
   "id": "6532a17b-c301-45a4-aec9-4202d30857aa",
   "metadata": {},
   "source": [
    "\n",
    "<p> Visit our <a href=\"https://techorigin.alisutechnology.com\" target= \"_blank\">website</a>, or further enquire more information via our <a href=\"info@techorigin.alisutechnology.com\" target= \"_blank\">email</a>. \n",
    "<hr>\n",
    "<p>Copyright &copy; 2021 TechOrigin. This notebook and its source code are released under the terms of the <a href=\"https://cognitiveclass.ai/mit-license/\">MIT License</a>.</p>"
   ]
  }
 ],
 "metadata": {
  "kernelspec": {
   "display_name": "Python 3 (ipykernel)",
   "language": "python",
   "name": "python3"
  },
  "language_info": {
   "codemirror_mode": {
    "name": "ipython",
    "version": 3
   },
   "file_extension": ".py",
   "mimetype": "text/x-python",
   "name": "python",
   "nbconvert_exporter": "python",
   "pygments_lexer": "ipython3",
   "version": "3.8.3"
  }
 },
 "nbformat": 4,
 "nbformat_minor": 5
}
